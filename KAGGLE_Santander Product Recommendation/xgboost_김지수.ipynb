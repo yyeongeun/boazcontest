{
  "nbformat": 4,
  "nbformat_minor": 0,
  "metadata": {
    "colab": {
      "name": "미니플젝.ipynb",
      "provenance": [],
      "collapsed_sections": []
    },
    "kernelspec": {
      "name": "python3",
      "display_name": "Python 3"
    },
    "accelerator": "GPU"
  },
  "cells": [
    {
      "cell_type": "code",
      "metadata": {
        "colab": {
          "base_uri": "https://localhost:8080/"
        },
        "id": "BdMipICLlgov",
        "outputId": "4d4d874a-adfa-4600-ad19-90b8027003d6"
      },
      "source": [
        "! pip install -q kaggle --upgrade #OS에 리눅스 명령\r\n",
        "from google.colab import files\r\n",
        "\r\n",
        "\r\n",
        "! mkdir ~/.kaggle\r\n",
        "! cp /content/drive/MyDrive/kaggle.json ~/.kaggle/\r\n",
        "\r\n",
        "! chmod 600 ~/.kaggle/kaggle.json\r\n",
        "! kaggle datasets list\r\n",
        "\r\n",
        "! kaggle competitions download -c competitive-data-science-predict-future-sales"
      ],
      "execution_count": 1,
      "outputs": [
        {
          "output_type": "stream",
          "text": [
            "Warning: Looks like you're using an outdated API Version, please consider updating (server 1.5.10 / client 1.5.4)\n",
            "ref                                                         title                                              size  lastUpdated          downloadCount  \n",
            "----------------------------------------------------------  ------------------------------------------------  -----  -------------------  -------------  \n",
            "gpreda/reddit-vaccine-myths                                 Reddit Vaccine Myths                              215KB  2021-03-08 07:43:38            110  \n",
            "crowww/a-large-scale-fish-dataset                           A Large Scale Fish Dataset                          3GB  2021-02-17 16:10:44            116  \n",
            "dhruvildave/wikibooks-dataset                               Wikibooks Dataset                                   1GB  2021-02-18 10:08:27            234  \n",
            "nickuzmenkov/ranzcr-clip-kfold-tfrecords                    RANZCR CLiP KFold TFRecords                         2GB  2021-02-21 13:29:51             12  \n",
            "landrykezebou/lvzhdr-tone-mapping-benchmark-dataset-tmonet  LVZ-HDR Tone Mapping Benchmark Dataset (TMO-Net)   24GB  2021-03-01 05:03:40              6  \n",
            "fatiimaezzahra/famous-iconic-women                          Famous Iconic Women                               838MB  2021-02-28 14:56:00             41  \n",
            "imsparsh/musicnet-dataset                                   MusicNet Dataset                                   22GB  2021-02-18 14:12:19             63  \n",
            "coloradokb/dandelionimages                                  DandelionImages                                     4GB  2021-02-19 20:03:47             15  \n",
            "stuartjames/lights                                          LightS: Light Specularity Dataset                  18GB  2021-02-18 14:32:26              8  \n",
            "nickuzmenkov/nih-chest-xrays-tfrecords                      NIH Chest X-rays TFRecords                          6GB  2021-03-04 09:26:08             32  \n",
            "mathurinache/the-lj-speech-dataset                          The LJ Speech Dataset                               3GB  2021-02-15 09:19:54             13  \n",
            "imsparsh/accentdb-core-extended                             AccentDB - Core & Extended                          6GB  2021-02-17 14:22:54              8  \n",
            "shivamb/netflix-shows                                       Netflix Movies and TV Shows                         1MB  2021-01-18 16:20:26         105291  \n",
            "gpreda/covid-world-vaccination-progress                     COVID-19 World Vaccination Progress               119KB  2021-03-08 07:46:09          23438  \n",
            "arashnic/hr-analytics-job-change-of-data-scientists         HR Analytics: Job Change of Data Scientists       295KB  2020-12-07 00:25:10          12213  \n",
            "michau96/restaurant-business-rankings-2020                  Restaurant Business Rankings 2020                  16KB  2021-01-30 14:20:45           6182  \n",
            "jsphyg/weather-dataset-rattle-package                       Rain in Australia                                   4MB  2020-12-11 10:26:12          36630  \n",
            "gpreda/reddit-wallstreetsbets-posts                         Reddit WallStreetBets Posts                        10MB  2021-03-08 07:45:22           2473  \n",
            "ayushggarg/all-trumps-twitter-insults-20152021              All Trump's Twitter insults (2015-2021)           581KB  2021-01-20 16:51:05           3866  \n",
            "datasnaek/youtube-new                                       Trending YouTube Video Statistics                 201MB  2019-06-03 00:56:47         129986  \n",
            "Warning: Looks like you're using an outdated API Version, please consider updating (server 1.5.10 / client 1.5.4)\n",
            "Downloading shops.csv to /content\n",
            "  0% 0.00/2.91k [00:00<?, ?B/s]\n",
            "100% 2.91k/2.91k [00:00<00:00, 4.83MB/s]\n",
            "Downloading item_categories.csv to /content\n",
            "  0% 0.00/3.49k [00:00<?, ?B/s]\n",
            "100% 3.49k/3.49k [00:00<00:00, 3.72MB/s]\n",
            "Downloading sample_submission.csv.zip to /content\n",
            "  0% 0.00/468k [00:00<?, ?B/s]\n",
            "100% 468k/468k [00:00<00:00, 66.1MB/s]\n",
            "Downloading sales_train.csv.zip to /content\n",
            " 68% 9.00M/13.3M [00:00<00:00, 44.8MB/s]\n",
            "100% 13.3M/13.3M [00:00<00:00, 44.3MB/s]\n",
            "Downloading test.csv.zip to /content\n",
            "  0% 0.00/1.02M [00:00<?, ?B/s]\n",
            "100% 1.02M/1.02M [00:00<00:00, 146MB/s]\n",
            "Downloading items.csv.zip to /content\n",
            "  0% 0.00/368k [00:00<?, ?B/s]\n",
            "100% 368k/368k [00:00<00:00, 117MB/s]\n"
          ],
          "name": "stdout"
        }
      ]
    },
    {
      "cell_type": "code",
      "metadata": {
        "colab": {
          "base_uri": "https://localhost:8080/"
        },
        "id": "SUn5WAtEmatU",
        "outputId": "960831c0-e084-443b-eadb-9ce0c0a675f9"
      },
      "source": [
        "! unzip items.csv.zip -d ./\r\n",
        "! unzip sales_train.csv.zip -d ./\r\n",
        "! unzip sample_submission.csv.zip -d ./\r\n",
        "! unzip test.csv.zip -d ./"
      ],
      "execution_count": 2,
      "outputs": [
        {
          "output_type": "stream",
          "text": [
            "Archive:  items.csv.zip\n",
            "  inflating: ./items.csv             \n",
            "Archive:  sales_train.csv.zip\n",
            "  inflating: ./sales_train.csv       \n",
            "Archive:  sample_submission.csv.zip\n",
            "  inflating: ./sample_submission.csv  \n",
            "Archive:  test.csv.zip\n",
            "  inflating: ./test.csv              \n"
          ],
          "name": "stdout"
        }
      ]
    },
    {
      "cell_type": "code",
      "metadata": {
        "colab": {
          "base_uri": "https://localhost:8080/"
        },
        "id": "a0eY4z0WmuBe",
        "outputId": "97c090e4-5547-42fc-bc58-3ee89005b936"
      },
      "source": [
        "import numpy as np\r\n",
        "import pandas as pd\r\n",
        "pd.set_option('display.max_rows', 500)\r\n",
        "pd.set_option('display.max_columns', 100)\r\n",
        "\r\n",
        "from itertools import product\r\n",
        "from sklearn.preprocessing import LabelEncoder\r\n",
        "from sklearn.metrics import mean_squared_error\r\n",
        "\r\n",
        "import seaborn as sns\r\n",
        "import matplotlib.pyplot as plt\r\n",
        "%matplotlib inline\r\n",
        "\r\n",
        "from xgboost import XGBRegressor\r\n",
        "from xgboost import plot_importance\r\n",
        "\r\n",
        "def plot_features(booster, figsize):\r\n",
        "  flg, ax = plt.subplots(1, 1, figsize=figsize)\r\n",
        "  return plot_importance(booster=booster, ax=ax)\r\n",
        "\r\n",
        "\r\n",
        "import time\r\n",
        "import sys\r\n",
        "import gc\r\n",
        "import pickle\r\n",
        "sys.version_info"
      ],
      "execution_count": 3,
      "outputs": [
        {
          "output_type": "execute_result",
          "data": {
            "text/plain": [
              "sys.version_info(major=3, minor=7, micro=10, releaselevel='final', serial=0)"
            ]
          },
          "metadata": {
            "tags": []
          },
          "execution_count": 3
        }
      ]
    },
    {
      "cell_type": "code",
      "metadata": {
        "id": "Acnh1ua1n41k"
      },
      "source": [
        "items = pd.read_csv('items.csv')\r\n",
        "shops = pd.read_csv('shops.csv')\r\n",
        "cats = pd.read_csv('item_categories.csv')\r\n",
        "train = pd.read_csv('sales_train.csv')\r\n",
        "test = pd.read_csv('test.csv').set_index('ID')"
      ],
      "execution_count": 22,
      "outputs": []
    },
    {
      "cell_type": "code",
      "metadata": {
        "id": "yQfD5AXRIsfw"
      },
      "source": [
        "test = pd.read_csv('test.csv').set_index('ID')"
      ],
      "execution_count": 20,
      "outputs": []
    },
    {
      "cell_type": "code",
      "metadata": {
        "colab": {
          "base_uri": "https://localhost:8080/",
          "height": 562
        },
        "id": "POzAqpeWoZ9s",
        "outputId": "c20448e5-78f3-43ba-ed66-a61d24bfbe7d"
      },
      "source": [
        "plt.figure(figsize=(10,4))\r\n",
        "plt.xlim(-100, 3000)\r\n",
        "sns.boxplot(x=train.item_cnt_day)\r\n",
        "\r\n",
        "plt.figure(figsize=(10,4))\r\n",
        "plt.xlim(train.item_price.min(), train.item_price.max()*1.1)\r\n",
        "sns.boxplot(x=train.item_price)"
      ],
      "execution_count": 9,
      "outputs": [
        {
          "output_type": "execute_result",
          "data": {
            "text/plain": [
              "<matplotlib.axes._subplots.AxesSubplot at 0x7f235a93fcd0>"
            ]
          },
          "metadata": {
            "tags": []
          },
          "execution_count": 9
        },
        {
          "output_type": "display_data",
          "data": {
            "image/png": "[encoded data removed]",
            "text/plain": [
              "<Figure size 720x288 with 1 Axes>"
            ]
          },
          "metadata": {
            "tags": [],
            "needs_background": "light"
          }
        },
        {
          "output_type": "display_data",
          "data": {
            "image/png": "[encoded data removed]",
            "text/plain": [
              "<Figure size 720x288 with 1 Axes>"
            ]
          },
          "metadata": {
            "tags": [],
            "needs_background": "light"
          }
        }
      ]
    },
    {
      "cell_type": "code",
      "metadata": {
        "id": "yebu1YCNo5xt"
      },
      "source": [
        "train = train[train.item_price<100000]\r\n",
        "train = train[train.item_cnt_day<1001]"
      ],
      "execution_count": 23,
      "outputs": []
    },
    {
      "cell_type": "code",
      "metadata": {
        "colab": {
          "base_uri": "https://localhost:8080/",
          "height": 299
        },
        "id": "OuCDxZ1YpEok",
        "outputId": "029540a2-91a1-4966-c5d7-0d923ba5bf0c"
      },
      "source": [
        "plt.figure(figsize=(10,4))\r\n",
        "plt.xlim(train.item_price.min(), 0)\r\n",
        "sns.boxplot(x=train.item_price)"
      ],
      "execution_count": 11,
      "outputs": [
        {
          "output_type": "execute_result",
          "data": {
            "text/plain": [
              "<matplotlib.axes._subplots.AxesSubplot at 0x7f2359fcdb50>"
            ]
          },
          "metadata": {
            "tags": []
          },
          "execution_count": 11
        },
        {
          "output_type": "display_data",
          "data": {
            "image/png": "[encoded data removed]",
            "text/plain": [
              "<Figure size 720x288 with 1 Axes>"
            ]
          },
          "metadata": {
            "tags": [],
            "needs_background": "light"
          }
        }
      ]
    },
    {
      "cell_type": "code",
      "metadata": {
        "id": "N0SkMMv5pemN"
      },
      "source": [
        "median = train[(train.shop_id==32)&(train.item_id==2973)&(train.date_block_num==4)&(train.item_price>0)].item_price.median()\r\n",
        "train.loc[train.item_price<0, 'item_price'] = median"
      ],
      "execution_count": 24,
      "outputs": []
    },
    {
      "cell_type": "code",
      "metadata": {
        "id": "iW5Cka3tp2ft"
      },
      "source": [
        "train.loc[train.shop_id==0, 'shop_id'] = 57\r\n",
        "test.loc[train.shop_id==0, 'shop_id'] = 57\r\n",
        "\r\n",
        "train.loc[train.shop_id==1, 'shop_id'] = 58\r\n",
        "test.loc[train.shop_id==1, 'shop_id'] = 58\r\n",
        "\r\n",
        "train.loc[train.shop_id==10, 'shop_id'] = 11\r\n",
        "test.loc[train.shop_id==10, 'shop_id'] = 11"
      ],
      "execution_count": 25,
      "outputs": []
    },
    {
      "cell_type": "code",
      "metadata": {
        "colab": {
          "base_uri": "https://localhost:8080/",
          "height": 202
        },
        "id": "I8D55D0rqMDa",
        "outputId": "0fdad9b4-8202-4e58-844b-266b27dc8cf3"
      },
      "source": [
        "shops.head()"
      ],
      "execution_count": 14,
      "outputs": [
        {
          "output_type": "execute_result",
          "data": {
            "text/html": [
              "<div>\n",
              "<style scoped>\n",
              "    .dataframe tbody tr th:only-of-type {\n",
              "        vertical-align: middle;\n",
              "    }\n",
              "\n",
              "    .dataframe tbody tr th {\n",
              "        vertical-align: top;\n",
              "    }\n",
              "\n",
              "    .dataframe thead th {\n",
              "        text-align: right;\n",
              "    }\n",
              "</style>\n",
              "<table border=\"1\" class=\"dataframe\">\n",
              "  <thead>\n",
              "    <tr style=\"text-align: right;\">\n",
              "      <th></th>\n",
              "      <th>shop_name</th>\n",
              "      <th>shop_id</th>\n",
              "    </tr>\n",
              "  </thead>\n",
              "  <tbody>\n",
              "    <tr>\n",
              "      <th>0</th>\n",
              "      <td>!Якутск Орджоникидзе, 56 фран</td>\n",
              "      <td>0</td>\n",
              "    </tr>\n",
              "    <tr>\n",
              "      <th>1</th>\n",
              "      <td>!Якутск ТЦ \"Центральный\" фран</td>\n",
              "      <td>1</td>\n",
              "    </tr>\n",
              "    <tr>\n",
              "      <th>2</th>\n",
              "      <td>Адыгея ТЦ \"Мега\"</td>\n",
              "      <td>2</td>\n",
              "    </tr>\n",
              "    <tr>\n",
              "      <th>3</th>\n",
              "      <td>Балашиха ТРК \"Октябрь-Киномир\"</td>\n",
              "      <td>3</td>\n",
              "    </tr>\n",
              "    <tr>\n",
              "      <th>4</th>\n",
              "      <td>Волжский ТЦ \"Волга Молл\"</td>\n",
              "      <td>4</td>\n",
              "    </tr>\n",
              "  </tbody>\n",
              "</table>\n",
              "</div>"
            ],
            "text/plain": [
              "                        shop_name  shop_id\n",
              "0   !Якутск Орджоникидзе, 56 фран        0\n",
              "1   !Якутск ТЦ \"Центральный\" фран        1\n",
              "2                Адыгея ТЦ \"Мега\"        2\n",
              "3  Балашиха ТРК \"Октябрь-Киномир\"        3\n",
              "4        Волжский ТЦ \"Волга Молл\"        4"
            ]
          },
          "metadata": {
            "tags": []
          },
          "execution_count": 14
        }
      ]
    },
    {
      "cell_type": "code",
      "metadata": {
        "id": "fc8Sl3AaYCJ5"
      },
      "source": [
        "shops.loc[shops.shop_name == 'Сергиев Посад ТЦ \"7Я\"', 'shop_name'] = 'СергиевПосад ТЦ \"7Я\"'\r\n",
        "\r\n",
        "shops['city'] = shops['shop_name'].str.split(' ').map(lambda x: x[0])\r\n",
        "shops.loc[shops.city == '!Якутск', 'city'] = 'Якутск'\r\n",
        "\r\n",
        "shops['city_code'] = LabelEncoder().fit_transform(shops['city'])\r\n",
        "shops = shops[['shop_id', 'city_code']]"
      ],
      "execution_count": 26,
      "outputs": []
    },
    {
      "cell_type": "code",
      "metadata": {
        "colab": {
          "base_uri": "https://localhost:8080/",
          "height": 202
        },
        "id": "o9m-xG2S-SJq",
        "outputId": "6bd11cca-f063-4924-82f0-558c297e2ce5"
      },
      "source": [
        "cats.head()"
      ],
      "execution_count": 17,
      "outputs": [
        {
          "output_type": "execute_result",
          "data": {
            "text/html": [
              "<div>\n",
              "<style scoped>\n",
              "    .dataframe tbody tr th:only-of-type {\n",
              "        vertical-align: middle;\n",
              "    }\n",
              "\n",
              "    .dataframe tbody tr th {\n",
              "        vertical-align: top;\n",
              "    }\n",
              "\n",
              "    .dataframe thead th {\n",
              "        text-align: right;\n",
              "    }\n",
              "</style>\n",
              "<table border=\"1\" class=\"dataframe\">\n",
              "  <thead>\n",
              "    <tr style=\"text-align: right;\">\n",
              "      <th></th>\n",
              "      <th>item_category_name</th>\n",
              "      <th>item_category_id</th>\n",
              "    </tr>\n",
              "  </thead>\n",
              "  <tbody>\n",
              "    <tr>\n",
              "      <th>0</th>\n",
              "      <td>PC - Гарнитуры/Наушники</td>\n",
              "      <td>0</td>\n",
              "    </tr>\n",
              "    <tr>\n",
              "      <th>1</th>\n",
              "      <td>Аксессуары - PS2</td>\n",
              "      <td>1</td>\n",
              "    </tr>\n",
              "    <tr>\n",
              "      <th>2</th>\n",
              "      <td>Аксессуары - PS3</td>\n",
              "      <td>2</td>\n",
              "    </tr>\n",
              "    <tr>\n",
              "      <th>3</th>\n",
              "      <td>Аксессуары - PS4</td>\n",
              "      <td>3</td>\n",
              "    </tr>\n",
              "    <tr>\n",
              "      <th>4</th>\n",
              "      <td>Аксессуары - PSP</td>\n",
              "      <td>4</td>\n",
              "    </tr>\n",
              "  </tbody>\n",
              "</table>\n",
              "</div>"
            ],
            "text/plain": [
              "        item_category_name  item_category_id\n",
              "0  PC - Гарнитуры/Наушники                 0\n",
              "1         Аксессуары - PS2                 1\n",
              "2         Аксессуары - PS3                 2\n",
              "3         Аксессуары - PS4                 3\n",
              "4         Аксессуары - PSP                 4"
            ]
          },
          "metadata": {
            "tags": []
          },
          "execution_count": 17
        }
      ]
    },
    {
      "cell_type": "code",
      "metadata": {
        "id": "8Bbc_iqy-UaQ"
      },
      "source": [
        "cats['split'] = cats['item_category_name'].str.split('-')\r\n",
        "cats['type'] = cats['split'].map(lambda x: x[0].strip())\r\n",
        "cats['type_code'] = LabelEncoder().fit_transform(cats['type'])\r\n",
        "\r\n",
        "cats['subtype'] = cats['split'].map(lambda x: x[1].strip() if len(x) > 1 else x[0].strip())\r\n",
        "cats['subtype_code'] = LabelEncoder().fit_transform(cats['subtype'])\r\n",
        "cats = cats[['item_category_id','type_code', 'subtype_code']]"
      ],
      "execution_count": 27,
      "outputs": []
    },
    {
      "cell_type": "code",
      "metadata": {
        "id": "98bDBmId-emC"
      },
      "source": [
        "items.drop(['item_name'], axis=1, inplace=True)"
      ],
      "execution_count": 28,
      "outputs": []
    },
    {
      "cell_type": "code",
      "metadata": {
        "colab": {
          "base_uri": "https://localhost:8080/",
          "height": 233
        },
        "id": "npLDjgM5_GLB",
        "outputId": "41144ebb-0063-4228-ded6-f6d64a3d4c6e"
      },
      "source": [
        "test.head()"
      ],
      "execution_count": 21,
      "outputs": [
        {
          "output_type": "execute_result",
          "data": {
            "text/html": [
              "<div>\n",
              "<style scoped>\n",
              "    .dataframe tbody tr th:only-of-type {\n",
              "        vertical-align: middle;\n",
              "    }\n",
              "\n",
              "    .dataframe tbody tr th {\n",
              "        vertical-align: top;\n",
              "    }\n",
              "\n",
              "    .dataframe thead th {\n",
              "        text-align: right;\n",
              "    }\n",
              "</style>\n",
              "<table border=\"1\" class=\"dataframe\">\n",
              "  <thead>\n",
              "    <tr style=\"text-align: right;\">\n",
              "      <th></th>\n",
              "      <th>shop_id</th>\n",
              "      <th>item_id</th>\n",
              "    </tr>\n",
              "    <tr>\n",
              "      <th>ID</th>\n",
              "      <th></th>\n",
              "      <th></th>\n",
              "    </tr>\n",
              "  </thead>\n",
              "  <tbody>\n",
              "    <tr>\n",
              "      <th>0</th>\n",
              "      <td>5</td>\n",
              "      <td>5037</td>\n",
              "    </tr>\n",
              "    <tr>\n",
              "      <th>1</th>\n",
              "      <td>5</td>\n",
              "      <td>5320</td>\n",
              "    </tr>\n",
              "    <tr>\n",
              "      <th>2</th>\n",
              "      <td>5</td>\n",
              "      <td>5233</td>\n",
              "    </tr>\n",
              "    <tr>\n",
              "      <th>3</th>\n",
              "      <td>5</td>\n",
              "      <td>5232</td>\n",
              "    </tr>\n",
              "    <tr>\n",
              "      <th>4</th>\n",
              "      <td>5</td>\n",
              "      <td>5268</td>\n",
              "    </tr>\n",
              "  </tbody>\n",
              "</table>\n",
              "</div>"
            ],
            "text/plain": [
              "    shop_id  item_id\n",
              "ID                  \n",
              "0         5     5037\n",
              "1         5     5320\n",
              "2         5     5233\n",
              "3         5     5232\n",
              "4         5     5268"
            ]
          },
          "metadata": {
            "tags": []
          },
          "execution_count": 21
        }
      ]
    },
    {
      "cell_type": "code",
      "metadata": {
        "colab": {
          "base_uri": "https://localhost:8080/"
        },
        "id": "6kCgSn31_JRj",
        "outputId": "0172b408-5033-4376-bfa7-648fd8ae1716"
      },
      "source": [
        "#train에는 없고 test에만 존재, test존재 상품 수, 테스트 데이터셋 크기\r\n",
        "len(list(set(test.item_id) - set(test.item_id).intersection(set(train.item_id)))), len(list(set(test.item_id))), len(test)"
      ],
      "execution_count": 22,
      "outputs": [
        {
          "output_type": "execute_result",
          "data": {
            "text/plain": [
              "(363, 5100, 214200)"
            ]
          },
          "metadata": {
            "tags": []
          },
          "execution_count": 22
        }
      ]
    },
    {
      "cell_type": "code",
      "metadata": {
        "colab": {
          "base_uri": "https://localhost:8080/"
        },
        "id": "e2EiUYlB_kpz",
        "outputId": "45780ebf-2a21-45ab-efce-2fd85884dfcd"
      },
      "source": [
        "ts = time.time()\r\n",
        "matrix = []\r\n",
        "cols = ['date_block_num','shop_id','item_id']\r\n",
        "for i in range(34):\r\n",
        "    sales = train[train.date_block_num==i]\r\n",
        "    matrix.append(np.array(list(product([i], sales.shop_id.unique(), sales.item_id.unique())), dtype='int16'))\r\n",
        "\r\n",
        "matrix = pd.DataFrame(np.vstack(matrix), columns=cols)\r\n",
        "matrix['date_block_num'] = matrix['date_block_num'].astype(np.int8)\r\n",
        "matrix['shop_id'] = matrix['shop_id'].astype(np.int8)\r\n",
        "matrix['item_id'] = matrix['item_id'].astype(np.int16)\r\n",
        "matrix.sort_values(cols,inplace=True)\r\n",
        "time.time() - ts"
      ],
      "execution_count": 34,
      "outputs": [
        {
          "output_type": "execute_result",
          "data": {
            "text/plain": [
              "14.478020429611206"
            ]
          },
          "metadata": {
            "tags": []
          },
          "execution_count": 34
        }
      ]
    },
    {
      "cell_type": "code",
      "metadata": {
        "colab": {
          "base_uri": "https://localhost:8080/",
          "height": 202
        },
        "id": "b1TbCMnxBCaL",
        "outputId": "3d9f6448-41da-49d0-d63d-41f1d7a8da5e"
      },
      "source": [
        "matrix.head()"
      ],
      "execution_count": 24,
      "outputs": [
        {
          "output_type": "execute_result",
          "data": {
            "text/html": [
              "<div>\n",
              "<style scoped>\n",
              "    .dataframe tbody tr th:only-of-type {\n",
              "        vertical-align: middle;\n",
              "    }\n",
              "\n",
              "    .dataframe tbody tr th {\n",
              "        vertical-align: top;\n",
              "    }\n",
              "\n",
              "    .dataframe thead th {\n",
              "        text-align: right;\n",
              "    }\n",
              "</style>\n",
              "<table border=\"1\" class=\"dataframe\">\n",
              "  <thead>\n",
              "    <tr style=\"text-align: right;\">\n",
              "      <th></th>\n",
              "      <th>date_block_num</th>\n",
              "      <th>shop_id</th>\n",
              "      <th>item_id</th>\n",
              "    </tr>\n",
              "  </thead>\n",
              "  <tbody>\n",
              "    <tr>\n",
              "      <th>114910</th>\n",
              "      <td>0</td>\n",
              "      <td>2</td>\n",
              "      <td>19</td>\n",
              "    </tr>\n",
              "    <tr>\n",
              "      <th>117150</th>\n",
              "      <td>0</td>\n",
              "      <td>2</td>\n",
              "      <td>27</td>\n",
              "    </tr>\n",
              "    <tr>\n",
              "      <th>120623</th>\n",
              "      <td>0</td>\n",
              "      <td>2</td>\n",
              "      <td>28</td>\n",
              "    </tr>\n",
              "    <tr>\n",
              "      <th>118316</th>\n",
              "      <td>0</td>\n",
              "      <td>2</td>\n",
              "      <td>29</td>\n",
              "    </tr>\n",
              "    <tr>\n",
              "      <th>114602</th>\n",
              "      <td>0</td>\n",
              "      <td>2</td>\n",
              "      <td>32</td>\n",
              "    </tr>\n",
              "  </tbody>\n",
              "</table>\n",
              "</div>"
            ],
            "text/plain": [
              "        date_block_num  shop_id  item_id\n",
              "114910               0        2       19\n",
              "117150               0        2       27\n",
              "120623               0        2       28\n",
              "118316               0        2       29\n",
              "114602               0        2       32"
            ]
          },
          "metadata": {
            "tags": []
          },
          "execution_count": 24
        }
      ]
    },
    {
      "cell_type": "code",
      "metadata": {
        "colab": {
          "base_uri": "https://localhost:8080/"
        },
        "id": "m81Vx6XvBHlS",
        "outputId": "30e822ef-7d93-46e0-880d-26ac10bb81fa"
      },
      "source": [
        "ts = time.time()\r\n",
        "group = train.groupby(['date_block_num','shop_id','item_id']).agg({'item_cnt_day': ['sum']})\r\n",
        "group.columns = ['item_cnt_month']\r\n",
        "group.reset_index(inplace=True)\r\n",
        "\r\n",
        "matrix = pd.merge(matrix, group, on=cols, how='left')\r\n",
        "matrix['item_cnt_month'] = (matrix['item_cnt_month']\r\n",
        "                                .fillna(0)\r\n",
        "                                .clip(0,20) # NB clip target here\r\n",
        "                                .astype(np.float16))\r\n",
        "time.time() - ts"
      ],
      "execution_count": 35,
      "outputs": [
        {
          "output_type": "execute_result",
          "data": {
            "text/plain": [
              "3.877052068710327"
            ]
          },
          "metadata": {
            "tags": []
          },
          "execution_count": 35
        }
      ]
    },
    {
      "cell_type": "code",
      "metadata": {
        "colab": {
          "base_uri": "https://localhost:8080/",
          "height": 202
        },
        "id": "gkOvHyn_BMEe",
        "outputId": "cd5dd6a1-b627-4a58-fdab-5dc597e05c23"
      },
      "source": [
        "matrix.head()"
      ],
      "execution_count": 26,
      "outputs": [
        {
          "output_type": "execute_result",
          "data": {
            "text/html": [
              "<div>\n",
              "<style scoped>\n",
              "    .dataframe tbody tr th:only-of-type {\n",
              "        vertical-align: middle;\n",
              "    }\n",
              "\n",
              "    .dataframe tbody tr th {\n",
              "        vertical-align: top;\n",
              "    }\n",
              "\n",
              "    .dataframe thead th {\n",
              "        text-align: right;\n",
              "    }\n",
              "</style>\n",
              "<table border=\"1\" class=\"dataframe\">\n",
              "  <thead>\n",
              "    <tr style=\"text-align: right;\">\n",
              "      <th></th>\n",
              "      <th>date_block_num</th>\n",
              "      <th>shop_id</th>\n",
              "      <th>item_id</th>\n",
              "      <th>item_cnt_month</th>\n",
              "    </tr>\n",
              "  </thead>\n",
              "  <tbody>\n",
              "    <tr>\n",
              "      <th>0</th>\n",
              "      <td>0</td>\n",
              "      <td>2</td>\n",
              "      <td>19</td>\n",
              "      <td>0.0</td>\n",
              "    </tr>\n",
              "    <tr>\n",
              "      <th>1</th>\n",
              "      <td>0</td>\n",
              "      <td>2</td>\n",
              "      <td>27</td>\n",
              "      <td>1.0</td>\n",
              "    </tr>\n",
              "    <tr>\n",
              "      <th>2</th>\n",
              "      <td>0</td>\n",
              "      <td>2</td>\n",
              "      <td>28</td>\n",
              "      <td>0.0</td>\n",
              "    </tr>\n",
              "    <tr>\n",
              "      <th>3</th>\n",
              "      <td>0</td>\n",
              "      <td>2</td>\n",
              "      <td>29</td>\n",
              "      <td>0.0</td>\n",
              "    </tr>\n",
              "    <tr>\n",
              "      <th>4</th>\n",
              "      <td>0</td>\n",
              "      <td>2</td>\n",
              "      <td>32</td>\n",
              "      <td>0.0</td>\n",
              "    </tr>\n",
              "  </tbody>\n",
              "</table>\n",
              "</div>"
            ],
            "text/plain": [
              "   date_block_num  shop_id  item_id  item_cnt_month\n",
              "0               0        2       19             0.0\n",
              "1               0        2       27             1.0\n",
              "2               0        2       28             0.0\n",
              "3               0        2       29             0.0\n",
              "4               0        2       32             0.0"
            ]
          },
          "metadata": {
            "tags": []
          },
          "execution_count": 26
        }
      ]
    },
    {
      "cell_type": "code",
      "metadata": {
        "colab": {
          "base_uri": "https://localhost:8080/",
          "height": 233
        },
        "id": "PykRl_bEBVaC",
        "outputId": "630834c2-44ee-4f80-edc6-a3f8feb9cac6"
      },
      "source": [
        "test['date_block_num'] = 34\r\n",
        "test['date_block_num'] = test['date_block_num'].astype(np.int8)\r\n",
        "test['shop_id'] = test['shop_id'].astype(np.int8)\r\n",
        "test['item_id'] = test['item_id'].astype(np.int16)\r\n",
        "test.head()"
      ],
      "execution_count": 36,
      "outputs": [
        {
          "output_type": "execute_result",
          "data": {
            "text/html": [
              "<div>\n",
              "<style scoped>\n",
              "    .dataframe tbody tr th:only-of-type {\n",
              "        vertical-align: middle;\n",
              "    }\n",
              "\n",
              "    .dataframe tbody tr th {\n",
              "        vertical-align: top;\n",
              "    }\n",
              "\n",
              "    .dataframe thead th {\n",
              "        text-align: right;\n",
              "    }\n",
              "</style>\n",
              "<table border=\"1\" class=\"dataframe\">\n",
              "  <thead>\n",
              "    <tr style=\"text-align: right;\">\n",
              "      <th></th>\n",
              "      <th>shop_id</th>\n",
              "      <th>item_id</th>\n",
              "      <th>date_block_num</th>\n",
              "    </tr>\n",
              "    <tr>\n",
              "      <th>ID</th>\n",
              "      <th></th>\n",
              "      <th></th>\n",
              "      <th></th>\n",
              "    </tr>\n",
              "  </thead>\n",
              "  <tbody>\n",
              "    <tr>\n",
              "      <th>0</th>\n",
              "      <td>5</td>\n",
              "      <td>5037</td>\n",
              "      <td>34</td>\n",
              "    </tr>\n",
              "    <tr>\n",
              "      <th>1</th>\n",
              "      <td>5</td>\n",
              "      <td>5320</td>\n",
              "      <td>34</td>\n",
              "    </tr>\n",
              "    <tr>\n",
              "      <th>2</th>\n",
              "      <td>5</td>\n",
              "      <td>5233</td>\n",
              "      <td>34</td>\n",
              "    </tr>\n",
              "    <tr>\n",
              "      <th>3</th>\n",
              "      <td>5</td>\n",
              "      <td>5232</td>\n",
              "      <td>34</td>\n",
              "    </tr>\n",
              "    <tr>\n",
              "      <th>4</th>\n",
              "      <td>5</td>\n",
              "      <td>5268</td>\n",
              "      <td>34</td>\n",
              "    </tr>\n",
              "  </tbody>\n",
              "</table>\n",
              "</div>"
            ],
            "text/plain": [
              "    shop_id  item_id  date_block_num\n",
              "ID                                  \n",
              "0         5     5037              34\n",
              "1         5     5320              34\n",
              "2         5     5233              34\n",
              "3         5     5232              34\n",
              "4         5     5268              34"
            ]
          },
          "metadata": {
            "tags": []
          },
          "execution_count": 36
        }
      ]
    },
    {
      "cell_type": "code",
      "metadata": {
        "colab": {
          "base_uri": "https://localhost:8080/"
        },
        "id": "ljtVhJyMBgvP",
        "outputId": "8f9dec72-b98b-4f7a-8b7d-cef09c513633"
      },
      "source": [
        "ts = time.time()\r\n",
        "matrix = pd.concat([matrix, test], ignore_index=True, sort=False, keys=cols)\r\n",
        "matrix.fillna(0, inplace=True) # 34 month\r\n",
        "time.time() - ts"
      ],
      "execution_count": 37,
      "outputs": [
        {
          "output_type": "execute_result",
          "data": {
            "text/plain": [
              "0.08358216285705566"
            ]
          },
          "metadata": {
            "tags": []
          },
          "execution_count": 37
        }
      ]
    },
    {
      "cell_type": "code",
      "metadata": {
        "colab": {
          "base_uri": "https://localhost:8080/",
          "height": 202
        },
        "id": "y3MGIYswBjsd",
        "outputId": "9e74c0a8-ec18-4ba1-e875-493199ef2f38"
      },
      "source": [
        "matrix.head()"
      ],
      "execution_count": 29,
      "outputs": [
        {
          "output_type": "execute_result",
          "data": {
            "text/html": [
              "<div>\n",
              "<style scoped>\n",
              "    .dataframe tbody tr th:only-of-type {\n",
              "        vertical-align: middle;\n",
              "    }\n",
              "\n",
              "    .dataframe tbody tr th {\n",
              "        vertical-align: top;\n",
              "    }\n",
              "\n",
              "    .dataframe thead th {\n",
              "        text-align: right;\n",
              "    }\n",
              "</style>\n",
              "<table border=\"1\" class=\"dataframe\">\n",
              "  <thead>\n",
              "    <tr style=\"text-align: right;\">\n",
              "      <th></th>\n",
              "      <th>date_block_num</th>\n",
              "      <th>shop_id</th>\n",
              "      <th>item_id</th>\n",
              "      <th>item_cnt_month</th>\n",
              "    </tr>\n",
              "  </thead>\n",
              "  <tbody>\n",
              "    <tr>\n",
              "      <th>0</th>\n",
              "      <td>0</td>\n",
              "      <td>2</td>\n",
              "      <td>19</td>\n",
              "      <td>0.0</td>\n",
              "    </tr>\n",
              "    <tr>\n",
              "      <th>1</th>\n",
              "      <td>0</td>\n",
              "      <td>2</td>\n",
              "      <td>27</td>\n",
              "      <td>1.0</td>\n",
              "    </tr>\n",
              "    <tr>\n",
              "      <th>2</th>\n",
              "      <td>0</td>\n",
              "      <td>2</td>\n",
              "      <td>28</td>\n",
              "      <td>0.0</td>\n",
              "    </tr>\n",
              "    <tr>\n",
              "      <th>3</th>\n",
              "      <td>0</td>\n",
              "      <td>2</td>\n",
              "      <td>29</td>\n",
              "      <td>0.0</td>\n",
              "    </tr>\n",
              "    <tr>\n",
              "      <th>4</th>\n",
              "      <td>0</td>\n",
              "      <td>2</td>\n",
              "      <td>32</td>\n",
              "      <td>0.0</td>\n",
              "    </tr>\n",
              "  </tbody>\n",
              "</table>\n",
              "</div>"
            ],
            "text/plain": [
              "   date_block_num  shop_id  item_id  item_cnt_month\n",
              "0               0        2       19             0.0\n",
              "1               0        2       27             1.0\n",
              "2               0        2       28             0.0\n",
              "3               0        2       29             0.0\n",
              "4               0        2       32             0.0"
            ]
          },
          "metadata": {
            "tags": []
          },
          "execution_count": 29
        }
      ]
    },
    {
      "cell_type": "code",
      "metadata": {
        "colab": {
          "base_uri": "https://localhost:8080/",
          "height": 202
        },
        "id": "XV7w2HVhBmC-",
        "outputId": "444140ae-adc9-4809-febd-6b79f0eda007"
      },
      "source": [
        "matrix.tail()"
      ],
      "execution_count": 30,
      "outputs": [
        {
          "output_type": "execute_result",
          "data": {
            "text/html": [
              "<div>\n",
              "<style scoped>\n",
              "    .dataframe tbody tr th:only-of-type {\n",
              "        vertical-align: middle;\n",
              "    }\n",
              "\n",
              "    .dataframe tbody tr th {\n",
              "        vertical-align: top;\n",
              "    }\n",
              "\n",
              "    .dataframe thead th {\n",
              "        text-align: right;\n",
              "    }\n",
              "</style>\n",
              "<table border=\"1\" class=\"dataframe\">\n",
              "  <thead>\n",
              "    <tr style=\"text-align: right;\">\n",
              "      <th></th>\n",
              "      <th>date_block_num</th>\n",
              "      <th>shop_id</th>\n",
              "      <th>item_id</th>\n",
              "      <th>item_cnt_month</th>\n",
              "    </tr>\n",
              "  </thead>\n",
              "  <tbody>\n",
              "    <tr>\n",
              "      <th>11127999</th>\n",
              "      <td>34</td>\n",
              "      <td>45</td>\n",
              "      <td>18454</td>\n",
              "      <td>0.0</td>\n",
              "    </tr>\n",
              "    <tr>\n",
              "      <th>11128000</th>\n",
              "      <td>34</td>\n",
              "      <td>45</td>\n",
              "      <td>16188</td>\n",
              "      <td>0.0</td>\n",
              "    </tr>\n",
              "    <tr>\n",
              "      <th>11128001</th>\n",
              "      <td>34</td>\n",
              "      <td>45</td>\n",
              "      <td>15757</td>\n",
              "      <td>0.0</td>\n",
              "    </tr>\n",
              "    <tr>\n",
              "      <th>11128002</th>\n",
              "      <td>34</td>\n",
              "      <td>45</td>\n",
              "      <td>19648</td>\n",
              "      <td>0.0</td>\n",
              "    </tr>\n",
              "    <tr>\n",
              "      <th>11128003</th>\n",
              "      <td>34</td>\n",
              "      <td>45</td>\n",
              "      <td>969</td>\n",
              "      <td>0.0</td>\n",
              "    </tr>\n",
              "  </tbody>\n",
              "</table>\n",
              "</div>"
            ],
            "text/plain": [
              "          date_block_num  shop_id  item_id  item_cnt_month\n",
              "11127999              34       45    18454             0.0\n",
              "11128000              34       45    16188             0.0\n",
              "11128001              34       45    15757             0.0\n",
              "11128002              34       45    19648             0.0\n",
              "11128003              34       45      969             0.0"
            ]
          },
          "metadata": {
            "tags": []
          },
          "execution_count": 30
        }
      ]
    },
    {
      "cell_type": "code",
      "metadata": {
        "colab": {
          "base_uri": "https://localhost:8080/"
        },
        "id": "uxahIc_bBrGy",
        "outputId": "8d2e2e2e-30ba-4e1f-a004-004d6a2f4ad6"
      },
      "source": [
        "ts = time.time()\r\n",
        "matrix = pd.merge(matrix, shops, on=['shop_id'], how='left')\r\n",
        "matrix = pd.merge(matrix, items, on=['item_id'], how='left')\r\n",
        "matrix = pd.merge(matrix, cats, on=['item_category_id'], how='left')\r\n",
        "matrix['city_code'] = matrix['city_code'].astype(np.int8)\r\n",
        "matrix['item_category_id'] = matrix['item_category_id'].astype(np.int8)\r\n",
        "matrix['type_code'] = matrix['type_code'].astype(np.int8)\r\n",
        "matrix['subtype_code'] = matrix['subtype_code'].astype(np.int8)\r\n",
        "time.time() - ts"
      ],
      "execution_count": 38,
      "outputs": [
        {
          "output_type": "execute_result",
          "data": {
            "text/plain": [
              "3.4840526580810547"
            ]
          },
          "metadata": {
            "tags": []
          },
          "execution_count": 38
        }
      ]
    },
    {
      "cell_type": "code",
      "metadata": {
        "colab": {
          "base_uri": "https://localhost:8080/",
          "height": 202
        },
        "id": "flLL6og8Bz3X",
        "outputId": "9f0e8ff3-b99c-4272-ff86-ce8374734744"
      },
      "source": [
        "matrix.head()"
      ],
      "execution_count": 32,
      "outputs": [
        {
          "output_type": "execute_result",
          "data": {
            "text/html": [
              "<div>\n",
              "<style scoped>\n",
              "    .dataframe tbody tr th:only-of-type {\n",
              "        vertical-align: middle;\n",
              "    }\n",
              "\n",
              "    .dataframe tbody tr th {\n",
              "        vertical-align: top;\n",
              "    }\n",
              "\n",
              "    .dataframe thead th {\n",
              "        text-align: right;\n",
              "    }\n",
              "</style>\n",
              "<table border=\"1\" class=\"dataframe\">\n",
              "  <thead>\n",
              "    <tr style=\"text-align: right;\">\n",
              "      <th></th>\n",
              "      <th>date_block_num</th>\n",
              "      <th>shop_id</th>\n",
              "      <th>item_id</th>\n",
              "      <th>item_cnt_month</th>\n",
              "      <th>city_code</th>\n",
              "      <th>item_category_id</th>\n",
              "      <th>type_code</th>\n",
              "      <th>subtype_code</th>\n",
              "    </tr>\n",
              "  </thead>\n",
              "  <tbody>\n",
              "    <tr>\n",
              "      <th>0</th>\n",
              "      <td>0</td>\n",
              "      <td>2</td>\n",
              "      <td>19</td>\n",
              "      <td>0.0</td>\n",
              "      <td>0</td>\n",
              "      <td>40</td>\n",
              "      <td>11</td>\n",
              "      <td>4</td>\n",
              "    </tr>\n",
              "    <tr>\n",
              "      <th>1</th>\n",
              "      <td>0</td>\n",
              "      <td>2</td>\n",
              "      <td>27</td>\n",
              "      <td>1.0</td>\n",
              "      <td>0</td>\n",
              "      <td>19</td>\n",
              "      <td>5</td>\n",
              "      <td>10</td>\n",
              "    </tr>\n",
              "    <tr>\n",
              "      <th>2</th>\n",
              "      <td>0</td>\n",
              "      <td>2</td>\n",
              "      <td>28</td>\n",
              "      <td>0.0</td>\n",
              "      <td>0</td>\n",
              "      <td>30</td>\n",
              "      <td>8</td>\n",
              "      <td>55</td>\n",
              "    </tr>\n",
              "    <tr>\n",
              "      <th>3</th>\n",
              "      <td>0</td>\n",
              "      <td>2</td>\n",
              "      <td>29</td>\n",
              "      <td>0.0</td>\n",
              "      <td>0</td>\n",
              "      <td>23</td>\n",
              "      <td>5</td>\n",
              "      <td>16</td>\n",
              "    </tr>\n",
              "    <tr>\n",
              "      <th>4</th>\n",
              "      <td>0</td>\n",
              "      <td>2</td>\n",
              "      <td>32</td>\n",
              "      <td>0.0</td>\n",
              "      <td>0</td>\n",
              "      <td>40</td>\n",
              "      <td>11</td>\n",
              "      <td>4</td>\n",
              "    </tr>\n",
              "  </tbody>\n",
              "</table>\n",
              "</div>"
            ],
            "text/plain": [
              "   date_block_num  shop_id  item_id  item_cnt_month  city_code  \\\n",
              "0               0        2       19             0.0          0   \n",
              "1               0        2       27             1.0          0   \n",
              "2               0        2       28             0.0          0   \n",
              "3               0        2       29             0.0          0   \n",
              "4               0        2       32             0.0          0   \n",
              "\n",
              "   item_category_id  type_code  subtype_code  \n",
              "0                40         11             4  \n",
              "1                19          5            10  \n",
              "2                30          8            55  \n",
              "3                23          5            16  \n",
              "4                40         11             4  "
            ]
          },
          "metadata": {
            "tags": []
          },
          "execution_count": 32
        }
      ]
    },
    {
      "cell_type": "code",
      "metadata": {
        "id": "R-rDEnShCHjq"
      },
      "source": [
        "def lag_feature(df, lags, col):\r\n",
        "    \"\"\"\r\n",
        "    이전 달의 feature 들을, 현재 월의 feature 로 둡니다.\r\n",
        "    이 떄, 이전 달들의 정보는 lags 에,\r\n",
        "    사용할 feature 들은 col 에 담겨져 있습니다.\r\n",
        "    \"\"\"\r\n",
        "    tmp = df[['date_block_num','shop_id','item_id',col]]\r\n",
        "    for i in lags:\r\n",
        "        shifted = tmp.copy()\r\n",
        "        shifted.columns = ['date_block_num','shop_id','item_id', col+'_lag_'+str(i)]\r\n",
        "        shifted['date_block_num'] += i\r\n",
        "        df = pd.merge(df, shifted, on=['date_block_num','shop_id','item_id'], how='left')\r\n",
        "    return df"
      ],
      "execution_count": 33,
      "outputs": []
    },
    {
      "cell_type": "code",
      "metadata": {
        "colab": {
          "base_uri": "https://localhost:8080/"
        },
        "id": "oVLVV_5-CNfw",
        "outputId": "15190364-ace6-47ad-c56e-da40cb44e881"
      },
      "source": [
        "ts = time.time()\r\n",
        "# 1,2,3,6,12 달 전의 item_cnt_month 값을, 현재 해당 월의 feature 로 둡니다.\r\n",
        "matrix = lag_feature(matrix, [1,2,3,6,12], 'item_cnt_month')\r\n",
        "time.time() - ts"
      ],
      "execution_count": 34,
      "outputs": [
        {
          "output_type": "execute_result",
          "data": {
            "text/plain": [
              "29.071453332901"
            ]
          },
          "metadata": {
            "tags": []
          },
          "execution_count": 34
        }
      ]
    },
    {
      "cell_type": "code",
      "metadata": {
        "colab": {
          "base_uri": "https://localhost:8080/",
          "height": 222
        },
        "id": "7SCxUmB1CXkh",
        "outputId": "b5ca6387-8f60-4c5b-f2d1-89da43e9b56b"
      },
      "source": [
        "matrix.head()"
      ],
      "execution_count": 35,
      "outputs": [
        {
          "output_type": "execute_result",
          "data": {
            "text/html": [
              "<div>\n",
              "<style scoped>\n",
              "    .dataframe tbody tr th:only-of-type {\n",
              "        vertical-align: middle;\n",
              "    }\n",
              "\n",
              "    .dataframe tbody tr th {\n",
              "        vertical-align: top;\n",
              "    }\n",
              "\n",
              "    .dataframe thead th {\n",
              "        text-align: right;\n",
              "    }\n",
              "</style>\n",
              "<table border=\"1\" class=\"dataframe\">\n",
              "  <thead>\n",
              "    <tr style=\"text-align: right;\">\n",
              "      <th></th>\n",
              "      <th>date_block_num</th>\n",
              "      <th>shop_id</th>\n",
              "      <th>item_id</th>\n",
              "      <th>item_cnt_month</th>\n",
              "      <th>city_code</th>\n",
              "      <th>item_category_id</th>\n",
              "      <th>type_code</th>\n",
              "      <th>subtype_code</th>\n",
              "      <th>item_cnt_month_lag_1</th>\n",
              "      <th>item_cnt_month_lag_2</th>\n",
              "      <th>item_cnt_month_lag_3</th>\n",
              "      <th>item_cnt_month_lag_6</th>\n",
              "      <th>item_cnt_month_lag_12</th>\n",
              "    </tr>\n",
              "  </thead>\n",
              "  <tbody>\n",
              "    <tr>\n",
              "      <th>0</th>\n",
              "      <td>0</td>\n",
              "      <td>2</td>\n",
              "      <td>19</td>\n",
              "      <td>0.0</td>\n",
              "      <td>0</td>\n",
              "      <td>40</td>\n",
              "      <td>11</td>\n",
              "      <td>4</td>\n",
              "      <td>NaN</td>\n",
              "      <td>NaN</td>\n",
              "      <td>NaN</td>\n",
              "      <td>NaN</td>\n",
              "      <td>NaN</td>\n",
              "    </tr>\n",
              "    <tr>\n",
              "      <th>1</th>\n",
              "      <td>0</td>\n",
              "      <td>2</td>\n",
              "      <td>27</td>\n",
              "      <td>1.0</td>\n",
              "      <td>0</td>\n",
              "      <td>19</td>\n",
              "      <td>5</td>\n",
              "      <td>10</td>\n",
              "      <td>NaN</td>\n",
              "      <td>NaN</td>\n",
              "      <td>NaN</td>\n",
              "      <td>NaN</td>\n",
              "      <td>NaN</td>\n",
              "    </tr>\n",
              "    <tr>\n",
              "      <th>2</th>\n",
              "      <td>0</td>\n",
              "      <td>2</td>\n",
              "      <td>28</td>\n",
              "      <td>0.0</td>\n",
              "      <td>0</td>\n",
              "      <td>30</td>\n",
              "      <td>8</td>\n",
              "      <td>55</td>\n",
              "      <td>NaN</td>\n",
              "      <td>NaN</td>\n",
              "      <td>NaN</td>\n",
              "      <td>NaN</td>\n",
              "      <td>NaN</td>\n",
              "    </tr>\n",
              "    <tr>\n",
              "      <th>3</th>\n",
              "      <td>0</td>\n",
              "      <td>2</td>\n",
              "      <td>29</td>\n",
              "      <td>0.0</td>\n",
              "      <td>0</td>\n",
              "      <td>23</td>\n",
              "      <td>5</td>\n",
              "      <td>16</td>\n",
              "      <td>NaN</td>\n",
              "      <td>NaN</td>\n",
              "      <td>NaN</td>\n",
              "      <td>NaN</td>\n",
              "      <td>NaN</td>\n",
              "    </tr>\n",
              "    <tr>\n",
              "      <th>4</th>\n",
              "      <td>0</td>\n",
              "      <td>2</td>\n",
              "      <td>32</td>\n",
              "      <td>0.0</td>\n",
              "      <td>0</td>\n",
              "      <td>40</td>\n",
              "      <td>11</td>\n",
              "      <td>4</td>\n",
              "      <td>NaN</td>\n",
              "      <td>NaN</td>\n",
              "      <td>NaN</td>\n",
              "      <td>NaN</td>\n",
              "      <td>NaN</td>\n",
              "    </tr>\n",
              "  </tbody>\n",
              "</table>\n",
              "</div>"
            ],
            "text/plain": [
              "   date_block_num  shop_id  item_id  item_cnt_month  city_code  \\\n",
              "0               0        2       19             0.0          0   \n",
              "1               0        2       27             1.0          0   \n",
              "2               0        2       28             0.0          0   \n",
              "3               0        2       29             0.0          0   \n",
              "4               0        2       32             0.0          0   \n",
              "\n",
              "   item_category_id  type_code  subtype_code  item_cnt_month_lag_1  \\\n",
              "0                40         11             4                   NaN   \n",
              "1                19          5            10                   NaN   \n",
              "2                30          8            55                   NaN   \n",
              "3                23          5            16                   NaN   \n",
              "4                40         11             4                   NaN   \n",
              "\n",
              "   item_cnt_month_lag_2  item_cnt_month_lag_3  item_cnt_month_lag_6  \\\n",
              "0                   NaN                   NaN                   NaN   \n",
              "1                   NaN                   NaN                   NaN   \n",
              "2                   NaN                   NaN                   NaN   \n",
              "3                   NaN                   NaN                   NaN   \n",
              "4                   NaN                   NaN                   NaN   \n",
              "\n",
              "   item_cnt_month_lag_12  \n",
              "0                    NaN  \n",
              "1                    NaN  \n",
              "2                    NaN  \n",
              "3                    NaN  \n",
              "4                    NaN  "
            ]
          },
          "metadata": {
            "tags": []
          },
          "execution_count": 35
        }
      ]
    },
    {
      "cell_type": "code",
      "metadata": {
        "colab": {
          "base_uri": "https://localhost:8080/"
        },
        "id": "_dOfPw3nCcou",
        "outputId": "d3c069ca-2655-431d-f4dc-cfd20eb8fe36"
      },
      "source": [
        "# 해당 월에, 일반적으로 상품들이 팔린 평균 개수 (즉, 월 단위로 같음.) 과 레그.\r\n",
        "ts = time.time()\r\n",
        "group = matrix.groupby(['date_block_num']).agg({'item_cnt_month': ['mean']})\r\n",
        "group.columns = [ 'date_avg_item_cnt' ]\r\n",
        "group.reset_index(inplace=True)\r\n",
        "\r\n",
        "matrix = pd.merge(matrix, group, on=['date_block_num'], how='left')\r\n",
        "matrix['date_avg_item_cnt'] = matrix['date_avg_item_cnt'].astype(np.float16)\r\n",
        "matrix = lag_feature(matrix, [1], 'date_avg_item_cnt')\r\n",
        "matrix.drop(['date_avg_item_cnt'], axis=1, inplace=True)\r\n",
        "time.time() - ts"
      ],
      "execution_count": 36,
      "outputs": [
        {
          "output_type": "execute_result",
          "data": {
            "text/plain": [
              "9.527193307876587"
            ]
          },
          "metadata": {
            "tags": []
          },
          "execution_count": 36
        }
      ]
    },
    {
      "cell_type": "code",
      "metadata": {
        "colab": {
          "base_uri": "https://localhost:8080/"
        },
        "id": "MSVYXM0bChhT",
        "outputId": "46fd910a-8f60-4f04-94d0-4a0c5a4bc518"
      },
      "source": [
        "# 해당 월에, 각각의 상품 단위로, 팔린 상품 갯수의 평균 (즉, (월, 상품) 단위) 와 레그.\r\n",
        "ts = time.time()\r\n",
        "group = matrix.groupby(['date_block_num', 'item_id']).agg({'item_cnt_month': ['mean']})\r\n",
        "group.columns = [ 'date_item_avg_item_cnt' ]\r\n",
        "group.reset_index(inplace=True)\r\n",
        "\r\n",
        "matrix = pd.merge(matrix, group, on=['date_block_num','item_id'], how='left')\r\n",
        "matrix['date_item_avg_item_cnt'] = matrix['date_item_avg_item_cnt'].astype(np.float16)\r\n",
        "matrix = lag_feature(matrix, [1,2,3,6,12], 'date_item_avg_item_cnt')\r\n",
        "matrix.drop(['date_item_avg_item_cnt'], axis=1, inplace=True)\r\n",
        "time.time() - ts"
      ],
      "execution_count": 37,
      "outputs": [
        {
          "output_type": "execute_result",
          "data": {
            "text/plain": [
              "37.08903503417969"
            ]
          },
          "metadata": {
            "tags": []
          },
          "execution_count": 37
        }
      ]
    },
    {
      "cell_type": "code",
      "metadata": {
        "colab": {
          "base_uri": "https://localhost:8080/"
        },
        "id": "7OPkHPklCp9e",
        "outputId": "43fc9890-2043-4e42-c719-07947d06471a"
      },
      "source": [
        "# 해당 월에, 각각의 상점 단위로, 팔린 상품 갯수의 평균과 레그. (월, 상점) 단위\r\n",
        "ts = time.time()\r\n",
        "group = matrix.groupby(['date_block_num', 'shop_id']).agg({'item_cnt_month': ['mean']})\r\n",
        "group.columns = [ 'date_shop_avg_item_cnt' ]\r\n",
        "group.reset_index(inplace=True)\r\n",
        "\r\n",
        "matrix = pd.merge(matrix, group, on=['date_block_num','shop_id'], how='left')\r\n",
        "matrix['date_shop_avg_item_cnt'] = matrix['date_shop_avg_item_cnt'].astype(np.float16)\r\n",
        "matrix = lag_feature(matrix, [1,2,3,6,12], 'date_shop_avg_item_cnt')\r\n",
        "matrix.drop(['date_shop_avg_item_cnt'], axis=1, inplace=True)\r\n",
        "time.time() - ts"
      ],
      "execution_count": 38,
      "outputs": [
        {
          "output_type": "execute_result",
          "data": {
            "text/plain": [
              "40.21825981140137"
            ]
          },
          "metadata": {
            "tags": []
          },
          "execution_count": 38
        }
      ]
    },
    {
      "cell_type": "code",
      "metadata": {
        "colab": {
          "base_uri": "https://localhost:8080/"
        },
        "id": "UiCBAornCrxE",
        "outputId": "d45743ac-6cc8-4e3c-b7cf-5bbfd892ff67"
      },
      "source": [
        "# 해당 월에, 각각의 아이템 카테고리 단위로, 팔린 상품 갯수의 평균과 레그. (월, 아이템 카테고리) 단위\r\n",
        "ts = time.time()\r\n",
        "group = matrix.groupby(['date_block_num', 'item_category_id']).agg({'item_cnt_month': ['mean']})\r\n",
        "group.columns = [ 'date_cat_avg_item_cnt' ]\r\n",
        "group.reset_index(inplace=True)\r\n",
        "\r\n",
        "matrix = pd.merge(matrix, group, on=['date_block_num','item_category_id'], how='left')\r\n",
        "matrix['date_cat_avg_item_cnt'] = matrix['date_cat_avg_item_cnt'].astype(np.float16)\r\n",
        "matrix = lag_feature(matrix, [1], 'date_cat_avg_item_cnt')\r\n",
        "matrix.drop(['date_cat_avg_item_cnt'], axis=1, inplace=True)\r\n",
        "time.time() - ts"
      ],
      "execution_count": 39,
      "outputs": [
        {
          "output_type": "execute_result",
          "data": {
            "text/plain": [
              "14.657891273498535"
            ]
          },
          "metadata": {
            "tags": []
          },
          "execution_count": 39
        }
      ]
    },
    {
      "cell_type": "code",
      "metadata": {
        "colab": {
          "base_uri": "https://localhost:8080/"
        },
        "id": "SGB-a1M5Ctoa",
        "outputId": "f441aa3d-6123-451d-f38b-900f0b227f45"
      },
      "source": [
        "# 해당 월에, 각각의 상점에서, 아이템 카테고리 단위로, 팔린 상품 갯수의 평균과 레그. (월, 상점, 아이템 카테고리) 단위\r\n",
        "ts = time.time()\r\n",
        "group = matrix.groupby(['date_block_num', 'shop_id', 'item_category_id']).agg({'item_cnt_month': ['mean']})\r\n",
        "group.columns = ['date_shop_cat_avg_item_cnt']\r\n",
        "group.reset_index(inplace=True)\r\n",
        "\r\n",
        "matrix = pd.merge(matrix, group, on=['date_block_num', 'shop_id', 'item_category_id'], how='left')\r\n",
        "matrix['date_shop_cat_avg_item_cnt'] = matrix['date_shop_cat_avg_item_cnt'].astype(np.float16)\r\n",
        "matrix = lag_feature(matrix, [1], 'date_shop_cat_avg_item_cnt')\r\n",
        "matrix.drop(['date_shop_cat_avg_item_cnt'], axis=1, inplace=True)\r\n",
        "time.time() - ts"
      ],
      "execution_count": 40,
      "outputs": [
        {
          "output_type": "execute_result",
          "data": {
            "text/plain": [
              "15.465195655822754"
            ]
          },
          "metadata": {
            "tags": []
          },
          "execution_count": 40
        }
      ]
    },
    {
      "cell_type": "code",
      "metadata": {
        "colab": {
          "base_uri": "https://localhost:8080/"
        },
        "id": "rbL_QRvdC1wJ",
        "outputId": "5f1ef614-eecd-463a-b1bd-61244104b437"
      },
      "source": [
        "# 해당 월에, 각각의 아이템 타입1 단위로, 팔린 상품 갯수의 평균과 레그. (월, 상점, 타입1) 단위\r\n",
        "ts = time.time()\r\n",
        "group = matrix.groupby(['date_block_num', 'shop_id', 'type_code']).agg({'item_cnt_month': ['mean']})\r\n",
        "group.columns = ['date_shop_type_avg_item_cnt']\r\n",
        "group.reset_index(inplace=True)\r\n",
        "\r\n",
        "matrix = pd.merge(matrix, group, on=['date_block_num', 'shop_id', 'type_code'], how='left')\r\n",
        "matrix['date_shop_type_avg_item_cnt'] = matrix['date_shop_type_avg_item_cnt'].astype(np.float16)\r\n",
        "matrix = lag_feature(matrix, [1], 'date_shop_type_avg_item_cnt')\r\n",
        "matrix.drop(['date_shop_type_avg_item_cnt'], axis=1, inplace=True)\r\n",
        "time.time() - ts"
      ],
      "execution_count": 41,
      "outputs": [
        {
          "output_type": "execute_result",
          "data": {
            "text/plain": [
              "15.73062515258789"
            ]
          },
          "metadata": {
            "tags": []
          },
          "execution_count": 41
        }
      ]
    },
    {
      "cell_type": "code",
      "metadata": {
        "colab": {
          "base_uri": "https://localhost:8080/"
        },
        "id": "0a6SHbeOC5RM",
        "outputId": "dd37dd32-9376-4f94-9891-00e466aad924"
      },
      "source": [
        "# 해당 월에, 각각의 아이템 타입2 단위로, 팔린 상품 갯수의 평균과 레그. (월, 상점, 타입2) 단위\r\n",
        "ts = time.time()\r\n",
        "group = matrix.groupby(['date_block_num', 'shop_id', 'subtype_code']).agg({'item_cnt_month': ['mean']})\r\n",
        "group.columns = ['date_shop_subtype_avg_item_cnt']\r\n",
        "group.reset_index(inplace=True)\r\n",
        "\r\n",
        "matrix = pd.merge(matrix, group, on=['date_block_num', 'shop_id', 'subtype_code'], how='left')\r\n",
        "matrix['date_shop_subtype_avg_item_cnt'] = matrix['date_shop_subtype_avg_item_cnt'].astype(np.float16)\r\n",
        "matrix = lag_feature(matrix, [1], 'date_shop_subtype_avg_item_cnt')\r\n",
        "matrix.drop(['date_shop_subtype_avg_item_cnt'], axis=1, inplace=True)\r\n",
        "time.time() - ts"
      ],
      "execution_count": 42,
      "outputs": [
        {
          "output_type": "execute_result",
          "data": {
            "text/plain": [
              "16.170294523239136"
            ]
          },
          "metadata": {
            "tags": []
          },
          "execution_count": 42
        }
      ]
    },
    {
      "cell_type": "code",
      "metadata": {
        "colab": {
          "base_uri": "https://localhost:8080/"
        },
        "id": "ebDiDP_EC7yx",
        "outputId": "05c282c4-bbe7-4281-b337-c56bcfd0a26e"
      },
      "source": [
        "# 해당 월에, 도시 단위로 팔린 상품 갯수의 평균과 레그 (월, 도시) 단위\r\n",
        "ts = time.time()\r\n",
        "group = matrix.groupby(['date_block_num', 'city_code']).agg({'item_cnt_month': ['mean']})\r\n",
        "group.columns = [ 'date_city_avg_item_cnt' ]\r\n",
        "group.reset_index(inplace=True)\r\n",
        "\r\n",
        "matrix = pd.merge(matrix, group, on=['date_block_num', 'city_code'], how='left')\r\n",
        "matrix['date_city_avg_item_cnt'] = matrix['date_city_avg_item_cnt'].astype(np.float16)\r\n",
        "matrix = lag_feature(matrix, [1], 'date_city_avg_item_cnt')\r\n",
        "matrix.drop(['date_city_avg_item_cnt'], axis=1, inplace=True)\r\n",
        "time.time() - ts"
      ],
      "execution_count": 43,
      "outputs": [
        {
          "output_type": "execute_result",
          "data": {
            "text/plain": [
              "17.30104947090149"
            ]
          },
          "metadata": {
            "tags": []
          },
          "execution_count": 43
        }
      ]
    },
    {
      "cell_type": "code",
      "metadata": {
        "colab": {
          "base_uri": "https://localhost:8080/"
        },
        "id": "1u5tvwTaC9Zz",
        "outputId": "81b41130-63fa-4cc1-f4c5-8833bc959e47"
      },
      "source": [
        "# 해당 월에, 각각 아이템, 도시 단위로, 팔린 상품 갯수의 평균과 레그. (월, 아이템, 도시) 단위\r\n",
        "ts = time.time()\r\n",
        "group = matrix.groupby(['date_block_num', 'item_id', 'city_code']).agg({'item_cnt_month': ['mean']})\r\n",
        "group.columns = [ 'date_item_city_avg_item_cnt' ]\r\n",
        "group.reset_index(inplace=True)\r\n",
        "\r\n",
        "matrix = pd.merge(matrix, group, on=['date_block_num', 'item_id', 'city_code'], how='left')\r\n",
        "matrix['date_item_city_avg_item_cnt'] = matrix['date_item_city_avg_item_cnt'].astype(np.float16)\r\n",
        "matrix = lag_feature(matrix, [1], 'date_item_city_avg_item_cnt')\r\n",
        "matrix.drop(['date_item_city_avg_item_cnt'], axis=1, inplace=True)\r\n",
        "time.time() - ts"
      ],
      "execution_count": 44,
      "outputs": [
        {
          "output_type": "execute_result",
          "data": {
            "text/plain": [
              "23.632492303848267"
            ]
          },
          "metadata": {
            "tags": []
          },
          "execution_count": 44
        }
      ]
    },
    {
      "cell_type": "code",
      "metadata": {
        "colab": {
          "base_uri": "https://localhost:8080/"
        },
        "id": "mvG2ZDfmC_di",
        "outputId": "1a449948-576a-4dde-a175-ad351fdbd9ac"
      },
      "source": [
        "# 해당 월에, 각각의 아이템 타입1 단위로, 팔린 상품 갯수의 평균과 레그. (월, 타입1) 단위\r\n",
        "ts = time.time()\r\n",
        "group = matrix.groupby(['date_block_num', 'type_code']).agg({'item_cnt_month': ['mean']})\r\n",
        "group.columns = [ 'date_type_avg_item_cnt' ]\r\n",
        "group.reset_index(inplace=True)\r\n",
        "\r\n",
        "matrix = pd.merge(matrix, group, on=['date_block_num', 'type_code'], how='left')\r\n",
        "matrix['date_type_avg_item_cnt'] = matrix['date_type_avg_item_cnt'].astype(np.float16)\r\n",
        "matrix = lag_feature(matrix, [1], 'date_type_avg_item_cnt')\r\n",
        "matrix.drop(['date_type_avg_item_cnt'], axis=1, inplace=True)\r\n",
        "time.time() - ts"
      ],
      "execution_count": 45,
      "outputs": [
        {
          "output_type": "execute_result",
          "data": {
            "text/plain": [
              "16.55892324447632"
            ]
          },
          "metadata": {
            "tags": []
          },
          "execution_count": 45
        }
      ]
    },
    {
      "cell_type": "code",
      "metadata": {
        "colab": {
          "base_uri": "https://localhost:8080/"
        },
        "id": "nyLmYOsJDTAm",
        "outputId": "34ada3bd-fc8a-4cef-bb6e-10cbdbfb88f6"
      },
      "source": [
        "# 해당 월에, 각각의 아이템 타입2 단위로, 팔린 상품 갯수의 평균과 레그. (월, 타입2) 단위\r\n",
        "ts = time.time()\r\n",
        "group = matrix.groupby(['date_block_num', 'subtype_code']).agg({'item_cnt_month': ['mean']})\r\n",
        "group.columns = [ 'date_subtype_avg_item_cnt' ]\r\n",
        "group.reset_index(inplace=True)\r\n",
        "\r\n",
        "matrix = pd.merge(matrix, group, on=['date_block_num', 'subtype_code'], how='left')\r\n",
        "matrix['date_subtype_avg_item_cnt'] = matrix['date_subtype_avg_item_cnt'].astype(np.float16)\r\n",
        "matrix = lag_feature(matrix, [1], 'date_subtype_avg_item_cnt')\r\n",
        "matrix.drop(['date_subtype_avg_item_cnt'], axis=1, inplace=True)\r\n",
        "time.time() - ts"
      ],
      "execution_count": 46,
      "outputs": [
        {
          "output_type": "execute_result",
          "data": {
            "text/plain": [
              "16.832883596420288"
            ]
          },
          "metadata": {
            "tags": []
          },
          "execution_count": 46
        }
      ]
    },
    {
      "cell_type": "code",
      "metadata": {
        "colab": {
          "base_uri": "https://localhost:8080/"
        },
        "id": "QrExZEHkDYxP",
        "outputId": "423e948c-8747-41d5-f3b7-1637aa4ea10d"
      },
      "source": [
        "ts = time.time()\r\n",
        "\r\n",
        "# 전 기간동안의 각각 상품의 평균 가격. (상품) 단위.\r\n",
        "group = train.groupby(['item_id']).agg({'item_price': ['mean']})\r\n",
        "group.columns = ['item_avg_item_price']\r\n",
        "group.reset_index(inplace=True)\r\n",
        "\r\n",
        "matrix = pd.merge(matrix, group, on=['item_id'], how='left')\r\n",
        "matrix['item_avg_item_price'] = matrix['item_avg_item_price'].astype(np.float16)\r\n",
        "\r\n",
        "# 월별 상품 평균 가격. (월, 상품) 단위.\r\n",
        "group = train.groupby(['date_block_num','item_id']).agg({'item_price': ['mean']})\r\n",
        "group.columns = ['date_item_avg_item_price']\r\n",
        "group.reset_index(inplace=True)\r\n",
        "\r\n",
        "matrix = pd.merge(matrix, group, on=['date_block_num','item_id'], how='left')\r\n",
        "matrix['date_item_avg_item_price'] = matrix['date_item_avg_item_price'].astype(np.float16)\r\n",
        "\r\n",
        "# 월별, 각 1~6개월 전의 평균 가격 (월, 상품) 단위.\r\n",
        "lags = [1,2,3,4,5,6]\r\n",
        "matrix = lag_feature(matrix, lags, 'date_item_avg_item_price')\r\n",
        "\r\n",
        "# 월별, 각 1~6개월 전의 평균 가격과 전 기간 평균 가격과의 차이. (월, 상품) 단위.\r\n",
        "# 전 구간 가격 평균하고 1~6달 가격을 비교함으로써, 지난 1~6달간의 가격 트랜드를 알 수 있음.\r\n",
        "for i in lags:\r\n",
        "    matrix['delta_price_lag_'+str(i)] = \\\r\n",
        "        (matrix['date_item_avg_item_price_lag_'+str(i)] - matrix['item_avg_item_price']) / matrix['item_avg_item_price']\r\n",
        "\r\n",
        "# 현재 달 기준, 지난 1~6달 중, 최근의 트랜드를 찾음.\r\n",
        "# 가장 최근 1달 전이 좋지만, 없을 경우 최대 6달 전까지 찾는 것.\r\n",
        "def select_trend(row):\r\n",
        "    for i in lags:\r\n",
        "        if row['delta_price_lag_'+str(i)]:\r\n",
        "            return row['delta_price_lag_'+str(i)]\r\n",
        "    return 0\r\n",
        "\r\n",
        "matrix['delta_price_lag'] = matrix.apply(select_trend, axis=1)\r\n",
        "matrix['delta_price_lag'] = matrix['delta_price_lag'].astype(np.float16)\r\n",
        "matrix['delta_price_lag'].fillna(0, inplace=True)\r\n",
        "\r\n",
        "# feature drop 하기\r\n",
        "# 가장 최근 price trend 를 찾았으니, 가격과 관련된 이전 lags 들은 필요 없음.\r\n",
        "fetures_to_drop = ['item_avg_item_price', 'date_item_avg_item_price']\r\n",
        "for i in lags:\r\n",
        "    fetures_to_drop += ['date_item_avg_item_price_lag_'+str(i)]\r\n",
        "    fetures_to_drop += ['delta_price_lag_'+str(i)]\r\n",
        "\r\n",
        "matrix.drop(fetures_to_drop, axis=1, inplace=True)\r\n",
        "\r\n",
        "time.time() - ts"
      ],
      "execution_count": 47,
      "outputs": [
        {
          "output_type": "execute_result",
          "data": {
            "text/plain": [
              "185.53083515167236"
            ]
          },
          "metadata": {
            "tags": []
          },
          "execution_count": 47
        }
      ]
    },
    {
      "cell_type": "code",
      "metadata": {
        "id": "P5AAu5IlDecp"
      },
      "source": [
        "train['revenue'] = train['item_price'] *  train['item_cnt_day']"
      ],
      "execution_count": 48,
      "outputs": []
    },
    {
      "cell_type": "code",
      "metadata": {
        "colab": {
          "base_uri": "https://localhost:8080/"
        },
        "id": "mNLl1vCVDgCD",
        "outputId": "8785ed00-e485-4cb7-bcb2-c115a92b2275"
      },
      "source": [
        "# 가격 트랜드와 동일하게, 총 수입 트랜드도 잡아봄.\r\n",
        "# 가격 트랜드 방법과 똑같음.\r\n",
        "\r\n",
        "ts = time.time()\r\n",
        "\r\n",
        "# 월별 각각의 상점 총 매출. (월, 상점) 단위.\r\n",
        "group = train.groupby(['date_block_num','shop_id']).agg({'revenue': ['sum']})\r\n",
        "group.columns = ['date_shop_revenue']\r\n",
        "group.reset_index(inplace=True)\r\n",
        "\r\n",
        "matrix = pd.merge(matrix, group, on=['date_block_num','shop_id'], how='left')\r\n",
        "matrix['date_shop_revenue'] = matrix['date_shop_revenue'].astype(np.float32)\r\n",
        "\r\n",
        "# 전 기간동안, 각각의 상점 매출 평균. (상점) 단위.\r\n",
        "group = group.groupby(['shop_id']).agg({'date_shop_revenue': ['mean']})\r\n",
        "group.columns = ['shop_avg_revenue']\r\n",
        "group.reset_index(inplace=True)\r\n",
        "\r\n",
        "matrix = pd.merge(matrix, group, on=['shop_id'], how='left')\r\n",
        "matrix['shop_avg_revenue'] = matrix['shop_avg_revenue'].astype(np.float32)\r\n",
        "\r\n",
        "# 각각 상점의 월평균 매출 - 전기간 평균매출 의 차이. (월, 상점) 단위.\r\n",
        "matrix['delta_revenue'] = (matrix['date_shop_revenue'] - matrix['shop_avg_revenue']) / matrix['shop_avg_revenue']\r\n",
        "matrix['delta_revenue'] = matrix['delta_revenue'].astype(np.float16)\r\n",
        "\r\n",
        "# 가장 최근 한 달전의 총 매출만 사용.\r\n",
        "matrix = lag_feature(matrix, [1], 'delta_revenue')\r\n",
        "\r\n",
        "# 최근 총매출 트랜드를 얻었으니, 필요없는 Feature들 다시 삭제.\r\n",
        "matrix.drop(['date_shop_revenue','shop_avg_revenue','delta_revenue'], axis=1, inplace=True)\r\n",
        "time.time() - ts"
      ],
      "execution_count": 49,
      "outputs": [
        {
          "output_type": "execute_result",
          "data": {
            "text/plain": [
              "21.22471332550049"
            ]
          },
          "metadata": {
            "tags": []
          },
          "execution_count": 49
        }
      ]
    },
    {
      "cell_type": "code",
      "metadata": {
        "id": "Eh4j1RPrDkjO"
      },
      "source": [
        "matrix['month'] = matrix['date_block_num'] % 12\r\n",
        "\r\n",
        "days = pd.Series([31,28,31,30,31,30,31,31,30,31,30,31])\r\n",
        "matrix['days'] = matrix['month'].map(days).astype(np.int8)"
      ],
      "execution_count": 50,
      "outputs": []
    },
    {
      "cell_type": "code",
      "metadata": {
        "colab": {
          "base_uri": "https://localhost:8080/"
        },
        "id": "M2rZRv-NDnOZ",
        "outputId": "abe3e3b5-2b22-42de-8dc0-9b8af6ed0f96"
      },
      "source": [
        "ts = time.time()\r\n",
        "cache = {}\r\n",
        "matrix['item_shop_last_sale'] = -1\r\n",
        "matrix['item_shop_last_sale'] = matrix['item_shop_last_sale'].astype(np.int8)\r\n",
        "\r\n",
        "# (상점, 상품)단위로, 해당 상품이 해당 월 기준, 몇 달전에 마지막으로 팔렸는지, item_shop_last_sale 에 저장.\r\n",
        "# 예를 들어 1달 전에 팔렸으면 1임.\r\n",
        "for idx, row in matrix.iterrows():    \r\n",
        "    key = str(row.item_id)+' '+str(row.shop_id)\r\n",
        "    if key not in cache:\r\n",
        "        if row.item_cnt_month != 0:\r\n",
        "            cache[key] = row.date_block_num\r\n",
        "    else:\r\n",
        "        last_date_block_num = cache[key]\r\n",
        "        matrix.at[idx, 'item_shop_last_sale'] = row.date_block_num - last_date_block_num\r\n",
        "        cache[key] = row.date_block_num         \r\n",
        "time.time() - ts"
      ],
      "execution_count": 51,
      "outputs": [
        {
          "output_type": "execute_result",
          "data": {
            "text/plain": [
              "878.7185413837433"
            ]
          },
          "metadata": {
            "tags": []
          },
          "execution_count": 51
        }
      ]
    },
    {
      "cell_type": "code",
      "metadata": {
        "colab": {
          "base_uri": "https://localhost:8080/"
        },
        "id": "BW0gfSDADrYE",
        "outputId": "4a45195b-6f78-49d7-a69e-a480ce3e48be"
      },
      "source": [
        "ts = time.time()\r\n",
        "cache = {}\r\n",
        "matrix['item_last_sale'] = -1\r\n",
        "matrix['item_last_sale'] = matrix['item_last_sale'].astype(np.int8)\r\n",
        "\r\n",
        "# (상품) 단위로, 해당 상품이 해당 월 기준, 몇 달전에 마지막으로 팔렸는지, item_last_sale 에 저장.\r\n",
        "for idx, row in matrix.iterrows():    \r\n",
        "    key = row.item_id\r\n",
        "    if key not in cache:\r\n",
        "        if row.item_cnt_month != 0:\r\n",
        "            cache[key] = row.date_block_num\r\n",
        "    else:\r\n",
        "        last_date_block_num = cache[key]\r\n",
        "        if row.date_block_num > last_date_block_num:\r\n",
        "            matrix.at[idx, 'item_last_sale'] = row.date_block_num - last_date_block_num\r\n",
        "            cache[key] = row.date_block_num         \r\n",
        "time.time() - ts"
      ],
      "execution_count": 52,
      "outputs": [
        {
          "output_type": "execute_result",
          "data": {
            "text/plain": [
              "581.2142605781555"
            ]
          },
          "metadata": {
            "tags": []
          },
          "execution_count": 52
        }
      ]
    },
    {
      "cell_type": "code",
      "metadata": {
        "colab": {
          "base_uri": "https://localhost:8080/"
        },
        "id": "cDvAc0xwDtkp",
        "outputId": "48b3160b-6b72-4edc-f15f-86646e98b23e"
      },
      "source": [
        "ts = time.time()\r\n",
        "\r\n",
        "matrix['item_shop_first_sale'] = matrix['date_block_num'] - matrix.groupby(['item_id','shop_id'])['date_block_num'].transform('min')\r\n",
        "matrix['item_first_sale'] = matrix['date_block_num'] - matrix.groupby('item_id')['date_block_num'].transform('min')\r\n",
        "time.time() - ts"
      ],
      "execution_count": 53,
      "outputs": [
        {
          "output_type": "execute_result",
          "data": {
            "text/plain": [
              "1.2311429977416992"
            ]
          },
          "metadata": {
            "tags": []
          },
          "execution_count": 53
        }
      ]
    },
    {
      "cell_type": "code",
      "metadata": {
        "colab": {
          "base_uri": "https://localhost:8080/"
        },
        "id": "8tuLd0YgDwIy",
        "outputId": "85f9cbc2-ea14-473a-fcd2-ccd58a6f4cfe"
      },
      "source": [
        "ts = time.time()\r\n",
        "matrix = matrix[matrix.date_block_num > 11]\r\n",
        "time.time() - ts"
      ],
      "execution_count": 54,
      "outputs": [
        {
          "output_type": "execute_result",
          "data": {
            "text/plain": [
              "1.4113013744354248"
            ]
          },
          "metadata": {
            "tags": []
          },
          "execution_count": 54
        }
      ]
    },
    {
      "cell_type": "code",
      "metadata": {
        "colab": {
          "base_uri": "https://localhost:8080/"
        },
        "id": "TyJKhy66DxDW",
        "outputId": "54e74657-a542-4608-f833-115f26592dbe"
      },
      "source": [
        "ts = time.time()\r\n",
        "def fill_na(df):\r\n",
        "    for col in df.columns:\r\n",
        "        if ('_lag_' in col) & (df[col].isnull().any()):\r\n",
        "            if ('item_cnt' in col):\r\n",
        "                df[col].fillna(0, inplace=True)         \r\n",
        "    return df\r\n",
        "\r\n",
        "matrix = fill_na(matrix)\r\n",
        "time.time() - ts"
      ],
      "execution_count": 55,
      "outputs": [
        {
          "output_type": "execute_result",
          "data": {
            "text/plain": [
              "2.172105312347412"
            ]
          },
          "metadata": {
            "tags": []
          },
          "execution_count": 55
        }
      ]
    },
    {
      "cell_type": "code",
      "metadata": {
        "colab": {
          "base_uri": "https://localhost:8080/"
        },
        "id": "tL_j83WcDzs9",
        "outputId": "4ca06e01-768a-46a6-f8d6-4e81f2bf43a3"
      },
      "source": [
        "matrix.columns"
      ],
      "execution_count": 39,
      "outputs": [
        {
          "output_type": "execute_result",
          "data": {
            "text/plain": [
              "Index(['date_block_num', 'shop_id', 'item_id', 'item_cnt_month', 'city_code',\n",
              "       'item_category_id', 'type_code', 'subtype_code'],\n",
              "      dtype='object')"
            ]
          },
          "metadata": {
            "tags": []
          },
          "execution_count": 39
        }
      ]
    },
    {
      "cell_type": "code",
      "metadata": {
        "colab": {
          "base_uri": "https://localhost:8080/"
        },
        "id": "WZ23VR8dD1Qk",
        "outputId": "fbec564b-2939-4893-b950-5a070c38a9b2"
      },
      "source": [
        "matrix.info()"
      ],
      "execution_count": 40,
      "outputs": [
        {
          "output_type": "stream",
          "text": [
            "<class 'pandas.core.frame.DataFrame'>\n",
            "Int64Index: 11128004 entries, 0 to 11128003\n",
            "Data columns (total 8 columns):\n",
            " #   Column            Dtype  \n",
            "---  ------            -----  \n",
            " 0   date_block_num    int8   \n",
            " 1   shop_id           int8   \n",
            " 2   item_id           int16  \n",
            " 3   item_cnt_month    float16\n",
            " 4   city_code         int8   \n",
            " 5   item_category_id  int8   \n",
            " 6   type_code         int8   \n",
            " 7   subtype_code      int8   \n",
            "dtypes: float16(1), int16(1), int8(6)\n",
            "memory usage: 191.0 MB\n"
          ],
          "name": "stdout"
        }
      ]
    },
    {
      "cell_type": "code",
      "metadata": {
        "id": "cSUicCXydAtt"
      },
      "source": [
        "matrix.to_pickle('data_n.pkl')"
      ],
      "execution_count": 41,
      "outputs": []
    },
    {
      "cell_type": "code",
      "metadata": {
        "id": "pw_R4zjgD4rp"
      },
      "source": [
        "\r\n",
        "del matrix\r\n",
        "#del cache\r\n",
        "del group\r\n",
        "del items\r\n",
        "del shops\r\n",
        "del cats\r\n",
        "del train\r\n",
        "# leave test for submission\r\n",
        "gc.collect();"
      ],
      "execution_count": 42,
      "outputs": []
    },
    {
      "cell_type": "code",
      "metadata": {
        "id": "zwsM0pkwEK8M"
      },
      "source": [
        "data = pd.read_pickle('/content/drive/MyDrive/data_n.pkl')"
      ],
      "execution_count": 43,
      "outputs": []
    },
    {
      "cell_type": "code",
      "metadata": {
        "id": "5OMs8tYpEN_8"
      },
      "source": [
        "X_train = data[data.date_block_num < 33].drop(['item_cnt_month'], axis=1)\r\n",
        "Y_train = data[data.date_block_num < 33]['item_cnt_month']\r\n",
        "X_valid = data[data.date_block_num == 33].drop(['item_cnt_month'], axis=1)\r\n",
        "Y_valid = data[data.date_block_num == 33]['item_cnt_month']\r\n",
        "X_test = data[data.date_block_num == 34].drop(['item_cnt_month'], axis=1)"
      ],
      "execution_count": 44,
      "outputs": []
    },
    {
      "cell_type": "code",
      "metadata": {
        "id": "z2dNdXmbEPwv"
      },
      "source": [
        "del data\r\n",
        "gc.collect();"
      ],
      "execution_count": 45,
      "outputs": []
    },
    {
      "cell_type": "code",
      "metadata": {
        "id": "WkZ497jR-A6H"
      },
      "source": [
        "def objective(trial,data=X_train,target=Y_train):\r\n",
        "  \r\n",
        "    \r\n",
        "    # To select which parameters to optimize, please look at the XGBoost documentation:\r\n",
        "    # https://xgboost.readthedocs.io/en/latest/parameter.html\r\n",
        "    param = {\r\n",
        "        'tree_method':'gpu_hist',  # Use GPU acceleration\r\n",
        "        'lambda': trial.suggest_loguniform(\r\n",
        "            'lambda', 1e-3, 10.0\r\n",
        "        ),\r\n",
        "        'alpha': trial.suggest_loguniform(\r\n",
        "            'alpha', 1e-3, 10.0\r\n",
        "        ),\r\n",
        "        'colsample_bytree': trial.suggest_categorical(\r\n",
        "            'colsample_bytree', [0.5,0.6,0.7,0.8,0.9,1.0]\r\n",
        "        ),\r\n",
        "        'subsample': trial.suggest_categorical(\r\n",
        "            'subsample', [0.6,0.7,0.8,1.0]\r\n",
        "        ),\r\n",
        "        'learning_rate': trial.suggest_categorical(\r\n",
        "            'learning_rate', [0.008,0.009,0.01,0.012,0.014,0.016,0.018, 0.02]\r\n",
        "        ),\r\n",
        "        'n_estimators': trial.suggest_categorical(\r\n",
        "            \"n_estimators\", [150, 200, 300, 3000]\r\n",
        "        ),\r\n",
        "        'max_depth': trial.suggest_categorical(\r\n",
        "            'max_depth', [4,5,7,9,11,13,15,17]\r\n",
        "        ),\r\n",
        "        'random_state': 42,\r\n",
        "        'min_child_weight': trial.suggest_int(\r\n",
        "            'min_child_weight', 1, 300\r\n",
        "        ),\r\n",
        "    }\r\n",
        "    model = XGBRegressor(**param, objective='reg:squarederror')  \r\n",
        "    \r\n",
        "    model.fit(X_train,Y_train,eval_set=[(X_valid,Y_valid)],early_stopping_rounds=100,verbose=False)\r\n",
        "    \r\n",
        "    preds = model.predict(X_valid)\r\n",
        "    \r\n",
        "    rmse = mean_squared_error(Y_valid, preds,squared=False)\r\n",
        "    \r\n",
        "    return rmse"
      ],
      "execution_count": 46,
      "outputs": []
    },
    {
      "cell_type": "code",
      "metadata": {
        "colab": {
          "base_uri": "https://localhost:8080/"
        },
        "id": "xm5RmYrWAP9m",
        "outputId": "65fe0981-6450-454e-d90b-b8db58cadf6f"
      },
      "source": [
        "!pip install optuna\r\n",
        "import optuna\r\n",
        "from optuna import Trial, visualization"
      ],
      "execution_count": 47,
      "outputs": [
        {
          "output_type": "stream",
          "text": [
            "Collecting optuna\n",
            "\u001b[?25l  Downloading https://files.pythonhosted.org/packages/50/67/ed0af7c66bcfb9a9a56fbafcca7d848452d78433208b59b003741879cc69/optuna-2.6.0-py3-none-any.whl (293kB)\n",
            "\r\u001b[K     |█▏                              | 10kB 22.3MB/s eta 0:00:01\r\u001b[K     |██▎                             | 20kB 30.0MB/s eta 0:00:01\r\u001b[K     |███▍                            | 30kB 22.2MB/s eta 0:00:01\r\u001b[K     |████▌                           | 40kB 26.0MB/s eta 0:00:01\r\u001b[K     |█████▋                          | 51kB 23.7MB/s eta 0:00:01\r\u001b[K     |██████▊                         | 61kB 26.3MB/s eta 0:00:01\r\u001b[K     |███████▉                        | 71kB 19.2MB/s eta 0:00:01\r\u001b[K     |█████████                       | 81kB 20.5MB/s eta 0:00:01\r\u001b[K     |██████████                      | 92kB 19.1MB/s eta 0:00:01\r\u001b[K     |███████████▏                    | 102kB 19.6MB/s eta 0:00:01\r\u001b[K     |████████████▎                   | 112kB 19.6MB/s eta 0:00:01\r\u001b[K     |█████████████▍                  | 122kB 19.6MB/s eta 0:00:01\r\u001b[K     |██████████████▌                 | 133kB 19.6MB/s eta 0:00:01\r\u001b[K     |███████████████▋                | 143kB 19.6MB/s eta 0:00:01\r\u001b[K     |████████████████▊               | 153kB 19.6MB/s eta 0:00:01\r\u001b[K     |█████████████████▉              | 163kB 19.6MB/s eta 0:00:01\r\u001b[K     |███████████████████             | 174kB 19.6MB/s eta 0:00:01\r\u001b[K     |████████████████████▏           | 184kB 19.6MB/s eta 0:00:01\r\u001b[K     |█████████████████████▎          | 194kB 19.6MB/s eta 0:00:01\r\u001b[K     |██████████████████████▍         | 204kB 19.6MB/s eta 0:00:01\r\u001b[K     |███████████████████████▌        | 215kB 19.6MB/s eta 0:00:01\r\u001b[K     |████████████████████████▋       | 225kB 19.6MB/s eta 0:00:01\r\u001b[K     |█████████████████████████▊      | 235kB 19.6MB/s eta 0:00:01\r\u001b[K     |██████████████████████████▉     | 245kB 19.6MB/s eta 0:00:01\r\u001b[K     |████████████████████████████    | 256kB 19.6MB/s eta 0:00:01\r\u001b[K     |█████████████████████████████   | 266kB 19.6MB/s eta 0:00:01\r\u001b[K     |██████████████████████████████▏ | 276kB 19.6MB/s eta 0:00:01\r\u001b[K     |███████████████████████████████▎| 286kB 19.6MB/s eta 0:00:01\r\u001b[K     |████████████████████████████████| 296kB 19.6MB/s \n",
            "\u001b[?25hRequirement already satisfied: tqdm in /usr/local/lib/python3.7/dist-packages (from optuna) (4.41.1)\n",
            "Requirement already satisfied: scipy!=1.4.0 in /usr/local/lib/python3.7/dist-packages (from optuna) (1.4.1)\n",
            "Requirement already satisfied: sqlalchemy>=1.1.0 in /usr/local/lib/python3.7/dist-packages (from optuna) (1.3.23)\n",
            "Collecting cliff\n",
            "\u001b[?25l  Downloading https://files.pythonhosted.org/packages/a2/d6/7d9acb68a77acd140be7fececb7f2701b2a29d2da9c54184cb8f93509590/cliff-3.7.0-py3-none-any.whl (80kB)\n",
            "\u001b[K     |████████████████████████████████| 81kB 12.7MB/s \n",
            "\u001b[?25hCollecting alembic\n",
            "\u001b[?25l  Downloading https://files.pythonhosted.org/packages/40/42/f73279458f33ccd1ece2285c577f6882e2c7ba80054a7518854576c452cd/alembic-1.5.6-py2.py3-none-any.whl (159kB)\n",
            "\u001b[K     |████████████████████████████████| 163kB 57.2MB/s \n",
            "\u001b[?25hCollecting cmaes>=0.8.2\n",
            "  Downloading https://files.pythonhosted.org/packages/01/1f/43b01223a0366171f474320c6e966c39a11587287f098a5f09809b45e05f/cmaes-0.8.2-py3-none-any.whl\n",
            "Requirement already satisfied: numpy<1.20.0 in /usr/local/lib/python3.7/dist-packages (from optuna) (1.19.5)\n",
            "Requirement already satisfied: packaging>=20.0 in /usr/local/lib/python3.7/dist-packages (from optuna) (20.9)\n",
            "Collecting colorlog\n",
            "  Downloading https://files.pythonhosted.org/packages/5e/39/0230290df0519d528d8d0ffdfd900150ed24e0076d13b1f19e279444aab1/colorlog-4.7.2-py2.py3-none-any.whl\n",
            "Collecting stevedore>=2.0.1\n",
            "\u001b[?25l  Downloading https://files.pythonhosted.org/packages/d4/49/b602307aeac3df3384ff1fcd05da9c0376c622a6c48bb5325f28ab165b57/stevedore-3.3.0-py3-none-any.whl (49kB)\n",
            "\u001b[K     |████████████████████████████████| 51kB 7.8MB/s \n",
            "\u001b[?25hCollecting cmd2>=1.0.0\n",
            "\u001b[?25l  Downloading https://files.pythonhosted.org/packages/15/8b/15061b32332bb35ea2a2f6263d0f616779d576e82739ec8e7fcf3c94abf5/cmd2-1.5.0-py3-none-any.whl (133kB)\n",
            "\u001b[K     |████████████████████████████████| 143kB 57.8MB/s \n",
            "\u001b[?25hRequirement already satisfied: PrettyTable>=0.7.2 in /usr/local/lib/python3.7/dist-packages (from cliff->optuna) (2.0.0)\n",
            "Requirement already satisfied: pyparsing>=2.1.0 in /usr/local/lib/python3.7/dist-packages (from cliff->optuna) (2.4.7)\n",
            "Collecting pbr!=2.1.0,>=2.0.0\n",
            "\u001b[?25l  Downloading https://files.pythonhosted.org/packages/fb/48/69046506f6ac61c1eaa9a0d42d22d54673b69e176d30ca98e3f61513e980/pbr-5.5.1-py2.py3-none-any.whl (106kB)\n",
            "\u001b[K     |████████████████████████████████| 112kB 39.7MB/s \n",
            "\u001b[?25hRequirement already satisfied: PyYAML>=3.12 in /usr/local/lib/python3.7/dist-packages (from cliff->optuna) (3.13)\n",
            "Collecting python-editor>=0.3\n",
            "  Downloading https://files.pythonhosted.org/packages/c6/d3/201fc3abe391bbae6606e6f1d598c15d367033332bd54352b12f35513717/python_editor-1.0.4-py3-none-any.whl\n",
            "Requirement already satisfied: python-dateutil in /usr/local/lib/python3.7/dist-packages (from alembic->optuna) (2.8.1)\n",
            "Collecting Mako\n",
            "\u001b[?25l  Downloading https://files.pythonhosted.org/packages/f3/54/dbc07fbb20865d3b78fdb7cf7fa713e2cba4f87f71100074ef2dc9f9d1f7/Mako-1.1.4-py2.py3-none-any.whl (75kB)\n",
            "\u001b[K     |████████████████████████████████| 81kB 10.9MB/s \n",
            "\u001b[?25hRequirement already satisfied: importlib-metadata>=1.7.0; python_version < \"3.8\" in /usr/local/lib/python3.7/dist-packages (from stevedore>=2.0.1->cliff->optuna) (3.7.0)\n",
            "Requirement already satisfied: wcwidth>=0.1.7 in /usr/local/lib/python3.7/dist-packages (from cmd2>=1.0.0->cliff->optuna) (0.2.5)\n",
            "Collecting colorama>=0.3.7\n",
            "  Downloading https://files.pythonhosted.org/packages/44/98/5b86278fbbf250d239ae0ecb724f8572af1c91f4a11edf4d36a206189440/colorama-0.4.4-py2.py3-none-any.whl\n",
            "Requirement already satisfied: attrs>=16.3.0 in /usr/local/lib/python3.7/dist-packages (from cmd2>=1.0.0->cliff->optuna) (20.3.0)\n",
            "Collecting pyperclip>=1.6\n",
            "  Downloading https://files.pythonhosted.org/packages/a7/2c/4c64579f847bd5d539803c8b909e54ba087a79d01bb3aba433a95879a6c5/pyperclip-1.8.2.tar.gz\n",
            "Requirement already satisfied: setuptools in /usr/local/lib/python3.7/dist-packages (from PrettyTable>=0.7.2->cliff->optuna) (54.0.0)\n",
            "Requirement already satisfied: six>=1.5 in /usr/local/lib/python3.7/dist-packages (from python-dateutil->alembic->optuna) (1.15.0)\n",
            "Requirement already satisfied: MarkupSafe>=0.9.2 in /usr/local/lib/python3.7/dist-packages (from Mako->alembic->optuna) (1.1.1)\n",
            "Requirement already satisfied: typing-extensions>=3.6.4; python_version < \"3.8\" in /usr/local/lib/python3.7/dist-packages (from importlib-metadata>=1.7.0; python_version < \"3.8\"->stevedore>=2.0.1->cliff->optuna) (3.7.4.3)\n",
            "Requirement already satisfied: zipp>=0.5 in /usr/local/lib/python3.7/dist-packages (from importlib-metadata>=1.7.0; python_version < \"3.8\"->stevedore>=2.0.1->cliff->optuna) (3.4.0)\n",
            "Building wheels for collected packages: pyperclip\n",
            "  Building wheel for pyperclip (setup.py) ... \u001b[?25l\u001b[?25hdone\n",
            "  Created wheel for pyperclip: filename=pyperclip-1.8.2-cp37-none-any.whl size=11107 sha256=689632a2680fc37993315d5f5d58c2b21c05092a51f89f9a9533b03bb62b2b8b\n",
            "  Stored in directory: /root/.cache/pip/wheels/25/af/b8/3407109267803f4015e1ee2ff23be0c8c19ce4008665931ee1\n",
            "Successfully built pyperclip\n",
            "Installing collected packages: pbr, stevedore, colorama, pyperclip, cmd2, cliff, python-editor, Mako, alembic, cmaes, colorlog, optuna\n",
            "Successfully installed Mako-1.1.4 alembic-1.5.6 cliff-3.7.0 cmaes-0.8.2 cmd2-1.5.0 colorama-0.4.4 colorlog-4.7.2 optuna-2.6.0 pbr-5.5.1 pyperclip-1.8.2 python-editor-1.0.4 stevedore-3.3.0\n"
          ],
          "name": "stdout"
        }
      ]
    },
    {
      "cell_type": "code",
      "metadata": {
        "colab": {
          "base_uri": "https://localhost:8080/"
        },
        "id": "xNdqjrNT-wSf",
        "outputId": "bbff7b68-0b01-4cfd-f0c1-dd4b595a3cfd"
      },
      "source": [
        "study = optuna.create_study(direction='minimize')\r\n",
        "study.optimize(objective, n_trials=25)\r\n",
        "print('Number of finished trials:', len(study.trials))\r\n",
        "print('Best trial:', study.best_trial.params)"
      ],
      "execution_count": 48,
      "outputs": [
        {
          "output_type": "stream",
          "text": [
            "\u001b[32m[I 2021-03-08 10:49:55,245]\u001b[0m A new study created in memory with name: no-name-bc7d32f1-2331-4a5c-9025-07c137c233a6\u001b[0m\n",
            "\u001b[32m[I 2021-03-08 10:50:45,082]\u001b[0m Trial 0 finished with value: 1.032942533493042 and parameters: {'lambda': 0.1330059520531632, 'alpha': 1.0677732011403198, 'colsample_bytree': 0.5, 'subsample': 0.7, 'learning_rate': 0.008, 'n_estimators': 200, 'max_depth': 13, 'min_child_weight': 36}. Best is trial 0 with value: 1.032942533493042.\u001b[0m\n",
            "\u001b[32m[I 2021-03-08 10:52:03,070]\u001b[0m Trial 1 finished with value: 0.9977468848228455 and parameters: {'lambda': 0.001259423073861956, 'alpha': 0.011975195653501554, 'colsample_bytree': 1.0, 'subsample': 0.7, 'learning_rate': 0.014, 'n_estimators': 300, 'max_depth': 13, 'min_child_weight': 127}. Best is trial 1 with value: 0.9977468848228455.\u001b[0m\n",
            "\u001b[32m[I 2021-03-08 10:52:16,170]\u001b[0m Trial 2 finished with value: 1.0789377689361572 and parameters: {'lambda': 0.09899495007181211, 'alpha': 0.002280288847835971, 'colsample_bytree': 1.0, 'subsample': 0.7, 'learning_rate': 0.02, 'n_estimators': 200, 'max_depth': 4, 'min_child_weight': 206}. Best is trial 1 with value: 0.9977468848228455.\u001b[0m\n",
            "\u001b[32m[I 2021-03-08 10:52:36,800]\u001b[0m Trial 3 finished with value: 1.08600652217865 and parameters: {'lambda': 0.15695472082670345, 'alpha': 0.6332309303595292, 'colsample_bytree': 0.5, 'subsample': 0.8, 'learning_rate': 0.009, 'n_estimators': 300, 'max_depth': 5, 'min_child_weight': 246}. Best is trial 1 with value: 0.9977468848228455.\u001b[0m\n",
            "\u001b[32m[I 2021-03-08 10:54:00,347]\u001b[0m Trial 4 finished with value: 1.0082666873931885 and parameters: {'lambda': 1.2724271352644858, 'alpha': 0.35446524694179327, 'colsample_bytree': 0.9, 'subsample': 0.8, 'learning_rate': 0.014, 'n_estimators': 150, 'max_depth': 17, 'min_child_weight': 290}. Best is trial 1 with value: 0.9977468848228455.\u001b[0m\n",
            "\u001b[32m[I 2021-03-08 10:54:32,003]\u001b[0m Trial 5 finished with value: 1.0152419805526733 and parameters: {'lambda': 0.7009533920159532, 'alpha': 2.472953581741466, 'colsample_bytree': 0.8, 'subsample': 0.7, 'learning_rate': 0.018, 'n_estimators': 300, 'max_depth': 9, 'min_child_weight': 219}. Best is trial 1 with value: 0.9977468848228455.\u001b[0m\n",
            "\u001b[32m[I 2021-03-08 10:54:49,521]\u001b[0m Trial 6 finished with value: 1.070759892463684 and parameters: {'lambda': 0.09704285657169585, 'alpha': 0.0011026770687270172, 'colsample_bytree': 0.9, 'subsample': 0.7, 'learning_rate': 0.018, 'n_estimators': 300, 'max_depth': 4, 'min_child_weight': 102}. Best is trial 1 with value: 0.9977468848228455.\u001b[0m\n",
            "\u001b[32m[I 2021-03-08 10:55:03,030]\u001b[0m Trial 7 finished with value: 1.076668620109558 and parameters: {'lambda': 0.43584285227176367, 'alpha': 0.0063947765919517415, 'colsample_bytree': 0.9, 'subsample': 0.8, 'learning_rate': 0.02, 'n_estimators': 200, 'max_depth': 4, 'min_child_weight': 67}. Best is trial 1 with value: 0.9977468848228455.\u001b[0m\n",
            "\u001b[32m[I 2021-03-08 10:55:16,385]\u001b[0m Trial 8 finished with value: 1.090175747871399 and parameters: {'lambda': 2.6262199377037194, 'alpha': 0.008415395805832828, 'colsample_bytree': 0.6, 'subsample': 1.0, 'learning_rate': 0.014, 'n_estimators': 200, 'max_depth': 4, 'min_child_weight': 116}. Best is trial 1 with value: 0.9977468848228455.\u001b[0m\n",
            "\u001b[32m[I 2021-03-08 10:55:29,846]\u001b[0m Trial 9 finished with value: 1.0973620414733887 and parameters: {'lambda': 0.11485179709282907, 'alpha': 0.1263960766619661, 'colsample_bytree': 0.6, 'subsample': 0.6, 'learning_rate': 0.012, 'n_estimators': 200, 'max_depth': 4, 'min_child_weight': 219}. Best is trial 1 with value: 0.9977468848228455.\u001b[0m\n",
            "\u001b[32m[I 2021-03-08 10:57:17,454]\u001b[0m Trial 10 finished with value: 0.9924966096878052 and parameters: {'lambda': 0.0010573026168612721, 'alpha': 0.03215486883581207, 'colsample_bytree': 1.0, 'subsample': 0.6, 'learning_rate': 0.01, 'n_estimators': 3000, 'max_depth': 11, 'min_child_weight': 4}. Best is trial 10 with value: 0.9924966096878052.\u001b[0m\n",
            "\u001b[32m[I 2021-03-08 10:59:04,813]\u001b[0m Trial 11 finished with value: 0.9927366971969604 and parameters: {'lambda': 0.0011200783316702044, 'alpha': 0.038174804348684706, 'colsample_bytree': 1.0, 'subsample': 0.6, 'learning_rate': 0.01, 'n_estimators': 3000, 'max_depth': 11, 'min_child_weight': 5}. Best is trial 10 with value: 0.9924966096878052.\u001b[0m\n",
            "\u001b[32m[I 2021-03-08 11:00:51,486]\u001b[0m Trial 12 finished with value: 0.9925512671470642 and parameters: {'lambda': 0.0010722751308980887, 'alpha': 0.050174342123634176, 'colsample_bytree': 1.0, 'subsample': 0.6, 'learning_rate': 0.01, 'n_estimators': 3000, 'max_depth': 11, 'min_child_weight': 7}. Best is trial 10 with value: 0.9924966096878052.\u001b[0m\n",
            "\u001b[32m[I 2021-03-08 11:02:51,384]\u001b[0m Trial 13 finished with value: 0.9952030777931213 and parameters: {'lambda': 0.010478497754230742, 'alpha': 0.1041596935460548, 'colsample_bytree': 0.7, 'subsample': 0.6, 'learning_rate': 0.01, 'n_estimators': 3000, 'max_depth': 11, 'min_child_weight': 8}. Best is trial 10 with value: 0.9924966096878052.\u001b[0m\n",
            "\u001b[32m[I 2021-03-08 11:05:19,264]\u001b[0m Trial 14 finished with value: 1.00082528591156 and parameters: {'lambda': 0.00558341538289406, 'alpha': 0.022964709484867545, 'colsample_bytree': 1.0, 'subsample': 0.6, 'learning_rate': 0.016, 'n_estimators': 3000, 'max_depth': 7, 'min_child_weight': 56}. Best is trial 10 with value: 0.9924966096878052.\u001b[0m\n",
            "\u001b[32m[I 2021-03-08 11:10:46,746]\u001b[0m Trial 15 finished with value: 1.0020657777786255 and parameters: {'lambda': 0.004867564032305775, 'alpha': 0.0527467808383825, 'colsample_bytree': 1.0, 'subsample': 0.6, 'learning_rate': 0.01, 'n_estimators': 3000, 'max_depth': 15, 'min_child_weight': 2}. Best is trial 10 with value: 0.9924966096878052.\u001b[0m\n",
            "\u001b[32m[I 2021-03-08 11:12:17,589]\u001b[0m Trial 16 finished with value: 1.0054118633270264 and parameters: {'lambda': 0.02512819285782946, 'alpha': 0.2964849018108002, 'colsample_bytree': 1.0, 'subsample': 1.0, 'learning_rate': 0.01, 'n_estimators': 3000, 'max_depth': 11, 'min_child_weight': 83}. Best is trial 10 with value: 0.9924966096878052.\u001b[0m\n",
            "\u001b[32m[I 2021-03-08 11:16:17,589]\u001b[0m Trial 17 finished with value: 0.9964396953582764 and parameters: {'lambda': 0.0010852960775488858, 'alpha': 0.003579614800304348, 'colsample_bytree': 0.7, 'subsample': 0.6, 'learning_rate': 0.01, 'n_estimators': 3000, 'max_depth': 11, 'min_child_weight': 164}. Best is trial 10 with value: 0.9924966096878052.\u001b[0m\n",
            "\u001b[32m[I 2021-03-08 11:18:17,023]\u001b[0m Trial 18 finished with value: 0.9921896457672119 and parameters: {'lambda': 0.00261275183001229, 'alpha': 0.02302268969109924, 'colsample_bytree': 0.8, 'subsample': 0.6, 'learning_rate': 0.016, 'n_estimators': 3000, 'max_depth': 11, 'min_child_weight': 33}. Best is trial 18 with value: 0.9921896457672119.\u001b[0m\n",
            "\u001b[32m[I 2021-03-08 11:18:36,248]\u001b[0m Trial 19 finished with value: 1.0261223316192627 and parameters: {'lambda': 0.0031178119498291284, 'alpha': 8.646273869596653, 'colsample_bytree': 0.8, 'subsample': 0.6, 'learning_rate': 0.016, 'n_estimators': 150, 'max_depth': 9, 'min_child_weight': 42}. Best is trial 18 with value: 0.9921896457672119.\u001b[0m\n",
            "\u001b[32m[I 2021-03-08 11:24:00,150]\u001b[0m Trial 20 finished with value: 0.9951624274253845 and parameters: {'lambda': 0.02268817061753348, 'alpha': 0.016223585832863263, 'colsample_bytree': 0.8, 'subsample': 1.0, 'learning_rate': 0.016, 'n_estimators': 3000, 'max_depth': 17, 'min_child_weight': 153}. Best is trial 18 with value: 0.9921896457672119.\u001b[0m\n",
            "\u001b[32m[I 2021-03-08 11:26:14,360]\u001b[0m Trial 21 finished with value: 0.9918228387832642 and parameters: {'lambda': 0.0024450056125697, 'alpha': 0.03617971341494534, 'colsample_bytree': 0.8, 'subsample': 0.6, 'learning_rate': 0.01, 'n_estimators': 3000, 'max_depth': 11, 'min_child_weight': 27}. Best is trial 21 with value: 0.9918228387832642.\u001b[0m\n",
            "\u001b[32m[I 2021-03-08 11:27:48,605]\u001b[0m Trial 22 finished with value: 0.9917213916778564 and parameters: {'lambda': 0.0028604903355720105, 'alpha': 0.14432047497533834, 'colsample_bytree': 0.8, 'subsample': 0.6, 'learning_rate': 0.016, 'n_estimators': 3000, 'max_depth': 11, 'min_child_weight': 28}. Best is trial 22 with value: 0.9917213916778564.\u001b[0m\n",
            "\u001b[32m[I 2021-03-08 11:29:22,538]\u001b[0m Trial 23 finished with value: 0.9920845031738281 and parameters: {'lambda': 0.0024159761056065533, 'alpha': 0.16458782414771878, 'colsample_bytree': 0.8, 'subsample': 0.6, 'learning_rate': 0.016, 'n_estimators': 3000, 'max_depth': 11, 'min_child_weight': 32}. Best is trial 22 with value: 0.9917213916778564.\u001b[0m\n",
            "\u001b[32m[I 2021-03-08 11:31:57,586]\u001b[0m Trial 24 finished with value: 0.9923799633979797 and parameters: {'lambda': 0.01475031614531118, 'alpha': 0.18385790979996205, 'colsample_bytree': 0.8, 'subsample': 0.6, 'learning_rate': 0.016, 'n_estimators': 3000, 'max_depth': 11, 'min_child_weight': 84}. Best is trial 22 with value: 0.9917213916778564.\u001b[0m\n"
          ],
          "name": "stderr"
        },
        {
          "output_type": "stream",
          "text": [
            "Number of finished trials: 25\n",
            "Best trial: {'lambda': 0.0028604903355720105, 'alpha': 0.14432047497533834, 'colsample_bytree': 0.8, 'subsample': 0.6, 'learning_rate': 0.016, 'n_estimators': 3000, 'max_depth': 11, 'min_child_weight': 28}\n"
          ],
          "name": "stdout"
        }
      ]
    },
    {
      "cell_type": "code",
      "metadata": {
        "colab": {
          "base_uri": "https://localhost:8080/",
          "height": 309
        },
        "id": "TQP_TPoE-7Gz",
        "outputId": "fbce14c5-e127-4158-a3db-a344349aa455"
      },
      "source": [
        "study.trials_dataframe().head()"
      ],
      "execution_count": 11,
      "outputs": [
        {
          "output_type": "execute_result",
          "data": {
            "text/html": [
              "<div>\n",
              "<style scoped>\n",
              "    .dataframe tbody tr th:only-of-type {\n",
              "        vertical-align: middle;\n",
              "    }\n",
              "\n",
              "    .dataframe tbody tr th {\n",
              "        vertical-align: top;\n",
              "    }\n",
              "\n",
              "    .dataframe thead th {\n",
              "        text-align: right;\n",
              "    }\n",
              "</style>\n",
              "<table border=\"1\" class=\"dataframe\">\n",
              "  <thead>\n",
              "    <tr style=\"text-align: right;\">\n",
              "      <th></th>\n",
              "      <th>number</th>\n",
              "      <th>value</th>\n",
              "      <th>datetime_start</th>\n",
              "      <th>datetime_complete</th>\n",
              "      <th>duration</th>\n",
              "      <th>params_alpha</th>\n",
              "      <th>params_colsample_bytree</th>\n",
              "      <th>params_lambda</th>\n",
              "      <th>params_learning_rate</th>\n",
              "      <th>params_max_depth</th>\n",
              "      <th>params_min_child_weight</th>\n",
              "      <th>params_n_estimators</th>\n",
              "      <th>params_subsample</th>\n",
              "      <th>state</th>\n",
              "    </tr>\n",
              "  </thead>\n",
              "  <tbody>\n",
              "    <tr>\n",
              "      <th>0</th>\n",
              "      <td>0</td>\n",
              "      <td>0.914802</td>\n",
              "      <td>2021-03-04 16:10:32.310388</td>\n",
              "      <td>2021-03-04 16:14:25.262230</td>\n",
              "      <td>0 days 00:03:52.951842</td>\n",
              "      <td>0.045229</td>\n",
              "      <td>0.5</td>\n",
              "      <td>1.993809</td>\n",
              "      <td>0.010</td>\n",
              "      <td>4</td>\n",
              "      <td>211</td>\n",
              "      <td>3000</td>\n",
              "      <td>0.8</td>\n",
              "      <td>COMPLETE</td>\n",
              "    </tr>\n",
              "    <tr>\n",
              "      <th>1</th>\n",
              "      <td>1</td>\n",
              "      <td>0.900533</td>\n",
              "      <td>2021-03-04 16:14:25.263994</td>\n",
              "      <td>2021-03-04 16:15:45.498326</td>\n",
              "      <td>0 days 00:01:20.234332</td>\n",
              "      <td>0.005477</td>\n",
              "      <td>0.7</td>\n",
              "      <td>0.580335</td>\n",
              "      <td>0.018</td>\n",
              "      <td>15</td>\n",
              "      <td>112</td>\n",
              "      <td>200</td>\n",
              "      <td>0.7</td>\n",
              "      <td>COMPLETE</td>\n",
              "    </tr>\n",
              "    <tr>\n",
              "      <th>2</th>\n",
              "      <td>2</td>\n",
              "      <td>0.903841</td>\n",
              "      <td>2021-03-04 16:15:45.499751</td>\n",
              "      <td>2021-03-04 16:16:36.105962</td>\n",
              "      <td>0 days 00:00:50.606211</td>\n",
              "      <td>1.128180</td>\n",
              "      <td>0.9</td>\n",
              "      <td>0.868682</td>\n",
              "      <td>0.018</td>\n",
              "      <td>13</td>\n",
              "      <td>77</td>\n",
              "      <td>150</td>\n",
              "      <td>0.8</td>\n",
              "      <td>COMPLETE</td>\n",
              "    </tr>\n",
              "    <tr>\n",
              "      <th>3</th>\n",
              "      <td>3</td>\n",
              "      <td>0.904817</td>\n",
              "      <td>2021-03-04 16:16:36.107453</td>\n",
              "      <td>2021-03-04 16:18:55.591364</td>\n",
              "      <td>0 days 00:02:19.483911</td>\n",
              "      <td>0.011069</td>\n",
              "      <td>0.9</td>\n",
              "      <td>0.021592</td>\n",
              "      <td>0.008</td>\n",
              "      <td>15</td>\n",
              "      <td>208</td>\n",
              "      <td>3000</td>\n",
              "      <td>1.0</td>\n",
              "      <td>COMPLETE</td>\n",
              "    </tr>\n",
              "    <tr>\n",
              "      <th>4</th>\n",
              "      <td>4</td>\n",
              "      <td>0.900455</td>\n",
              "      <td>2021-03-04 16:18:55.592935</td>\n",
              "      <td>2021-03-04 16:20:36.089185</td>\n",
              "      <td>0 days 00:01:40.496250</td>\n",
              "      <td>0.045389</td>\n",
              "      <td>0.7</td>\n",
              "      <td>0.005180</td>\n",
              "      <td>0.009</td>\n",
              "      <td>13</td>\n",
              "      <td>229</td>\n",
              "      <td>3000</td>\n",
              "      <td>0.7</td>\n",
              "      <td>COMPLETE</td>\n",
              "    </tr>\n",
              "  </tbody>\n",
              "</table>\n",
              "</div>"
            ],
            "text/plain": [
              "   number     value             datetime_start          datetime_complete  \\\n",
              "0       0  0.914802 2021-03-04 16:10:32.310388 2021-03-04 16:14:25.262230   \n",
              "1       1  0.900533 2021-03-04 16:14:25.263994 2021-03-04 16:15:45.498326   \n",
              "2       2  0.903841 2021-03-04 16:15:45.499751 2021-03-04 16:16:36.105962   \n",
              "3       3  0.904817 2021-03-04 16:16:36.107453 2021-03-04 16:18:55.591364   \n",
              "4       4  0.900455 2021-03-04 16:18:55.592935 2021-03-04 16:20:36.089185   \n",
              "\n",
              "                duration  params_alpha  params_colsample_bytree  \\\n",
              "0 0 days 00:03:52.951842      0.045229                      0.5   \n",
              "1 0 days 00:01:20.234332      0.005477                      0.7   \n",
              "2 0 days 00:00:50.606211      1.128180                      0.9   \n",
              "3 0 days 00:02:19.483911      0.011069                      0.9   \n",
              "4 0 days 00:01:40.496250      0.045389                      0.7   \n",
              "\n",
              "   params_lambda  params_learning_rate  params_max_depth  \\\n",
              "0       1.993809                 0.010                 4   \n",
              "1       0.580335                 0.018                15   \n",
              "2       0.868682                 0.018                13   \n",
              "3       0.021592                 0.008                15   \n",
              "4       0.005180                 0.009                13   \n",
              "\n",
              "   params_min_child_weight  params_n_estimators  params_subsample     state  \n",
              "0                      211                 3000               0.8  COMPLETE  \n",
              "1                      112                  200               0.7  COMPLETE  \n",
              "2                       77                  150               0.8  COMPLETE  \n",
              "3                      208                 3000               1.0  COMPLETE  \n",
              "4                      229                 3000               0.7  COMPLETE  "
            ]
          },
          "metadata": {
            "tags": []
          },
          "execution_count": 11
        }
      ]
    },
    {
      "cell_type": "code",
      "metadata": {
        "colab": {
          "base_uri": "https://localhost:8080/"
        },
        "id": "7wV1f0IJ-3J-",
        "outputId": "a8a686e1-703d-462d-f5a6-37827ae108af"
      },
      "source": [
        "study.best_params"
      ],
      "execution_count": 49,
      "outputs": [
        {
          "output_type": "execute_result",
          "data": {
            "text/plain": [
              "{'alpha': 0.14432047497533834,\n",
              " 'colsample_bytree': 0.8,\n",
              " 'lambda': 0.0028604903355720105,\n",
              " 'learning_rate': 0.016,\n",
              " 'max_depth': 11,\n",
              " 'min_child_weight': 28,\n",
              " 'n_estimators': 3000,\n",
              " 'subsample': 0.6}"
            ]
          },
          "metadata": {
            "tags": []
          },
          "execution_count": 49
        }
      ]
    },
    {
      "cell_type": "code",
      "metadata": {
        "colab": {
          "base_uri": "https://localhost:8080/"
        },
        "id": "EMdSvh3M--Lo",
        "outputId": "c5deecf1-7377-4434-cd26-a3fca291c932"
      },
      "source": [
        "best_params = study.best_params\r\n",
        "best_params['tree_method'] = 'gpu_hist'\r\n",
        "best_params['random_state'] = 42\r\n",
        "\r\n",
        "clf = XGBRegressor(**(best_params), objective='reg:squarederror')\r\n",
        "\r\n",
        "clf.fit(X_train, \r\n",
        "    Y_train)"
      ],
      "execution_count": 53,
      "outputs": [
        {
          "output_type": "execute_result",
          "data": {
            "text/plain": [
              "XGBRegressor(alpha=0.14432047497533834, base_score=0.5, booster='gbtree',\n",
              "             colsample_bylevel=1, colsample_bynode=1, colsample_bytree=0.8,\n",
              "             gamma=0, importance_type='gain', lambda=0.0028604903355720105,\n",
              "             learning_rate=0.016, max_delta_step=0, max_depth=11,\n",
              "             min_child_weight=28, missing=None, n_estimators=3000, n_jobs=1,\n",
              "             nthread=None, objective='reg:squarederror', random_state=42,\n",
              "             reg_alpha=0, reg_lambda=1, scale_pos_weight=1, seed=None,\n",
              "             silent=None, subsample=0.6, tree_method='gpu_hist', verbosity=1)"
            ]
          },
          "metadata": {
            "tags": []
          },
          "execution_count": 53
        }
      ]
    },
    {
      "cell_type": "code",
      "metadata": {
        "colab": {
          "base_uri": "https://localhost:8080/",
          "height": 405
        },
        "id": "Lv9icewBEQ59",
        "outputId": "369b4744-97f4-4640-99cd-64c103abad00"
      },
      "source": [
        "ts = time.time()\r\n",
        "\r\n",
        "model = XGBRegressor(\r\n",
        "    alpha=0.03244039167530487, base_score=0.5,\r\n",
        "    booster='gbtree',\r\n",
        "    colsample_bylevel=1, colsample_bynode=1, colsample_bytree=0.9,\r\n",
        "    gamma=0, gpu_id=0, importance_type='gain',\r\n",
        "    interaction_constraints='',\r\n",
        "    learning_rate=0.009, max_delta_step=0, max_depth=17,\r\n",
        "    min_child_weight=249,\r\n",
        "    monotone_constraints='(0,0,0,0,0,0,0,0,0,0,0,0,0,0)',\r\n",
        "    reg_alpha=0.0324403904, reg_lambda=0.00100399321,\r\n",
        "    scale_pos_weight=1, subsample=0.7, tree_method='gpu_hist',\r\n",
        "    validate_parameters=1,    \r\n",
        "    seed=42)\r\n",
        "\r\n",
        "model.fit(\r\n",
        "    X_train, \r\n",
        "    Y_train, \r\n",
        "    eval_metric=\"rmse\", \r\n",
        "    eval_set=[(X_train, Y_train), (X_valid, Y_valid)], \r\n",
        "    verbose=True, \r\n",
        "    early_stopping_rounds = 10)\r\n",
        "\r\n",
        "time.time() - ts"
      ],
      "execution_count": 52,
      "outputs": [
        {
          "output_type": "error",
          "ename": "KeyboardInterrupt",
          "evalue": "ignored",
          "traceback": [
            "\u001b[0;31m---------------------------------------------------------------------------\u001b[0m",
            "\u001b[0;31mKeyboardInterrupt\u001b[0m                         Traceback (most recent call last)",
            "\u001b[0;32m<ipython-input-52-728d7f48e945>\u001b[0m in \u001b[0;36m<module>\u001b[0;34m()\u001b[0m\n\u001b[1;32m     17\u001b[0m model.fit(\n\u001b[1;32m     18\u001b[0m     \u001b[0mX_train\u001b[0m\u001b[0;34m,\u001b[0m\u001b[0;34m\u001b[0m\u001b[0;34m\u001b[0m\u001b[0m\n\u001b[0;32m---> 19\u001b[0;31m     Y_train)\n\u001b[0m\u001b[1;32m     20\u001b[0m \u001b[0;34m\u001b[0m\u001b[0m\n\u001b[1;32m     21\u001b[0m \u001b[0mtime\u001b[0m\u001b[0;34m.\u001b[0m\u001b[0mtime\u001b[0m\u001b[0;34m(\u001b[0m\u001b[0;34m)\u001b[0m \u001b[0;34m-\u001b[0m \u001b[0mts\u001b[0m\u001b[0;34m\u001b[0m\u001b[0;34m\u001b[0m\u001b[0m\n",
            "\u001b[0;32m/usr/local/lib/python3.7/dist-packages/xgboost/sklearn.py\u001b[0m in \u001b[0;36mfit\u001b[0;34m(self, X, y, sample_weight, eval_set, eval_metric, early_stopping_rounds, verbose, xgb_model, sample_weight_eval_set, callbacks)\u001b[0m\n\u001b[1;32m    358\u001b[0m                                    missing=self.missing, nthread=self.n_jobs)\n\u001b[1;32m    359\u001b[0m         \u001b[0;32melse\u001b[0m\u001b[0;34m:\u001b[0m\u001b[0;34m\u001b[0m\u001b[0;34m\u001b[0m\u001b[0m\n\u001b[0;32m--> 360\u001b[0;31m             \u001b[0mtrainDmatrix\u001b[0m \u001b[0;34m=\u001b[0m \u001b[0mDMatrix\u001b[0m\u001b[0;34m(\u001b[0m\u001b[0mX\u001b[0m\u001b[0;34m,\u001b[0m \u001b[0mlabel\u001b[0m\u001b[0;34m=\u001b[0m\u001b[0my\u001b[0m\u001b[0;34m,\u001b[0m \u001b[0mmissing\u001b[0m\u001b[0;34m=\u001b[0m\u001b[0mself\u001b[0m\u001b[0;34m.\u001b[0m\u001b[0mmissing\u001b[0m\u001b[0;34m,\u001b[0m \u001b[0mnthread\u001b[0m\u001b[0;34m=\u001b[0m\u001b[0mself\u001b[0m\u001b[0;34m.\u001b[0m\u001b[0mn_jobs\u001b[0m\u001b[0;34m)\u001b[0m\u001b[0;34m\u001b[0m\u001b[0;34m\u001b[0m\u001b[0m\n\u001b[0m\u001b[1;32m    361\u001b[0m \u001b[0;34m\u001b[0m\u001b[0m\n\u001b[1;32m    362\u001b[0m         \u001b[0mevals_result\u001b[0m \u001b[0;34m=\u001b[0m \u001b[0;34m{\u001b[0m\u001b[0;34m}\u001b[0m\u001b[0;34m\u001b[0m\u001b[0;34m\u001b[0m\u001b[0m\n",
            "\u001b[0;32m/usr/local/lib/python3.7/dist-packages/xgboost/core.py\u001b[0m in \u001b[0;36m__init__\u001b[0;34m(self, data, label, missing, weight, silent, feature_names, feature_types, nthread)\u001b[0m\n\u001b[1;32m    417\u001b[0m                 \u001b[0mself\u001b[0m\u001b[0;34m.\u001b[0m\u001b[0mset_label_npy2d\u001b[0m\u001b[0;34m(\u001b[0m\u001b[0mlabel\u001b[0m\u001b[0;34m)\u001b[0m\u001b[0;34m\u001b[0m\u001b[0;34m\u001b[0m\u001b[0m\n\u001b[1;32m    418\u001b[0m             \u001b[0;32melse\u001b[0m\u001b[0;34m:\u001b[0m\u001b[0;34m\u001b[0m\u001b[0;34m\u001b[0m\u001b[0m\n\u001b[0;32m--> 419\u001b[0;31m                 \u001b[0mself\u001b[0m\u001b[0;34m.\u001b[0m\u001b[0mset_label\u001b[0m\u001b[0;34m(\u001b[0m\u001b[0mlabel\u001b[0m\u001b[0;34m)\u001b[0m\u001b[0;34m\u001b[0m\u001b[0;34m\u001b[0m\u001b[0m\n\u001b[0m\u001b[1;32m    420\u001b[0m         \u001b[0;32mif\u001b[0m \u001b[0mweight\u001b[0m \u001b[0;32mis\u001b[0m \u001b[0;32mnot\u001b[0m \u001b[0;32mNone\u001b[0m\u001b[0;34m:\u001b[0m\u001b[0;34m\u001b[0m\u001b[0;34m\u001b[0m\u001b[0m\n\u001b[1;32m    421\u001b[0m             \u001b[0;32mif\u001b[0m \u001b[0misinstance\u001b[0m\u001b[0;34m(\u001b[0m\u001b[0mweight\u001b[0m\u001b[0;34m,\u001b[0m \u001b[0mnp\u001b[0m\u001b[0;34m.\u001b[0m\u001b[0mndarray\u001b[0m\u001b[0;34m)\u001b[0m\u001b[0;34m:\u001b[0m\u001b[0;34m\u001b[0m\u001b[0;34m\u001b[0m\u001b[0m\n",
            "\u001b[0;32m/usr/local/lib/python3.7/dist-packages/xgboost/core.py\u001b[0m in \u001b[0;36mset_label\u001b[0;34m(self, label)\u001b[0m\n\u001b[1;32m    669\u001b[0m             \u001b[0mThe\u001b[0m \u001b[0mlabel\u001b[0m \u001b[0minformation\u001b[0m \u001b[0mto\u001b[0m \u001b[0mbe\u001b[0m \u001b[0mset\u001b[0m \u001b[0minto\u001b[0m \u001b[0mDMatrix\u001b[0m\u001b[0;34m\u001b[0m\u001b[0;34m\u001b[0m\u001b[0m\n\u001b[1;32m    670\u001b[0m         \"\"\"\n\u001b[0;32m--> 671\u001b[0;31m         \u001b[0mself\u001b[0m\u001b[0;34m.\u001b[0m\u001b[0mset_float_info\u001b[0m\u001b[0;34m(\u001b[0m\u001b[0;34m'label'\u001b[0m\u001b[0;34m,\u001b[0m \u001b[0mlabel\u001b[0m\u001b[0;34m)\u001b[0m\u001b[0;34m\u001b[0m\u001b[0;34m\u001b[0m\u001b[0m\n\u001b[0m\u001b[1;32m    672\u001b[0m \u001b[0;34m\u001b[0m\u001b[0m\n\u001b[1;32m    673\u001b[0m     \u001b[0;32mdef\u001b[0m \u001b[0mset_label_npy2d\u001b[0m\u001b[0;34m(\u001b[0m\u001b[0mself\u001b[0m\u001b[0;34m,\u001b[0m \u001b[0mlabel\u001b[0m\u001b[0;34m)\u001b[0m\u001b[0;34m:\u001b[0m\u001b[0;34m\u001b[0m\u001b[0;34m\u001b[0m\u001b[0m\n",
            "\u001b[0;32m/usr/local/lib/python3.7/dist-packages/xgboost/core.py\u001b[0m in \u001b[0;36mset_float_info\u001b[0;34m(self, field, data)\u001b[0m\n\u001b[1;32m    590\u001b[0m             \u001b[0mself\u001b[0m\u001b[0;34m.\u001b[0m\u001b[0mset_float_info_npy2d\u001b[0m\u001b[0;34m(\u001b[0m\u001b[0mfield\u001b[0m\u001b[0;34m,\u001b[0m \u001b[0mdata\u001b[0m\u001b[0;34m)\u001b[0m\u001b[0;34m\u001b[0m\u001b[0;34m\u001b[0m\u001b[0m\n\u001b[1;32m    591\u001b[0m             \u001b[0;32mreturn\u001b[0m\u001b[0;34m\u001b[0m\u001b[0;34m\u001b[0m\u001b[0m\n\u001b[0;32m--> 592\u001b[0;31m         \u001b[0mc_data\u001b[0m \u001b[0;34m=\u001b[0m \u001b[0mc_array\u001b[0m\u001b[0;34m(\u001b[0m\u001b[0mctypes\u001b[0m\u001b[0;34m.\u001b[0m\u001b[0mc_float\u001b[0m\u001b[0;34m,\u001b[0m \u001b[0mdata\u001b[0m\u001b[0;34m)\u001b[0m\u001b[0;34m\u001b[0m\u001b[0;34m\u001b[0m\u001b[0m\n\u001b[0m\u001b[1;32m    593\u001b[0m         _check_call(_LIB.XGDMatrixSetFloatInfo(self.handle,\n\u001b[1;32m    594\u001b[0m                                                \u001b[0mc_str\u001b[0m\u001b[0;34m(\u001b[0m\u001b[0mfield\u001b[0m\u001b[0;34m)\u001b[0m\u001b[0;34m,\u001b[0m\u001b[0;34m\u001b[0m\u001b[0;34m\u001b[0m\u001b[0m\n",
            "\u001b[0;32m/usr/local/lib/python3.7/dist-packages/xgboost/core.py\u001b[0m in \u001b[0;36mc_array\u001b[0;34m(ctype, values)\u001b[0m\n\u001b[1;32m    215\u001b[0m     \u001b[0;32mif\u001b[0m \u001b[0misinstance\u001b[0m\u001b[0;34m(\u001b[0m\u001b[0mvalues\u001b[0m\u001b[0;34m,\u001b[0m \u001b[0mnp\u001b[0m\u001b[0;34m.\u001b[0m\u001b[0mndarray\u001b[0m\u001b[0;34m)\u001b[0m \u001b[0;32mand\u001b[0m \u001b[0mvalues\u001b[0m\u001b[0;34m.\u001b[0m\u001b[0mdtype\u001b[0m\u001b[0;34m.\u001b[0m\u001b[0mitemsize\u001b[0m \u001b[0;34m==\u001b[0m \u001b[0mctypes\u001b[0m\u001b[0;34m.\u001b[0m\u001b[0msizeof\u001b[0m\u001b[0;34m(\u001b[0m\u001b[0mctype\u001b[0m\u001b[0;34m)\u001b[0m\u001b[0;34m:\u001b[0m\u001b[0;34m\u001b[0m\u001b[0;34m\u001b[0m\u001b[0m\n\u001b[1;32m    216\u001b[0m         \u001b[0;32mreturn\u001b[0m \u001b[0;34m(\u001b[0m\u001b[0mctype\u001b[0m \u001b[0;34m*\u001b[0m \u001b[0mlen\u001b[0m\u001b[0;34m(\u001b[0m\u001b[0mvalues\u001b[0m\u001b[0;34m)\u001b[0m\u001b[0;34m)\u001b[0m\u001b[0;34m.\u001b[0m\u001b[0mfrom_buffer_copy\u001b[0m\u001b[0;34m(\u001b[0m\u001b[0mvalues\u001b[0m\u001b[0;34m)\u001b[0m\u001b[0;34m\u001b[0m\u001b[0;34m\u001b[0m\u001b[0m\n\u001b[0;32m--> 217\u001b[0;31m     \u001b[0;32mreturn\u001b[0m \u001b[0;34m(\u001b[0m\u001b[0mctype\u001b[0m \u001b[0;34m*\u001b[0m \u001b[0mlen\u001b[0m\u001b[0;34m(\u001b[0m\u001b[0mvalues\u001b[0m\u001b[0;34m)\u001b[0m\u001b[0;34m)\u001b[0m\u001b[0;34m(\u001b[0m\u001b[0;34m*\u001b[0m\u001b[0mvalues\u001b[0m\u001b[0;34m)\u001b[0m\u001b[0;34m\u001b[0m\u001b[0;34m\u001b[0m\u001b[0m\n\u001b[0m\u001b[1;32m    218\u001b[0m \u001b[0;34m\u001b[0m\u001b[0m\n\u001b[1;32m    219\u001b[0m \u001b[0;34m\u001b[0m\u001b[0m\n",
            "\u001b[0;31mKeyboardInterrupt\u001b[0m: "
          ]
        }
      ]
    },
    {
      "cell_type": "code",
      "metadata": {
        "id": "FiXyJcJAEURe"
      },
      "source": [
        "Y_pred = clf.predict(X_valid).clip(0, 20)\r\n",
        "Y_test = clf.predict(X_test).clip(0, 20)\r\n",
        "\r\n",
        "submission = pd.DataFrame({\r\n",
        "    \"ID\": test.index, \r\n",
        "    \"item_cnt_month\": Y_test\r\n",
        "})\r\n",
        "submission.to_csv('xgb_submission3.csv', index=False)\r\n",
        "\r\n",
        "# save predictions for an ensemble\r\n",
        "pickle.dump(Y_pred, open('xgb_train.pickle', 'wb'))\r\n",
        "pickle.dump(Y_test, open('xgb_test.pickle', 'wb'))"
      ],
      "execution_count": 54,
      "outputs": []
    },
    {
      "cell_type": "code",
      "metadata": {
        "colab": {
          "base_uri": "https://localhost:8080/",
          "height": 222
        },
        "id": "TWQ8FND2Nals",
        "outputId": "b15a88f3-e8fe-4aaf-80ee-18b53f42ef49"
      },
      "source": [
        "X_test.head()"
      ],
      "execution_count": 14,
      "outputs": [
        {
          "output_type": "execute_result",
          "data": {
            "text/html": [
              "<div>\n",
              "<style scoped>\n",
              "    .dataframe tbody tr th:only-of-type {\n",
              "        vertical-align: middle;\n",
              "    }\n",
              "\n",
              "    .dataframe tbody tr th {\n",
              "        vertical-align: top;\n",
              "    }\n",
              "\n",
              "    .dataframe thead th {\n",
              "        text-align: right;\n",
              "    }\n",
              "</style>\n",
              "<table border=\"1\" class=\"dataframe\">\n",
              "  <thead>\n",
              "    <tr style=\"text-align: right;\">\n",
              "      <th></th>\n",
              "      <th>date_block_num</th>\n",
              "      <th>shop_id</th>\n",
              "      <th>item_id</th>\n",
              "      <th>city_code</th>\n",
              "      <th>item_category_id</th>\n",
              "      <th>type_code</th>\n",
              "      <th>subtype_code</th>\n",
              "      <th>item_cnt_month_lag_1</th>\n",
              "      <th>item_cnt_month_lag_2</th>\n",
              "      <th>item_cnt_month_lag_3</th>\n",
              "      <th>item_cnt_month_lag_6</th>\n",
              "      <th>item_cnt_month_lag_12</th>\n",
              "      <th>date_avg_item_cnt_lag_1</th>\n",
              "      <th>date_item_avg_item_cnt_lag_1</th>\n",
              "      <th>date_item_avg_item_cnt_lag_2</th>\n",
              "      <th>date_item_avg_item_cnt_lag_3</th>\n",
              "      <th>date_item_avg_item_cnt_lag_6</th>\n",
              "      <th>date_item_avg_item_cnt_lag_12</th>\n",
              "      <th>date_shop_avg_item_cnt_lag_1</th>\n",
              "      <th>date_shop_avg_item_cnt_lag_2</th>\n",
              "      <th>date_shop_avg_item_cnt_lag_3</th>\n",
              "      <th>date_shop_avg_item_cnt_lag_6</th>\n",
              "      <th>date_shop_avg_item_cnt_lag_12</th>\n",
              "      <th>date_cat_avg_item_cnt_lag_1</th>\n",
              "      <th>date_shop_cat_avg_item_cnt_lag_1</th>\n",
              "      <th>date_shop_type_avg_item_cnt_lag_1</th>\n",
              "      <th>date_shop_subtype_avg_item_cnt_lag_1</th>\n",
              "      <th>date_city_avg_item_cnt_lag_1</th>\n",
              "      <th>date_item_city_avg_item_cnt_lag_1</th>\n",
              "      <th>date_type_avg_item_cnt_lag_1</th>\n",
              "      <th>date_subtype_avg_item_cnt_lag_1</th>\n",
              "      <th>delta_price_lag</th>\n",
              "      <th>delta_revenue_lag_1</th>\n",
              "      <th>month</th>\n",
              "      <th>days</th>\n",
              "      <th>item_shop_last_sale</th>\n",
              "      <th>item_last_sale</th>\n",
              "      <th>item_shop_first_sale</th>\n",
              "      <th>item_first_sale</th>\n",
              "    </tr>\n",
              "  </thead>\n",
              "  <tbody>\n",
              "    <tr>\n",
              "      <th>10913804</th>\n",
              "      <td>34</td>\n",
              "      <td>5</td>\n",
              "      <td>5037</td>\n",
              "      <td>3</td>\n",
              "      <td>19</td>\n",
              "      <td>5</td>\n",
              "      <td>10</td>\n",
              "      <td>0.0</td>\n",
              "      <td>1.0</td>\n",
              "      <td>3.0</td>\n",
              "      <td>1.0</td>\n",
              "      <td>1.0</td>\n",
              "      <td>0.258545</td>\n",
              "      <td>0.568359</td>\n",
              "      <td>2.511719</td>\n",
              "      <td>2.833984</td>\n",
              "      <td>1.977539</td>\n",
              "      <td>1.299805</td>\n",
              "      <td>0.190063</td>\n",
              "      <td>0.205933</td>\n",
              "      <td>0.245117</td>\n",
              "      <td>0.180054</td>\n",
              "      <td>0.206055</td>\n",
              "      <td>0.379150</td>\n",
              "      <td>0.513672</td>\n",
              "      <td>0.456055</td>\n",
              "      <td>0.447021</td>\n",
              "      <td>0.190063</td>\n",
              "      <td>0.0</td>\n",
              "      <td>0.494141</td>\n",
              "      <td>0.337402</td>\n",
              "      <td>-0.222046</td>\n",
              "      <td>-0.048553</td>\n",
              "      <td>10</td>\n",
              "      <td>30</td>\n",
              "      <td>1</td>\n",
              "      <td>1</td>\n",
              "      <td>14</td>\n",
              "      <td>14</td>\n",
              "    </tr>\n",
              "    <tr>\n",
              "      <th>10913805</th>\n",
              "      <td>34</td>\n",
              "      <td>5</td>\n",
              "      <td>5320</td>\n",
              "      <td>3</td>\n",
              "      <td>55</td>\n",
              "      <td>13</td>\n",
              "      <td>2</td>\n",
              "      <td>0.0</td>\n",
              "      <td>0.0</td>\n",
              "      <td>0.0</td>\n",
              "      <td>0.0</td>\n",
              "      <td>0.0</td>\n",
              "      <td>0.000000</td>\n",
              "      <td>0.000000</td>\n",
              "      <td>0.000000</td>\n",
              "      <td>0.000000</td>\n",
              "      <td>0.000000</td>\n",
              "      <td>0.000000</td>\n",
              "      <td>0.000000</td>\n",
              "      <td>0.000000</td>\n",
              "      <td>0.000000</td>\n",
              "      <td>0.000000</td>\n",
              "      <td>0.000000</td>\n",
              "      <td>0.000000</td>\n",
              "      <td>0.000000</td>\n",
              "      <td>0.000000</td>\n",
              "      <td>0.000000</td>\n",
              "      <td>0.000000</td>\n",
              "      <td>0.0</td>\n",
              "      <td>0.000000</td>\n",
              "      <td>0.000000</td>\n",
              "      <td>0.000000</td>\n",
              "      <td>NaN</td>\n",
              "      <td>10</td>\n",
              "      <td>30</td>\n",
              "      <td>-1</td>\n",
              "      <td>-1</td>\n",
              "      <td>0</td>\n",
              "      <td>0</td>\n",
              "    </tr>\n",
              "    <tr>\n",
              "      <th>10913806</th>\n",
              "      <td>34</td>\n",
              "      <td>5</td>\n",
              "      <td>5233</td>\n",
              "      <td>3</td>\n",
              "      <td>19</td>\n",
              "      <td>5</td>\n",
              "      <td>10</td>\n",
              "      <td>1.0</td>\n",
              "      <td>3.0</td>\n",
              "      <td>1.0</td>\n",
              "      <td>3.0</td>\n",
              "      <td>0.0</td>\n",
              "      <td>0.258545</td>\n",
              "      <td>0.954590</td>\n",
              "      <td>1.860352</td>\n",
              "      <td>3.572266</td>\n",
              "      <td>1.613281</td>\n",
              "      <td>0.000000</td>\n",
              "      <td>0.190063</td>\n",
              "      <td>0.205933</td>\n",
              "      <td>0.245117</td>\n",
              "      <td>0.180054</td>\n",
              "      <td>0.000000</td>\n",
              "      <td>0.379150</td>\n",
              "      <td>0.513672</td>\n",
              "      <td>0.456055</td>\n",
              "      <td>0.447021</td>\n",
              "      <td>0.190063</td>\n",
              "      <td>1.0</td>\n",
              "      <td>0.494141</td>\n",
              "      <td>0.337402</td>\n",
              "      <td>0.496826</td>\n",
              "      <td>-0.048553</td>\n",
              "      <td>10</td>\n",
              "      <td>30</td>\n",
              "      <td>1</td>\n",
              "      <td>1</td>\n",
              "      <td>7</td>\n",
              "      <td>7</td>\n",
              "    </tr>\n",
              "    <tr>\n",
              "      <th>10913807</th>\n",
              "      <td>34</td>\n",
              "      <td>5</td>\n",
              "      <td>5232</td>\n",
              "      <td>3</td>\n",
              "      <td>23</td>\n",
              "      <td>5</td>\n",
              "      <td>16</td>\n",
              "      <td>0.0</td>\n",
              "      <td>0.0</td>\n",
              "      <td>1.0</td>\n",
              "      <td>0.0</td>\n",
              "      <td>0.0</td>\n",
              "      <td>0.258545</td>\n",
              "      <td>0.636230</td>\n",
              "      <td>1.116211</td>\n",
              "      <td>1.547852</td>\n",
              "      <td>0.000000</td>\n",
              "      <td>0.000000</td>\n",
              "      <td>0.190063</td>\n",
              "      <td>0.205933</td>\n",
              "      <td>0.245117</td>\n",
              "      <td>0.000000</td>\n",
              "      <td>0.000000</td>\n",
              "      <td>0.337402</td>\n",
              "      <td>0.374268</td>\n",
              "      <td>0.456055</td>\n",
              "      <td>0.349121</td>\n",
              "      <td>0.190063</td>\n",
              "      <td>0.0</td>\n",
              "      <td>0.494141</td>\n",
              "      <td>0.331787</td>\n",
              "      <td>0.505371</td>\n",
              "      <td>-0.048553</td>\n",
              "      <td>10</td>\n",
              "      <td>30</td>\n",
              "      <td>1</td>\n",
              "      <td>1</td>\n",
              "      <td>3</td>\n",
              "      <td>3</td>\n",
              "    </tr>\n",
              "    <tr>\n",
              "      <th>10913808</th>\n",
              "      <td>34</td>\n",
              "      <td>5</td>\n",
              "      <td>5268</td>\n",
              "      <td>3</td>\n",
              "      <td>20</td>\n",
              "      <td>5</td>\n",
              "      <td>11</td>\n",
              "      <td>0.0</td>\n",
              "      <td>0.0</td>\n",
              "      <td>0.0</td>\n",
              "      <td>0.0</td>\n",
              "      <td>0.0</td>\n",
              "      <td>0.000000</td>\n",
              "      <td>0.000000</td>\n",
              "      <td>0.000000</td>\n",
              "      <td>0.000000</td>\n",
              "      <td>0.000000</td>\n",
              "      <td>0.000000</td>\n",
              "      <td>0.000000</td>\n",
              "      <td>0.000000</td>\n",
              "      <td>0.000000</td>\n",
              "      <td>0.000000</td>\n",
              "      <td>0.000000</td>\n",
              "      <td>0.000000</td>\n",
              "      <td>0.000000</td>\n",
              "      <td>0.000000</td>\n",
              "      <td>0.000000</td>\n",
              "      <td>0.000000</td>\n",
              "      <td>0.0</td>\n",
              "      <td>0.000000</td>\n",
              "      <td>0.000000</td>\n",
              "      <td>0.000000</td>\n",
              "      <td>NaN</td>\n",
              "      <td>10</td>\n",
              "      <td>30</td>\n",
              "      <td>-1</td>\n",
              "      <td>-1</td>\n",
              "      <td>0</td>\n",
              "      <td>0</td>\n",
              "    </tr>\n",
              "  </tbody>\n",
              "</table>\n",
              "</div>"
            ],
            "text/plain": [
              "          date_block_num  shop_id  item_id  city_code  item_category_id  \\\n",
              "10913804              34        5     5037          3                19   \n",
              "10913805              34        5     5320          3                55   \n",
              "10913806              34        5     5233          3                19   \n",
              "10913807              34        5     5232          3                23   \n",
              "10913808              34        5     5268          3                20   \n",
              "\n",
              "          type_code  subtype_code  item_cnt_month_lag_1  item_cnt_month_lag_2  \\\n",
              "10913804          5            10                   0.0                   1.0   \n",
              "10913805         13             2                   0.0                   0.0   \n",
              "10913806          5            10                   1.0                   3.0   \n",
              "10913807          5            16                   0.0                   0.0   \n",
              "10913808          5            11                   0.0                   0.0   \n",
              "\n",
              "          item_cnt_month_lag_3  item_cnt_month_lag_6  item_cnt_month_lag_12  \\\n",
              "10913804                   3.0                   1.0                    1.0   \n",
              "10913805                   0.0                   0.0                    0.0   \n",
              "10913806                   1.0                   3.0                    0.0   \n",
              "10913807                   1.0                   0.0                    0.0   \n",
              "10913808                   0.0                   0.0                    0.0   \n",
              "\n",
              "          date_avg_item_cnt_lag_1  date_item_avg_item_cnt_lag_1  \\\n",
              "10913804                 0.258545                      0.568359   \n",
              "10913805                 0.000000                      0.000000   \n",
              "10913806                 0.258545                      0.954590   \n",
              "10913807                 0.258545                      0.636230   \n",
              "10913808                 0.000000                      0.000000   \n",
              "\n",
              "          date_item_avg_item_cnt_lag_2  date_item_avg_item_cnt_lag_3  \\\n",
              "10913804                      2.511719                      2.833984   \n",
              "10913805                      0.000000                      0.000000   \n",
              "10913806                      1.860352                      3.572266   \n",
              "10913807                      1.116211                      1.547852   \n",
              "10913808                      0.000000                      0.000000   \n",
              "\n",
              "          date_item_avg_item_cnt_lag_6  date_item_avg_item_cnt_lag_12  \\\n",
              "10913804                      1.977539                       1.299805   \n",
              "10913805                      0.000000                       0.000000   \n",
              "10913806                      1.613281                       0.000000   \n",
              "10913807                      0.000000                       0.000000   \n",
              "10913808                      0.000000                       0.000000   \n",
              "\n",
              "          date_shop_avg_item_cnt_lag_1  date_shop_avg_item_cnt_lag_2  \\\n",
              "10913804                      0.190063                      0.205933   \n",
              "10913805                      0.000000                      0.000000   \n",
              "10913806                      0.190063                      0.205933   \n",
              "10913807                      0.190063                      0.205933   \n",
              "10913808                      0.000000                      0.000000   \n",
              "\n",
              "          date_shop_avg_item_cnt_lag_3  date_shop_avg_item_cnt_lag_6  \\\n",
              "10913804                      0.245117                      0.180054   \n",
              "10913805                      0.000000                      0.000000   \n",
              "10913806                      0.245117                      0.180054   \n",
              "10913807                      0.245117                      0.000000   \n",
              "10913808                      0.000000                      0.000000   \n",
              "\n",
              "          date_shop_avg_item_cnt_lag_12  date_cat_avg_item_cnt_lag_1  \\\n",
              "10913804                       0.206055                     0.379150   \n",
              "10913805                       0.000000                     0.000000   \n",
              "10913806                       0.000000                     0.379150   \n",
              "10913807                       0.000000                     0.337402   \n",
              "10913808                       0.000000                     0.000000   \n",
              "\n",
              "          date_shop_cat_avg_item_cnt_lag_1  date_shop_type_avg_item_cnt_lag_1  \\\n",
              "10913804                          0.513672                           0.456055   \n",
              "10913805                          0.000000                           0.000000   \n",
              "10913806                          0.513672                           0.456055   \n",
              "10913807                          0.374268                           0.456055   \n",
              "10913808                          0.000000                           0.000000   \n",
              "\n",
              "          date_shop_subtype_avg_item_cnt_lag_1  date_city_avg_item_cnt_lag_1  \\\n",
              "10913804                              0.447021                      0.190063   \n",
              "10913805                              0.000000                      0.000000   \n",
              "10913806                              0.447021                      0.190063   \n",
              "10913807                              0.349121                      0.190063   \n",
              "10913808                              0.000000                      0.000000   \n",
              "\n",
              "          date_item_city_avg_item_cnt_lag_1  date_type_avg_item_cnt_lag_1  \\\n",
              "10913804                                0.0                      0.494141   \n",
              "10913805                                0.0                      0.000000   \n",
              "10913806                                1.0                      0.494141   \n",
              "10913807                                0.0                      0.494141   \n",
              "10913808                                0.0                      0.000000   \n",
              "\n",
              "          date_subtype_avg_item_cnt_lag_1  delta_price_lag  \\\n",
              "10913804                         0.337402        -0.222046   \n",
              "10913805                         0.000000         0.000000   \n",
              "10913806                         0.337402         0.496826   \n",
              "10913807                         0.331787         0.505371   \n",
              "10913808                         0.000000         0.000000   \n",
              "\n",
              "          delta_revenue_lag_1  month  days  item_shop_last_sale  \\\n",
              "10913804            -0.048553     10    30                    1   \n",
              "10913805                  NaN     10    30                   -1   \n",
              "10913806            -0.048553     10    30                    1   \n",
              "10913807            -0.048553     10    30                    1   \n",
              "10913808                  NaN     10    30                   -1   \n",
              "\n",
              "          item_last_sale  item_shop_first_sale  item_first_sale  \n",
              "10913804               1                    14               14  \n",
              "10913805              -1                     0                0  \n",
              "10913806               1                     7                7  \n",
              "10913807               1                     3                3  \n",
              "10913808              -1                     0                0  "
            ]
          },
          "metadata": {
            "tags": []
          },
          "execution_count": 14
        }
      ]
    },
    {
      "cell_type": "code",
      "metadata": {
        "colab": {
          "base_uri": "https://localhost:8080/",
          "height": 687
        },
        "id": "ALGPIaCLEWR9",
        "outputId": "c427da9c-7d86-4c57-eba6-f576bd9fbcfe"
      },
      "source": [
        "plot_features(clf, (10,14))"
      ],
      "execution_count": 25,
      "outputs": [
        {
          "output_type": "execute_result",
          "data": {
            "text/plain": [
              "<matplotlib.axes._subplots.AxesSubplot at 0x7f85e9c33c50>"
            ]
          },
          "metadata": {
            "tags": []
          },
          "execution_count": 25
        },
        {
          "output_type": "display_data",
          "data": {
            "image/png": "[encoded data removed]",
            "text/plain": [
              "<Figure size 720x1008 with 1 Axes>"
            ]
          },
          "metadata": {
            "tags": [],
            "needs_background": "light"
          }
        }
      ]
    }
  ]
}