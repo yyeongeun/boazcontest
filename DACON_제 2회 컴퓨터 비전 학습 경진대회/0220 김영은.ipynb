{
 "cells": [
  {
   "cell_type": "markdown",
   "metadata": {},
   "source": [
    "# DACON 공모전\n",
    "## 0220 김영은\n",
    "### pytorch로 faster r-cnn 구현"
   ]
  },
  {
   "cell_type": "code",
   "execution_count": 6,
   "metadata": {
    "collapsed": true
   },
   "outputs": [
    {
     "name": "stdout",
     "output_type": "stream",
     "text": [
      "Collecting opencv-python\n",
      "  Downloading https://files.pythonhosted.org/packages/70/a8/e52a82936be6d5696fb06c78450707c26dc13df91bb6bf49583bb9abbaa0/opencv_python-4.5.1.48-cp37-cp37m-win_amd64.whl (34.9MB)\n",
      "Requirement already satisfied: numpy>=1.14.5 in c:\\users\\yeongeunkim\\anaconda3\\lib\\site-packages (from opencv-python) (1.16.4)\n",
      "Installing collected packages: opencv-python\n",
      "Successfully installed opencv-python-4.5.1.48\n",
      "Note: you may need to restart the kernel to use updated packages.\n"
     ]
    }
   ],
   "source": [
    "pip install opencv-python"
   ]
  },
  {
   "cell_type": "code",
   "execution_count": 8,
   "metadata": {
    "collapsed": true
   },
   "outputs": [
    {
     "name": "stdout",
     "output_type": "stream",
     "text": [
      "Collecting imutils\n",
      "  Downloading https://files.pythonhosted.org/packages/3f/d3/ecb4d108f6c1041d24842a345ee0123cd7f366ba75cf122601e856d42ba2/imutils-0.5.4.tar.gz\n",
      "Building wheels for collected packages: imutils\n",
      "  Building wheel for imutils (setup.py): started\n",
      "  Building wheel for imutils (setup.py): finished with status 'done'\n",
      "  Stored in directory: C:\\Users\\yeongeunkim\\AppData\\Local\\pip\\Cache\\wheels\\db\\23\\45\\fc7424906880ffa9577a2a428b961f2b79e0e21d9f71e7e6bc\n",
      "Successfully built imutils\n",
      "Installing collected packages: imutils\n",
      "Successfully installed imutils-0.5.4\n",
      "Note: you may need to restart the kernel to use updated packages.\n"
     ]
    }
   ],
   "source": [
    "pip install imutils"
   ]
  },
  {
   "cell_type": "code",
   "execution_count": 31,
   "metadata": {
    "collapsed": true
   },
   "outputs": [
    {
     "name": "stdout",
     "output_type": "stream",
     "text": [
      "Requirement already satisfied: torchvision in c:\\users\\yeongeunkim\\anaconda3\\lib\\site-packages (0.2.1)\n",
      "Requirement already satisfied: numpy in c:\\users\\yeongeunkim\\anaconda3\\lib\\site-packages (from torchvision) (1.16.4)\n",
      "Requirement already satisfied: pillow>=4.1.1 in c:\\users\\yeongeunkim\\anaconda3\\lib\\site-packages (from torchvision) (6.1.0)\n",
      "Requirement already satisfied: six in c:\\users\\yeongeunkim\\anaconda3\\lib\\site-packages (from torchvision) (1.12.0)\n",
      "Requirement already satisfied: torch in c:\\users\\yeongeunkim\\anaconda3\\lib\\site-packages (from torchvision) (0.4.1)\n",
      "Note: you may need to restart the kernel to use updated packages.\n"
     ]
    }
   ],
   "source": [
    "pip install torchvision"
   ]
  },
  {
   "cell_type": "code",
   "execution_count": 47,
   "metadata": {
    "collapsed": true
   },
   "outputs": [
    {
     "name": "stdout",
     "output_type": "stream",
     "text": [
      "Requirement already satisfied: pillow in c:\\users\\yeongeunkim\\anaconda3\\lib\\site-packages (6.1.0)\n",
      "Note: you may need to restart the kernel to use updated packages.\n"
     ]
    }
   ],
   "source": [
    "pip install pillow"
   ]
  },
  {
   "cell_type": "code",
   "execution_count": 58,
   "metadata": {},
   "outputs": [],
   "source": [
    "import pandas as pd\n",
    "import numpy as np\n",
    "import matplotlib.pyplot as plt\n",
    "import cv2\n",
    "from tqdm import tqdm\n",
    "import imutils\n",
    "import zipfile\n",
    "import os\n",
    "from PIL import Image\n",
    "from os import listdir\n",
    "from os.path import join, isfile\n",
    "\n",
    "import torch\n",
    "import torch.nn as nn\n",
    "import torch.nn.functional as F\n",
    "import torchvision\n",
    "import torchvision.models as models\n",
    "import torchvision.transforms as T\n",
    "from torch.utils.data import DataLoader, Dataset\n",
    "from torchvision import transforms\n",
    "\n",
    "device = torch.device(\"cuda:0\" if torch.cuda.is_available() else \"cpu\") # 디바이스 설정"
   ]
  },
  {
   "cell_type": "code",
   "execution_count": 70,
   "metadata": {},
   "outputs": [],
   "source": [
    "dirty_mnist_answer = pd.read_csv(\"C:/Users/yeongeunkim/Desktop/github/boazhappy repository/DACON_제 2회 컴퓨터 비전 학습 경진대회/dirty_mnist_2nd_answer.csv\")\n",
    "# dirty_mnist라는 디렉터리 속에 들어있는 파일들의 이름을 \n",
    "# namelist라는 변수에 저장\n",
    "namelist = os.listdir(\"C:/Users/yeongeunkim/Desktop/github/boazhappy repository/DACON_제 2회 컴퓨터 비전 학습 경진대회/dirty_minst\")"
   ]
  },
  {
   "cell_type": "code",
   "execution_count": 71,
   "metadata": {
    "scrolled": true
   },
   "outputs": [
    {
     "data": {
      "text/plain": [
       "['49715.png',\n",
       " '49716.png',\n",
       " '49717.png',\n",
       " '49718.png',\n",
       " '49719.png',\n",
       " '49720.png',\n",
       " '49721.png',\n",
       " '49722.png',\n",
       " '49723.png',\n",
       " '49724.png',\n",
       " '49725.png',\n",
       " '49726.png',\n",
       " '49727.png',\n",
       " '49728.png',\n",
       " '49729.png',\n",
       " '49730.png',\n",
       " '49731.png',\n",
       " '49732.png',\n",
       " '49733.png',\n",
       " '49734.png',\n",
       " '49735.png',\n",
       " '49736.png',\n",
       " '49737.png',\n",
       " '49738.png',\n",
       " '49739.png',\n",
       " '49740.png',\n",
       " '49741.png',\n",
       " '49742.png',\n",
       " '49743.png',\n",
       " '49744.png',\n",
       " '49745.png',\n",
       " '49746.png',\n",
       " '49747.png',\n",
       " '49748.png',\n",
       " '49749.png',\n",
       " '49750.png',\n",
       " '49751.png',\n",
       " '49752.png',\n",
       " '49753.png',\n",
       " '49754.png',\n",
       " '49755.png',\n",
       " '49756.png',\n",
       " '49757.png',\n",
       " '49758.png',\n",
       " '49759.png',\n",
       " '49760.png',\n",
       " '49761.png',\n",
       " '49762.png',\n",
       " '49763.png',\n",
       " '49764.png',\n",
       " '49765.png',\n",
       " '49766.png',\n",
       " '49767.png',\n",
       " '49768.png',\n",
       " '49769.png',\n",
       " '49770.png',\n",
       " '49771.png',\n",
       " '49772.png',\n",
       " '49773.png',\n",
       " '49774.png',\n",
       " '49775.png',\n",
       " '49776.png',\n",
       " '49777.png',\n",
       " '49778.png',\n",
       " '49779.png',\n",
       " '49780.png',\n",
       " '49781.png',\n",
       " '49782.png',\n",
       " '49783.png',\n",
       " '49784.png',\n",
       " '49785.png',\n",
       " '49786.png',\n",
       " '49787.png',\n",
       " '49788.png',\n",
       " '49789.png',\n",
       " '49790.png',\n",
       " '49791.png',\n",
       " '49792.png',\n",
       " '49793.png',\n",
       " '49794.png',\n",
       " '49795.png',\n",
       " '49796.png',\n",
       " '49797.png',\n",
       " '49798.png',\n",
       " '49799.png',\n",
       " '49800.png',\n",
       " '49801.png',\n",
       " '49802.png',\n",
       " '49803.png',\n",
       " '49804.png',\n",
       " '49805.png',\n",
       " '49806.png',\n",
       " '49807.png',\n",
       " '49808.png',\n",
       " '49809.png',\n",
       " '49810.png',\n",
       " '49811.png',\n",
       " '49812.png',\n",
       " '49813.png',\n",
       " '49814.png',\n",
       " '49815.png',\n",
       " '49816.png',\n",
       " '49817.png',\n",
       " '49818.png',\n",
       " '49819.png',\n",
       " '49820.png',\n",
       " '49821.png',\n",
       " '49822.png',\n",
       " '49823.png',\n",
       " '49824.png',\n",
       " '49825.png',\n",
       " '49826.png',\n",
       " '49827.png',\n",
       " '49828.png',\n",
       " '49829.png',\n",
       " '49830.png',\n",
       " '49831.png',\n",
       " '49832.png',\n",
       " '49833.png',\n",
       " '49834.png',\n",
       " '49835.png',\n",
       " '49836.png',\n",
       " '49837.png',\n",
       " '49838.png',\n",
       " '49839.png',\n",
       " '49840.png',\n",
       " '49841.png',\n",
       " '49842.png',\n",
       " '49843.png',\n",
       " '49844.png',\n",
       " '49845.png',\n",
       " '49846.png',\n",
       " '49847.png',\n",
       " '49848.png',\n",
       " '49849.png',\n",
       " '49850.png',\n",
       " '49851.png',\n",
       " '49852.png',\n",
       " '49853.png',\n",
       " '49854.png',\n",
       " '49855.png',\n",
       " '49856.png',\n",
       " '49857.png',\n",
       " '49858.png',\n",
       " '49859.png',\n",
       " '49860.png',\n",
       " '49861.png',\n",
       " '49862.png',\n",
       " '49863.png',\n",
       " '49864.png',\n",
       " '49865.png',\n",
       " '49866.png',\n",
       " '49867.png',\n",
       " '49868.png',\n",
       " '49869.png',\n",
       " '49870.png',\n",
       " '49871.png',\n",
       " '49872.png',\n",
       " '49873.png',\n",
       " '49874.png',\n",
       " '49875.png',\n",
       " '49876.png',\n",
       " '49877.png',\n",
       " '49878.png',\n",
       " '49879.png',\n",
       " '49880.png',\n",
       " '49881.png',\n",
       " '49882.png',\n",
       " '49883.png',\n",
       " '49884.png',\n",
       " '49885.png',\n",
       " '49886.png',\n",
       " '49887.png',\n",
       " '49888.png',\n",
       " '49889.png',\n",
       " '49890.png',\n",
       " '49891.png',\n",
       " '49892.png',\n",
       " '49893.png',\n",
       " '49894.png',\n",
       " '49895.png',\n",
       " '49896.png',\n",
       " '49897.png',\n",
       " '49898.png',\n",
       " '49899.png',\n",
       " '49900.png',\n",
       " '49901.png',\n",
       " '49902.png',\n",
       " '49903.png',\n",
       " '49904.png',\n",
       " '49905.png',\n",
       " '49906.png',\n",
       " '49907.png',\n",
       " '49908.png',\n",
       " '49909.png',\n",
       " '49910.png',\n",
       " '49911.png',\n",
       " '49912.png',\n",
       " '49913.png',\n",
       " '49914.png',\n",
       " '49915.png',\n",
       " '49916.png',\n",
       " '49917.png',\n",
       " '49918.png',\n",
       " '49919.png',\n",
       " '49920.png',\n",
       " '49921.png',\n",
       " '49922.png',\n",
       " '49923.png',\n",
       " '49924.png',\n",
       " '49925.png',\n",
       " '49926.png',\n",
       " '49927.png',\n",
       " '49928.png',\n",
       " '49929.png',\n",
       " '49930.png',\n",
       " '49931.png',\n",
       " '49932.png',\n",
       " '49933.png',\n",
       " '49934.png',\n",
       " '49935.png',\n",
       " '49936.png',\n",
       " '49937.png',\n",
       " '49938.png',\n",
       " '49939.png',\n",
       " '49940.png',\n",
       " '49941.png',\n",
       " '49942.png',\n",
       " '49943.png',\n",
       " '49944.png',\n",
       " '49945.png',\n",
       " '49946.png',\n",
       " '49947.png',\n",
       " '49948.png',\n",
       " '49949.png',\n",
       " '49950.png',\n",
       " '49951.png',\n",
       " '49952.png',\n",
       " '49953.png',\n",
       " '49954.png',\n",
       " '49955.png',\n",
       " '49956.png',\n",
       " '49957.png',\n",
       " '49958.png',\n",
       " '49959.png',\n",
       " '49960.png',\n",
       " '49961.png',\n",
       " '49962.png',\n",
       " '49963.png',\n",
       " '49964.png',\n",
       " '49965.png',\n",
       " '49966.png',\n",
       " '49967.png',\n",
       " '49968.png',\n",
       " '49969.png',\n",
       " '49970.png',\n",
       " '49971.png',\n",
       " '49972.png',\n",
       " '49973.png',\n",
       " '49974.png',\n",
       " '49975.png',\n",
       " '49976.png',\n",
       " '49977.png',\n",
       " '49978.png',\n",
       " '49979.png',\n",
       " '49980.png',\n",
       " '49981.png',\n",
       " '49982.png',\n",
       " '49983.png',\n",
       " '49984.png',\n",
       " '49985.png',\n",
       " '49986.png',\n",
       " '49987.png',\n",
       " '49988.png',\n",
       " '49989.png',\n",
       " '49990.png',\n",
       " '49991.png',\n",
       " '49992.png',\n",
       " '49993.png',\n",
       " '49994.png',\n",
       " '49995.png',\n",
       " '49996.png',\n",
       " '49997.png',\n",
       " '49998.png',\n",
       " '49999.png']"
      ]
     },
     "execution_count": 71,
     "metadata": {},
     "output_type": "execute_result"
    }
   ],
   "source": [
    "namelist"
   ]
  },
  {
   "cell_type": "code",
   "execution_count": 20,
   "metadata": {},
   "outputs": [
    {
     "name": "stdout",
     "output_type": "stream",
     "text": [
      "cpu\n"
     ]
    }
   ],
   "source": [
    "if torch.cuda.is_available():\n",
    "    DEVICE = torch.device(\"cuda\")\n",
    "    print(DEVICE, torch.cuda.get_device_name(0))\n",
    "else:\n",
    "    DEVICE = torch.device(\"cpu\")\n",
    "    print(DEVICE)"
   ]
  },
  {
   "cell_type": "code",
   "execution_count": 67,
   "metadata": {},
   "outputs": [],
   "source": [
    "# opencv로 여러 이미지 파일 가져오기 -> 실패 ㅎㅎ\n",
    "mypath = \"C:/Users/yeongeunkim/Desktop/github/boazhappy repository/DACON_제 2회 컴퓨터 비전 학습 경진대회/dirty_minst/\"\n",
    "\n",
    "onlyfiles = [ f for f in listdir(mypath) if isfile(join(mypath,f)) ]\n",
    "images = np.empty(len(onlyfiles), dtype=object)\n",
    "for n in range(0, len(onlyfiles)):\n",
    "    images[n] = cv2.imread( join(mypath,onlyfiles[n]) )"
   ]
  },
  {
   "cell_type": "code",
   "execution_count": 64,
   "metadata": {},
   "outputs": [
    {
     "data": {
      "text/plain": [
       "dtype('O')"
      ]
     },
     "execution_count": 64,
     "metadata": {},
     "output_type": "execute_result"
    }
   ],
   "source": [
    "images.dtype # objects"
   ]
  },
  {
   "cell_type": "code",
   "execution_count": 90,
   "metadata": {
    "scrolled": true
   },
   "outputs": [
    {
     "data": {
      "text/plain": [
       "['C:/Users/yeongeunkim/Desktop/github/boazhappy repository/DACON_제 2회 컴퓨터 비전 학습 경진대회/dirty_minst\\\\49715.png',\n",
       " 'C:/Users/yeongeunkim/Desktop/github/boazhappy repository/DACON_제 2회 컴퓨터 비전 학습 경진대회/dirty_minst\\\\49716.png',\n",
       " 'C:/Users/yeongeunkim/Desktop/github/boazhappy repository/DACON_제 2회 컴퓨터 비전 학습 경진대회/dirty_minst\\\\49717.png',\n",
       " 'C:/Users/yeongeunkim/Desktop/github/boazhappy repository/DACON_제 2회 컴퓨터 비전 학습 경진대회/dirty_minst\\\\49718.png',\n",
       " 'C:/Users/yeongeunkim/Desktop/github/boazhappy repository/DACON_제 2회 컴퓨터 비전 학습 경진대회/dirty_minst\\\\49719.png',\n",
       " 'C:/Users/yeongeunkim/Desktop/github/boazhappy repository/DACON_제 2회 컴퓨터 비전 학습 경진대회/dirty_minst\\\\49720.png',\n",
       " 'C:/Users/yeongeunkim/Desktop/github/boazhappy repository/DACON_제 2회 컴퓨터 비전 학습 경진대회/dirty_minst\\\\49721.png',\n",
       " 'C:/Users/yeongeunkim/Desktop/github/boazhappy repository/DACON_제 2회 컴퓨터 비전 학습 경진대회/dirty_minst\\\\49722.png',\n",
       " 'C:/Users/yeongeunkim/Desktop/github/boazhappy repository/DACON_제 2회 컴퓨터 비전 학습 경진대회/dirty_minst\\\\49723.png',\n",
       " 'C:/Users/yeongeunkim/Desktop/github/boazhappy repository/DACON_제 2회 컴퓨터 비전 학습 경진대회/dirty_minst\\\\49724.png',\n",
       " 'C:/Users/yeongeunkim/Desktop/github/boazhappy repository/DACON_제 2회 컴퓨터 비전 학습 경진대회/dirty_minst\\\\49725.png',\n",
       " 'C:/Users/yeongeunkim/Desktop/github/boazhappy repository/DACON_제 2회 컴퓨터 비전 학습 경진대회/dirty_minst\\\\49726.png',\n",
       " 'C:/Users/yeongeunkim/Desktop/github/boazhappy repository/DACON_제 2회 컴퓨터 비전 학습 경진대회/dirty_minst\\\\49727.png',\n",
       " 'C:/Users/yeongeunkim/Desktop/github/boazhappy repository/DACON_제 2회 컴퓨터 비전 학습 경진대회/dirty_minst\\\\49728.png',\n",
       " 'C:/Users/yeongeunkim/Desktop/github/boazhappy repository/DACON_제 2회 컴퓨터 비전 학습 경진대회/dirty_minst\\\\49729.png',\n",
       " 'C:/Users/yeongeunkim/Desktop/github/boazhappy repository/DACON_제 2회 컴퓨터 비전 학습 경진대회/dirty_minst\\\\49730.png',\n",
       " 'C:/Users/yeongeunkim/Desktop/github/boazhappy repository/DACON_제 2회 컴퓨터 비전 학습 경진대회/dirty_minst\\\\49731.png',\n",
       " 'C:/Users/yeongeunkim/Desktop/github/boazhappy repository/DACON_제 2회 컴퓨터 비전 학습 경진대회/dirty_minst\\\\49732.png',\n",
       " 'C:/Users/yeongeunkim/Desktop/github/boazhappy repository/DACON_제 2회 컴퓨터 비전 학습 경진대회/dirty_minst\\\\49733.png',\n",
       " 'C:/Users/yeongeunkim/Desktop/github/boazhappy repository/DACON_제 2회 컴퓨터 비전 학습 경진대회/dirty_minst\\\\49734.png',\n",
       " 'C:/Users/yeongeunkim/Desktop/github/boazhappy repository/DACON_제 2회 컴퓨터 비전 학습 경진대회/dirty_minst\\\\49735.png',\n",
       " 'C:/Users/yeongeunkim/Desktop/github/boazhappy repository/DACON_제 2회 컴퓨터 비전 학습 경진대회/dirty_minst\\\\49736.png',\n",
       " 'C:/Users/yeongeunkim/Desktop/github/boazhappy repository/DACON_제 2회 컴퓨터 비전 학습 경진대회/dirty_minst\\\\49737.png',\n",
       " 'C:/Users/yeongeunkim/Desktop/github/boazhappy repository/DACON_제 2회 컴퓨터 비전 학습 경진대회/dirty_minst\\\\49738.png',\n",
       " 'C:/Users/yeongeunkim/Desktop/github/boazhappy repository/DACON_제 2회 컴퓨터 비전 학습 경진대회/dirty_minst\\\\49739.png',\n",
       " 'C:/Users/yeongeunkim/Desktop/github/boazhappy repository/DACON_제 2회 컴퓨터 비전 학습 경진대회/dirty_minst\\\\49740.png',\n",
       " 'C:/Users/yeongeunkim/Desktop/github/boazhappy repository/DACON_제 2회 컴퓨터 비전 학습 경진대회/dirty_minst\\\\49741.png',\n",
       " 'C:/Users/yeongeunkim/Desktop/github/boazhappy repository/DACON_제 2회 컴퓨터 비전 학습 경진대회/dirty_minst\\\\49742.png',\n",
       " 'C:/Users/yeongeunkim/Desktop/github/boazhappy repository/DACON_제 2회 컴퓨터 비전 학습 경진대회/dirty_minst\\\\49743.png',\n",
       " 'C:/Users/yeongeunkim/Desktop/github/boazhappy repository/DACON_제 2회 컴퓨터 비전 학습 경진대회/dirty_minst\\\\49744.png',\n",
       " 'C:/Users/yeongeunkim/Desktop/github/boazhappy repository/DACON_제 2회 컴퓨터 비전 학습 경진대회/dirty_minst\\\\49745.png',\n",
       " 'C:/Users/yeongeunkim/Desktop/github/boazhappy repository/DACON_제 2회 컴퓨터 비전 학습 경진대회/dirty_minst\\\\49746.png',\n",
       " 'C:/Users/yeongeunkim/Desktop/github/boazhappy repository/DACON_제 2회 컴퓨터 비전 학습 경진대회/dirty_minst\\\\49747.png',\n",
       " 'C:/Users/yeongeunkim/Desktop/github/boazhappy repository/DACON_제 2회 컴퓨터 비전 학습 경진대회/dirty_minst\\\\49748.png',\n",
       " 'C:/Users/yeongeunkim/Desktop/github/boazhappy repository/DACON_제 2회 컴퓨터 비전 학습 경진대회/dirty_minst\\\\49749.png',\n",
       " 'C:/Users/yeongeunkim/Desktop/github/boazhappy repository/DACON_제 2회 컴퓨터 비전 학습 경진대회/dirty_minst\\\\49750.png',\n",
       " 'C:/Users/yeongeunkim/Desktop/github/boazhappy repository/DACON_제 2회 컴퓨터 비전 학습 경진대회/dirty_minst\\\\49751.png',\n",
       " 'C:/Users/yeongeunkim/Desktop/github/boazhappy repository/DACON_제 2회 컴퓨터 비전 학습 경진대회/dirty_minst\\\\49752.png',\n",
       " 'C:/Users/yeongeunkim/Desktop/github/boazhappy repository/DACON_제 2회 컴퓨터 비전 학습 경진대회/dirty_minst\\\\49753.png',\n",
       " 'C:/Users/yeongeunkim/Desktop/github/boazhappy repository/DACON_제 2회 컴퓨터 비전 학습 경진대회/dirty_minst\\\\49754.png',\n",
       " 'C:/Users/yeongeunkim/Desktop/github/boazhappy repository/DACON_제 2회 컴퓨터 비전 학습 경진대회/dirty_minst\\\\49755.png',\n",
       " 'C:/Users/yeongeunkim/Desktop/github/boazhappy repository/DACON_제 2회 컴퓨터 비전 학습 경진대회/dirty_minst\\\\49756.png',\n",
       " 'C:/Users/yeongeunkim/Desktop/github/boazhappy repository/DACON_제 2회 컴퓨터 비전 학습 경진대회/dirty_minst\\\\49757.png',\n",
       " 'C:/Users/yeongeunkim/Desktop/github/boazhappy repository/DACON_제 2회 컴퓨터 비전 학습 경진대회/dirty_minst\\\\49758.png',\n",
       " 'C:/Users/yeongeunkim/Desktop/github/boazhappy repository/DACON_제 2회 컴퓨터 비전 학습 경진대회/dirty_minst\\\\49759.png',\n",
       " 'C:/Users/yeongeunkim/Desktop/github/boazhappy repository/DACON_제 2회 컴퓨터 비전 학습 경진대회/dirty_minst\\\\49760.png',\n",
       " 'C:/Users/yeongeunkim/Desktop/github/boazhappy repository/DACON_제 2회 컴퓨터 비전 학습 경진대회/dirty_minst\\\\49761.png',\n",
       " 'C:/Users/yeongeunkim/Desktop/github/boazhappy repository/DACON_제 2회 컴퓨터 비전 학습 경진대회/dirty_minst\\\\49762.png',\n",
       " 'C:/Users/yeongeunkim/Desktop/github/boazhappy repository/DACON_제 2회 컴퓨터 비전 학습 경진대회/dirty_minst\\\\49763.png',\n",
       " 'C:/Users/yeongeunkim/Desktop/github/boazhappy repository/DACON_제 2회 컴퓨터 비전 학습 경진대회/dirty_minst\\\\49764.png',\n",
       " 'C:/Users/yeongeunkim/Desktop/github/boazhappy repository/DACON_제 2회 컴퓨터 비전 학습 경진대회/dirty_minst\\\\49765.png',\n",
       " 'C:/Users/yeongeunkim/Desktop/github/boazhappy repository/DACON_제 2회 컴퓨터 비전 학습 경진대회/dirty_minst\\\\49766.png',\n",
       " 'C:/Users/yeongeunkim/Desktop/github/boazhappy repository/DACON_제 2회 컴퓨터 비전 학습 경진대회/dirty_minst\\\\49767.png',\n",
       " 'C:/Users/yeongeunkim/Desktop/github/boazhappy repository/DACON_제 2회 컴퓨터 비전 학습 경진대회/dirty_minst\\\\49768.png',\n",
       " 'C:/Users/yeongeunkim/Desktop/github/boazhappy repository/DACON_제 2회 컴퓨터 비전 학습 경진대회/dirty_minst\\\\49769.png',\n",
       " 'C:/Users/yeongeunkim/Desktop/github/boazhappy repository/DACON_제 2회 컴퓨터 비전 학습 경진대회/dirty_minst\\\\49770.png',\n",
       " 'C:/Users/yeongeunkim/Desktop/github/boazhappy repository/DACON_제 2회 컴퓨터 비전 학습 경진대회/dirty_minst\\\\49771.png',\n",
       " 'C:/Users/yeongeunkim/Desktop/github/boazhappy repository/DACON_제 2회 컴퓨터 비전 학습 경진대회/dirty_minst\\\\49772.png',\n",
       " 'C:/Users/yeongeunkim/Desktop/github/boazhappy repository/DACON_제 2회 컴퓨터 비전 학습 경진대회/dirty_minst\\\\49773.png',\n",
       " 'C:/Users/yeongeunkim/Desktop/github/boazhappy repository/DACON_제 2회 컴퓨터 비전 학습 경진대회/dirty_minst\\\\49774.png',\n",
       " 'C:/Users/yeongeunkim/Desktop/github/boazhappy repository/DACON_제 2회 컴퓨터 비전 학습 경진대회/dirty_minst\\\\49775.png',\n",
       " 'C:/Users/yeongeunkim/Desktop/github/boazhappy repository/DACON_제 2회 컴퓨터 비전 학습 경진대회/dirty_minst\\\\49776.png',\n",
       " 'C:/Users/yeongeunkim/Desktop/github/boazhappy repository/DACON_제 2회 컴퓨터 비전 학습 경진대회/dirty_minst\\\\49777.png',\n",
       " 'C:/Users/yeongeunkim/Desktop/github/boazhappy repository/DACON_제 2회 컴퓨터 비전 학습 경진대회/dirty_minst\\\\49778.png',\n",
       " 'C:/Users/yeongeunkim/Desktop/github/boazhappy repository/DACON_제 2회 컴퓨터 비전 학습 경진대회/dirty_minst\\\\49779.png',\n",
       " 'C:/Users/yeongeunkim/Desktop/github/boazhappy repository/DACON_제 2회 컴퓨터 비전 학습 경진대회/dirty_minst\\\\49780.png',\n",
       " 'C:/Users/yeongeunkim/Desktop/github/boazhappy repository/DACON_제 2회 컴퓨터 비전 학습 경진대회/dirty_minst\\\\49781.png',\n",
       " 'C:/Users/yeongeunkim/Desktop/github/boazhappy repository/DACON_제 2회 컴퓨터 비전 학습 경진대회/dirty_minst\\\\49782.png',\n",
       " 'C:/Users/yeongeunkim/Desktop/github/boazhappy repository/DACON_제 2회 컴퓨터 비전 학습 경진대회/dirty_minst\\\\49783.png',\n",
       " 'C:/Users/yeongeunkim/Desktop/github/boazhappy repository/DACON_제 2회 컴퓨터 비전 학습 경진대회/dirty_minst\\\\49784.png',\n",
       " 'C:/Users/yeongeunkim/Desktop/github/boazhappy repository/DACON_제 2회 컴퓨터 비전 학습 경진대회/dirty_minst\\\\49785.png',\n",
       " 'C:/Users/yeongeunkim/Desktop/github/boazhappy repository/DACON_제 2회 컴퓨터 비전 학습 경진대회/dirty_minst\\\\49786.png',\n",
       " 'C:/Users/yeongeunkim/Desktop/github/boazhappy repository/DACON_제 2회 컴퓨터 비전 학습 경진대회/dirty_minst\\\\49787.png',\n",
       " 'C:/Users/yeongeunkim/Desktop/github/boazhappy repository/DACON_제 2회 컴퓨터 비전 학습 경진대회/dirty_minst\\\\49788.png',\n",
       " 'C:/Users/yeongeunkim/Desktop/github/boazhappy repository/DACON_제 2회 컴퓨터 비전 학습 경진대회/dirty_minst\\\\49789.png',\n",
       " 'C:/Users/yeongeunkim/Desktop/github/boazhappy repository/DACON_제 2회 컴퓨터 비전 학습 경진대회/dirty_minst\\\\49790.png',\n",
       " 'C:/Users/yeongeunkim/Desktop/github/boazhappy repository/DACON_제 2회 컴퓨터 비전 학습 경진대회/dirty_minst\\\\49791.png',\n",
       " 'C:/Users/yeongeunkim/Desktop/github/boazhappy repository/DACON_제 2회 컴퓨터 비전 학습 경진대회/dirty_minst\\\\49792.png',\n",
       " 'C:/Users/yeongeunkim/Desktop/github/boazhappy repository/DACON_제 2회 컴퓨터 비전 학습 경진대회/dirty_minst\\\\49793.png',\n",
       " 'C:/Users/yeongeunkim/Desktop/github/boazhappy repository/DACON_제 2회 컴퓨터 비전 학습 경진대회/dirty_minst\\\\49794.png',\n",
       " 'C:/Users/yeongeunkim/Desktop/github/boazhappy repository/DACON_제 2회 컴퓨터 비전 학습 경진대회/dirty_minst\\\\49795.png',\n",
       " 'C:/Users/yeongeunkim/Desktop/github/boazhappy repository/DACON_제 2회 컴퓨터 비전 학습 경진대회/dirty_minst\\\\49796.png',\n",
       " 'C:/Users/yeongeunkim/Desktop/github/boazhappy repository/DACON_제 2회 컴퓨터 비전 학습 경진대회/dirty_minst\\\\49797.png',\n",
       " 'C:/Users/yeongeunkim/Desktop/github/boazhappy repository/DACON_제 2회 컴퓨터 비전 학습 경진대회/dirty_minst\\\\49798.png',\n",
       " 'C:/Users/yeongeunkim/Desktop/github/boazhappy repository/DACON_제 2회 컴퓨터 비전 학습 경진대회/dirty_minst\\\\49799.png',\n",
       " 'C:/Users/yeongeunkim/Desktop/github/boazhappy repository/DACON_제 2회 컴퓨터 비전 학습 경진대회/dirty_minst\\\\49800.png',\n",
       " 'C:/Users/yeongeunkim/Desktop/github/boazhappy repository/DACON_제 2회 컴퓨터 비전 학습 경진대회/dirty_minst\\\\49801.png',\n",
       " 'C:/Users/yeongeunkim/Desktop/github/boazhappy repository/DACON_제 2회 컴퓨터 비전 학습 경진대회/dirty_minst\\\\49802.png',\n",
       " 'C:/Users/yeongeunkim/Desktop/github/boazhappy repository/DACON_제 2회 컴퓨터 비전 학습 경진대회/dirty_minst\\\\49803.png',\n",
       " 'C:/Users/yeongeunkim/Desktop/github/boazhappy repository/DACON_제 2회 컴퓨터 비전 학습 경진대회/dirty_minst\\\\49804.png',\n",
       " 'C:/Users/yeongeunkim/Desktop/github/boazhappy repository/DACON_제 2회 컴퓨터 비전 학습 경진대회/dirty_minst\\\\49805.png',\n",
       " 'C:/Users/yeongeunkim/Desktop/github/boazhappy repository/DACON_제 2회 컴퓨터 비전 학습 경진대회/dirty_minst\\\\49806.png',\n",
       " 'C:/Users/yeongeunkim/Desktop/github/boazhappy repository/DACON_제 2회 컴퓨터 비전 학습 경진대회/dirty_minst\\\\49807.png',\n",
       " 'C:/Users/yeongeunkim/Desktop/github/boazhappy repository/DACON_제 2회 컴퓨터 비전 학습 경진대회/dirty_minst\\\\49808.png',\n",
       " 'C:/Users/yeongeunkim/Desktop/github/boazhappy repository/DACON_제 2회 컴퓨터 비전 학습 경진대회/dirty_minst\\\\49809.png',\n",
       " 'C:/Users/yeongeunkim/Desktop/github/boazhappy repository/DACON_제 2회 컴퓨터 비전 학습 경진대회/dirty_minst\\\\49810.png',\n",
       " 'C:/Users/yeongeunkim/Desktop/github/boazhappy repository/DACON_제 2회 컴퓨터 비전 학습 경진대회/dirty_minst\\\\49811.png',\n",
       " 'C:/Users/yeongeunkim/Desktop/github/boazhappy repository/DACON_제 2회 컴퓨터 비전 학습 경진대회/dirty_minst\\\\49812.png',\n",
       " 'C:/Users/yeongeunkim/Desktop/github/boazhappy repository/DACON_제 2회 컴퓨터 비전 학습 경진대회/dirty_minst\\\\49813.png',\n",
       " 'C:/Users/yeongeunkim/Desktop/github/boazhappy repository/DACON_제 2회 컴퓨터 비전 학습 경진대회/dirty_minst\\\\49814.png',\n",
       " 'C:/Users/yeongeunkim/Desktop/github/boazhappy repository/DACON_제 2회 컴퓨터 비전 학습 경진대회/dirty_minst\\\\49815.png',\n",
       " 'C:/Users/yeongeunkim/Desktop/github/boazhappy repository/DACON_제 2회 컴퓨터 비전 학습 경진대회/dirty_minst\\\\49816.png',\n",
       " 'C:/Users/yeongeunkim/Desktop/github/boazhappy repository/DACON_제 2회 컴퓨터 비전 학습 경진대회/dirty_minst\\\\49817.png',\n",
       " 'C:/Users/yeongeunkim/Desktop/github/boazhappy repository/DACON_제 2회 컴퓨터 비전 학습 경진대회/dirty_minst\\\\49818.png',\n",
       " 'C:/Users/yeongeunkim/Desktop/github/boazhappy repository/DACON_제 2회 컴퓨터 비전 학습 경진대회/dirty_minst\\\\49819.png',\n",
       " 'C:/Users/yeongeunkim/Desktop/github/boazhappy repository/DACON_제 2회 컴퓨터 비전 학습 경진대회/dirty_minst\\\\49820.png',\n",
       " 'C:/Users/yeongeunkim/Desktop/github/boazhappy repository/DACON_제 2회 컴퓨터 비전 학습 경진대회/dirty_minst\\\\49821.png',\n",
       " 'C:/Users/yeongeunkim/Desktop/github/boazhappy repository/DACON_제 2회 컴퓨터 비전 학습 경진대회/dirty_minst\\\\49822.png',\n",
       " 'C:/Users/yeongeunkim/Desktop/github/boazhappy repository/DACON_제 2회 컴퓨터 비전 학습 경진대회/dirty_minst\\\\49823.png',\n",
       " 'C:/Users/yeongeunkim/Desktop/github/boazhappy repository/DACON_제 2회 컴퓨터 비전 학습 경진대회/dirty_minst\\\\49824.png',\n",
       " 'C:/Users/yeongeunkim/Desktop/github/boazhappy repository/DACON_제 2회 컴퓨터 비전 학습 경진대회/dirty_minst\\\\49825.png',\n",
       " 'C:/Users/yeongeunkim/Desktop/github/boazhappy repository/DACON_제 2회 컴퓨터 비전 학습 경진대회/dirty_minst\\\\49826.png',\n",
       " 'C:/Users/yeongeunkim/Desktop/github/boazhappy repository/DACON_제 2회 컴퓨터 비전 학습 경진대회/dirty_minst\\\\49827.png',\n",
       " 'C:/Users/yeongeunkim/Desktop/github/boazhappy repository/DACON_제 2회 컴퓨터 비전 학습 경진대회/dirty_minst\\\\49828.png',\n",
       " 'C:/Users/yeongeunkim/Desktop/github/boazhappy repository/DACON_제 2회 컴퓨터 비전 학습 경진대회/dirty_minst\\\\49829.png',\n",
       " 'C:/Users/yeongeunkim/Desktop/github/boazhappy repository/DACON_제 2회 컴퓨터 비전 학습 경진대회/dirty_minst\\\\49830.png',\n",
       " 'C:/Users/yeongeunkim/Desktop/github/boazhappy repository/DACON_제 2회 컴퓨터 비전 학습 경진대회/dirty_minst\\\\49831.png',\n",
       " 'C:/Users/yeongeunkim/Desktop/github/boazhappy repository/DACON_제 2회 컴퓨터 비전 학습 경진대회/dirty_minst\\\\49832.png',\n",
       " 'C:/Users/yeongeunkim/Desktop/github/boazhappy repository/DACON_제 2회 컴퓨터 비전 학습 경진대회/dirty_minst\\\\49833.png',\n",
       " 'C:/Users/yeongeunkim/Desktop/github/boazhappy repository/DACON_제 2회 컴퓨터 비전 학습 경진대회/dirty_minst\\\\49834.png',\n",
       " 'C:/Users/yeongeunkim/Desktop/github/boazhappy repository/DACON_제 2회 컴퓨터 비전 학습 경진대회/dirty_minst\\\\49835.png',\n",
       " 'C:/Users/yeongeunkim/Desktop/github/boazhappy repository/DACON_제 2회 컴퓨터 비전 학습 경진대회/dirty_minst\\\\49836.png',\n",
       " 'C:/Users/yeongeunkim/Desktop/github/boazhappy repository/DACON_제 2회 컴퓨터 비전 학습 경진대회/dirty_minst\\\\49837.png',\n",
       " 'C:/Users/yeongeunkim/Desktop/github/boazhappy repository/DACON_제 2회 컴퓨터 비전 학습 경진대회/dirty_minst\\\\49838.png',\n",
       " 'C:/Users/yeongeunkim/Desktop/github/boazhappy repository/DACON_제 2회 컴퓨터 비전 학습 경진대회/dirty_minst\\\\49839.png',\n",
       " 'C:/Users/yeongeunkim/Desktop/github/boazhappy repository/DACON_제 2회 컴퓨터 비전 학습 경진대회/dirty_minst\\\\49840.png',\n",
       " 'C:/Users/yeongeunkim/Desktop/github/boazhappy repository/DACON_제 2회 컴퓨터 비전 학습 경진대회/dirty_minst\\\\49841.png',\n",
       " 'C:/Users/yeongeunkim/Desktop/github/boazhappy repository/DACON_제 2회 컴퓨터 비전 학습 경진대회/dirty_minst\\\\49842.png',\n",
       " 'C:/Users/yeongeunkim/Desktop/github/boazhappy repository/DACON_제 2회 컴퓨터 비전 학습 경진대회/dirty_minst\\\\49843.png',\n",
       " 'C:/Users/yeongeunkim/Desktop/github/boazhappy repository/DACON_제 2회 컴퓨터 비전 학습 경진대회/dirty_minst\\\\49844.png',\n",
       " 'C:/Users/yeongeunkim/Desktop/github/boazhappy repository/DACON_제 2회 컴퓨터 비전 학습 경진대회/dirty_minst\\\\49845.png',\n",
       " 'C:/Users/yeongeunkim/Desktop/github/boazhappy repository/DACON_제 2회 컴퓨터 비전 학습 경진대회/dirty_minst\\\\49846.png',\n",
       " 'C:/Users/yeongeunkim/Desktop/github/boazhappy repository/DACON_제 2회 컴퓨터 비전 학습 경진대회/dirty_minst\\\\49847.png',\n",
       " 'C:/Users/yeongeunkim/Desktop/github/boazhappy repository/DACON_제 2회 컴퓨터 비전 학습 경진대회/dirty_minst\\\\49848.png',\n",
       " 'C:/Users/yeongeunkim/Desktop/github/boazhappy repository/DACON_제 2회 컴퓨터 비전 학습 경진대회/dirty_minst\\\\49849.png',\n",
       " 'C:/Users/yeongeunkim/Desktop/github/boazhappy repository/DACON_제 2회 컴퓨터 비전 학습 경진대회/dirty_minst\\\\49850.png',\n",
       " 'C:/Users/yeongeunkim/Desktop/github/boazhappy repository/DACON_제 2회 컴퓨터 비전 학습 경진대회/dirty_minst\\\\49851.png',\n",
       " 'C:/Users/yeongeunkim/Desktop/github/boazhappy repository/DACON_제 2회 컴퓨터 비전 학습 경진대회/dirty_minst\\\\49852.png',\n",
       " 'C:/Users/yeongeunkim/Desktop/github/boazhappy repository/DACON_제 2회 컴퓨터 비전 학습 경진대회/dirty_minst\\\\49853.png',\n",
       " 'C:/Users/yeongeunkim/Desktop/github/boazhappy repository/DACON_제 2회 컴퓨터 비전 학습 경진대회/dirty_minst\\\\49854.png',\n",
       " 'C:/Users/yeongeunkim/Desktop/github/boazhappy repository/DACON_제 2회 컴퓨터 비전 학습 경진대회/dirty_minst\\\\49855.png',\n",
       " 'C:/Users/yeongeunkim/Desktop/github/boazhappy repository/DACON_제 2회 컴퓨터 비전 학습 경진대회/dirty_minst\\\\49856.png',\n",
       " 'C:/Users/yeongeunkim/Desktop/github/boazhappy repository/DACON_제 2회 컴퓨터 비전 학습 경진대회/dirty_minst\\\\49857.png',\n",
       " 'C:/Users/yeongeunkim/Desktop/github/boazhappy repository/DACON_제 2회 컴퓨터 비전 학습 경진대회/dirty_minst\\\\49858.png',\n",
       " 'C:/Users/yeongeunkim/Desktop/github/boazhappy repository/DACON_제 2회 컴퓨터 비전 학습 경진대회/dirty_minst\\\\49859.png',\n",
       " 'C:/Users/yeongeunkim/Desktop/github/boazhappy repository/DACON_제 2회 컴퓨터 비전 학습 경진대회/dirty_minst\\\\49860.png',\n",
       " 'C:/Users/yeongeunkim/Desktop/github/boazhappy repository/DACON_제 2회 컴퓨터 비전 학습 경진대회/dirty_minst\\\\49861.png',\n",
       " 'C:/Users/yeongeunkim/Desktop/github/boazhappy repository/DACON_제 2회 컴퓨터 비전 학습 경진대회/dirty_minst\\\\49862.png',\n",
       " 'C:/Users/yeongeunkim/Desktop/github/boazhappy repository/DACON_제 2회 컴퓨터 비전 학습 경진대회/dirty_minst\\\\49863.png',\n",
       " 'C:/Users/yeongeunkim/Desktop/github/boazhappy repository/DACON_제 2회 컴퓨터 비전 학습 경진대회/dirty_minst\\\\49864.png',\n",
       " 'C:/Users/yeongeunkim/Desktop/github/boazhappy repository/DACON_제 2회 컴퓨터 비전 학습 경진대회/dirty_minst\\\\49865.png',\n",
       " 'C:/Users/yeongeunkim/Desktop/github/boazhappy repository/DACON_제 2회 컴퓨터 비전 학습 경진대회/dirty_minst\\\\49866.png',\n",
       " 'C:/Users/yeongeunkim/Desktop/github/boazhappy repository/DACON_제 2회 컴퓨터 비전 학습 경진대회/dirty_minst\\\\49867.png',\n",
       " 'C:/Users/yeongeunkim/Desktop/github/boazhappy repository/DACON_제 2회 컴퓨터 비전 학습 경진대회/dirty_minst\\\\49868.png',\n",
       " 'C:/Users/yeongeunkim/Desktop/github/boazhappy repository/DACON_제 2회 컴퓨터 비전 학습 경진대회/dirty_minst\\\\49869.png',\n",
       " 'C:/Users/yeongeunkim/Desktop/github/boazhappy repository/DACON_제 2회 컴퓨터 비전 학습 경진대회/dirty_minst\\\\49870.png',\n",
       " 'C:/Users/yeongeunkim/Desktop/github/boazhappy repository/DACON_제 2회 컴퓨터 비전 학습 경진대회/dirty_minst\\\\49871.png',\n",
       " 'C:/Users/yeongeunkim/Desktop/github/boazhappy repository/DACON_제 2회 컴퓨터 비전 학습 경진대회/dirty_minst\\\\49872.png',\n",
       " 'C:/Users/yeongeunkim/Desktop/github/boazhappy repository/DACON_제 2회 컴퓨터 비전 학습 경진대회/dirty_minst\\\\49873.png',\n",
       " 'C:/Users/yeongeunkim/Desktop/github/boazhappy repository/DACON_제 2회 컴퓨터 비전 학습 경진대회/dirty_minst\\\\49874.png',\n",
       " 'C:/Users/yeongeunkim/Desktop/github/boazhappy repository/DACON_제 2회 컴퓨터 비전 학습 경진대회/dirty_minst\\\\49875.png',\n",
       " 'C:/Users/yeongeunkim/Desktop/github/boazhappy repository/DACON_제 2회 컴퓨터 비전 학습 경진대회/dirty_minst\\\\49876.png',\n",
       " 'C:/Users/yeongeunkim/Desktop/github/boazhappy repository/DACON_제 2회 컴퓨터 비전 학습 경진대회/dirty_minst\\\\49877.png',\n",
       " 'C:/Users/yeongeunkim/Desktop/github/boazhappy repository/DACON_제 2회 컴퓨터 비전 학습 경진대회/dirty_minst\\\\49878.png',\n",
       " 'C:/Users/yeongeunkim/Desktop/github/boazhappy repository/DACON_제 2회 컴퓨터 비전 학습 경진대회/dirty_minst\\\\49879.png',\n",
       " 'C:/Users/yeongeunkim/Desktop/github/boazhappy repository/DACON_제 2회 컴퓨터 비전 학습 경진대회/dirty_minst\\\\49880.png',\n",
       " 'C:/Users/yeongeunkim/Desktop/github/boazhappy repository/DACON_제 2회 컴퓨터 비전 학습 경진대회/dirty_minst\\\\49881.png',\n",
       " 'C:/Users/yeongeunkim/Desktop/github/boazhappy repository/DACON_제 2회 컴퓨터 비전 학습 경진대회/dirty_minst\\\\49882.png',\n",
       " 'C:/Users/yeongeunkim/Desktop/github/boazhappy repository/DACON_제 2회 컴퓨터 비전 학습 경진대회/dirty_minst\\\\49883.png',\n",
       " 'C:/Users/yeongeunkim/Desktop/github/boazhappy repository/DACON_제 2회 컴퓨터 비전 학습 경진대회/dirty_minst\\\\49884.png',\n",
       " 'C:/Users/yeongeunkim/Desktop/github/boazhappy repository/DACON_제 2회 컴퓨터 비전 학습 경진대회/dirty_minst\\\\49885.png',\n",
       " 'C:/Users/yeongeunkim/Desktop/github/boazhappy repository/DACON_제 2회 컴퓨터 비전 학습 경진대회/dirty_minst\\\\49886.png',\n",
       " 'C:/Users/yeongeunkim/Desktop/github/boazhappy repository/DACON_제 2회 컴퓨터 비전 학습 경진대회/dirty_minst\\\\49887.png',\n",
       " 'C:/Users/yeongeunkim/Desktop/github/boazhappy repository/DACON_제 2회 컴퓨터 비전 학습 경진대회/dirty_minst\\\\49888.png',\n",
       " 'C:/Users/yeongeunkim/Desktop/github/boazhappy repository/DACON_제 2회 컴퓨터 비전 학습 경진대회/dirty_minst\\\\49889.png',\n",
       " 'C:/Users/yeongeunkim/Desktop/github/boazhappy repository/DACON_제 2회 컴퓨터 비전 학습 경진대회/dirty_minst\\\\49890.png',\n",
       " 'C:/Users/yeongeunkim/Desktop/github/boazhappy repository/DACON_제 2회 컴퓨터 비전 학습 경진대회/dirty_minst\\\\49891.png',\n",
       " 'C:/Users/yeongeunkim/Desktop/github/boazhappy repository/DACON_제 2회 컴퓨터 비전 학습 경진대회/dirty_minst\\\\49892.png',\n",
       " 'C:/Users/yeongeunkim/Desktop/github/boazhappy repository/DACON_제 2회 컴퓨터 비전 학습 경진대회/dirty_minst\\\\49893.png',\n",
       " 'C:/Users/yeongeunkim/Desktop/github/boazhappy repository/DACON_제 2회 컴퓨터 비전 학습 경진대회/dirty_minst\\\\49894.png',\n",
       " 'C:/Users/yeongeunkim/Desktop/github/boazhappy repository/DACON_제 2회 컴퓨터 비전 학습 경진대회/dirty_minst\\\\49895.png',\n",
       " 'C:/Users/yeongeunkim/Desktop/github/boazhappy repository/DACON_제 2회 컴퓨터 비전 학습 경진대회/dirty_minst\\\\49896.png',\n",
       " 'C:/Users/yeongeunkim/Desktop/github/boazhappy repository/DACON_제 2회 컴퓨터 비전 학습 경진대회/dirty_minst\\\\49897.png',\n",
       " 'C:/Users/yeongeunkim/Desktop/github/boazhappy repository/DACON_제 2회 컴퓨터 비전 학습 경진대회/dirty_minst\\\\49898.png',\n",
       " 'C:/Users/yeongeunkim/Desktop/github/boazhappy repository/DACON_제 2회 컴퓨터 비전 학습 경진대회/dirty_minst\\\\49899.png',\n",
       " 'C:/Users/yeongeunkim/Desktop/github/boazhappy repository/DACON_제 2회 컴퓨터 비전 학습 경진대회/dirty_minst\\\\49900.png',\n",
       " 'C:/Users/yeongeunkim/Desktop/github/boazhappy repository/DACON_제 2회 컴퓨터 비전 학습 경진대회/dirty_minst\\\\49901.png',\n",
       " 'C:/Users/yeongeunkim/Desktop/github/boazhappy repository/DACON_제 2회 컴퓨터 비전 학습 경진대회/dirty_minst\\\\49902.png',\n",
       " 'C:/Users/yeongeunkim/Desktop/github/boazhappy repository/DACON_제 2회 컴퓨터 비전 학습 경진대회/dirty_minst\\\\49903.png',\n",
       " 'C:/Users/yeongeunkim/Desktop/github/boazhappy repository/DACON_제 2회 컴퓨터 비전 학습 경진대회/dirty_minst\\\\49904.png',\n",
       " 'C:/Users/yeongeunkim/Desktop/github/boazhappy repository/DACON_제 2회 컴퓨터 비전 학습 경진대회/dirty_minst\\\\49905.png',\n",
       " 'C:/Users/yeongeunkim/Desktop/github/boazhappy repository/DACON_제 2회 컴퓨터 비전 학습 경진대회/dirty_minst\\\\49906.png',\n",
       " 'C:/Users/yeongeunkim/Desktop/github/boazhappy repository/DACON_제 2회 컴퓨터 비전 학습 경진대회/dirty_minst\\\\49907.png',\n",
       " 'C:/Users/yeongeunkim/Desktop/github/boazhappy repository/DACON_제 2회 컴퓨터 비전 학습 경진대회/dirty_minst\\\\49908.png',\n",
       " 'C:/Users/yeongeunkim/Desktop/github/boazhappy repository/DACON_제 2회 컴퓨터 비전 학습 경진대회/dirty_minst\\\\49909.png',\n",
       " 'C:/Users/yeongeunkim/Desktop/github/boazhappy repository/DACON_제 2회 컴퓨터 비전 학습 경진대회/dirty_minst\\\\49910.png',\n",
       " 'C:/Users/yeongeunkim/Desktop/github/boazhappy repository/DACON_제 2회 컴퓨터 비전 학습 경진대회/dirty_minst\\\\49911.png',\n",
       " 'C:/Users/yeongeunkim/Desktop/github/boazhappy repository/DACON_제 2회 컴퓨터 비전 학습 경진대회/dirty_minst\\\\49912.png',\n",
       " 'C:/Users/yeongeunkim/Desktop/github/boazhappy repository/DACON_제 2회 컴퓨터 비전 학습 경진대회/dirty_minst\\\\49913.png',\n",
       " 'C:/Users/yeongeunkim/Desktop/github/boazhappy repository/DACON_제 2회 컴퓨터 비전 학습 경진대회/dirty_minst\\\\49914.png',\n",
       " 'C:/Users/yeongeunkim/Desktop/github/boazhappy repository/DACON_제 2회 컴퓨터 비전 학습 경진대회/dirty_minst\\\\49915.png',\n",
       " 'C:/Users/yeongeunkim/Desktop/github/boazhappy repository/DACON_제 2회 컴퓨터 비전 학습 경진대회/dirty_minst\\\\49916.png',\n",
       " 'C:/Users/yeongeunkim/Desktop/github/boazhappy repository/DACON_제 2회 컴퓨터 비전 학습 경진대회/dirty_minst\\\\49917.png',\n",
       " 'C:/Users/yeongeunkim/Desktop/github/boazhappy repository/DACON_제 2회 컴퓨터 비전 학습 경진대회/dirty_minst\\\\49918.png',\n",
       " 'C:/Users/yeongeunkim/Desktop/github/boazhappy repository/DACON_제 2회 컴퓨터 비전 학습 경진대회/dirty_minst\\\\49919.png',\n",
       " 'C:/Users/yeongeunkim/Desktop/github/boazhappy repository/DACON_제 2회 컴퓨터 비전 학습 경진대회/dirty_minst\\\\49920.png',\n",
       " 'C:/Users/yeongeunkim/Desktop/github/boazhappy repository/DACON_제 2회 컴퓨터 비전 학습 경진대회/dirty_minst\\\\49921.png',\n",
       " 'C:/Users/yeongeunkim/Desktop/github/boazhappy repository/DACON_제 2회 컴퓨터 비전 학습 경진대회/dirty_minst\\\\49922.png',\n",
       " 'C:/Users/yeongeunkim/Desktop/github/boazhappy repository/DACON_제 2회 컴퓨터 비전 학습 경진대회/dirty_minst\\\\49923.png',\n",
       " 'C:/Users/yeongeunkim/Desktop/github/boazhappy repository/DACON_제 2회 컴퓨터 비전 학습 경진대회/dirty_minst\\\\49924.png',\n",
       " 'C:/Users/yeongeunkim/Desktop/github/boazhappy repository/DACON_제 2회 컴퓨터 비전 학습 경진대회/dirty_minst\\\\49925.png',\n",
       " 'C:/Users/yeongeunkim/Desktop/github/boazhappy repository/DACON_제 2회 컴퓨터 비전 학습 경진대회/dirty_minst\\\\49926.png',\n",
       " 'C:/Users/yeongeunkim/Desktop/github/boazhappy repository/DACON_제 2회 컴퓨터 비전 학습 경진대회/dirty_minst\\\\49927.png',\n",
       " 'C:/Users/yeongeunkim/Desktop/github/boazhappy repository/DACON_제 2회 컴퓨터 비전 학습 경진대회/dirty_minst\\\\49928.png',\n",
       " 'C:/Users/yeongeunkim/Desktop/github/boazhappy repository/DACON_제 2회 컴퓨터 비전 학습 경진대회/dirty_minst\\\\49929.png',\n",
       " 'C:/Users/yeongeunkim/Desktop/github/boazhappy repository/DACON_제 2회 컴퓨터 비전 학습 경진대회/dirty_minst\\\\49930.png',\n",
       " 'C:/Users/yeongeunkim/Desktop/github/boazhappy repository/DACON_제 2회 컴퓨터 비전 학습 경진대회/dirty_minst\\\\49931.png',\n",
       " 'C:/Users/yeongeunkim/Desktop/github/boazhappy repository/DACON_제 2회 컴퓨터 비전 학습 경진대회/dirty_minst\\\\49932.png',\n",
       " 'C:/Users/yeongeunkim/Desktop/github/boazhappy repository/DACON_제 2회 컴퓨터 비전 학습 경진대회/dirty_minst\\\\49933.png',\n",
       " 'C:/Users/yeongeunkim/Desktop/github/boazhappy repository/DACON_제 2회 컴퓨터 비전 학습 경진대회/dirty_minst\\\\49934.png',\n",
       " 'C:/Users/yeongeunkim/Desktop/github/boazhappy repository/DACON_제 2회 컴퓨터 비전 학습 경진대회/dirty_minst\\\\49935.png',\n",
       " 'C:/Users/yeongeunkim/Desktop/github/boazhappy repository/DACON_제 2회 컴퓨터 비전 학습 경진대회/dirty_minst\\\\49936.png',\n",
       " 'C:/Users/yeongeunkim/Desktop/github/boazhappy repository/DACON_제 2회 컴퓨터 비전 학습 경진대회/dirty_minst\\\\49937.png',\n",
       " 'C:/Users/yeongeunkim/Desktop/github/boazhappy repository/DACON_제 2회 컴퓨터 비전 학습 경진대회/dirty_minst\\\\49938.png',\n",
       " 'C:/Users/yeongeunkim/Desktop/github/boazhappy repository/DACON_제 2회 컴퓨터 비전 학습 경진대회/dirty_minst\\\\49939.png',\n",
       " 'C:/Users/yeongeunkim/Desktop/github/boazhappy repository/DACON_제 2회 컴퓨터 비전 학습 경진대회/dirty_minst\\\\49940.png',\n",
       " 'C:/Users/yeongeunkim/Desktop/github/boazhappy repository/DACON_제 2회 컴퓨터 비전 학습 경진대회/dirty_minst\\\\49941.png',\n",
       " 'C:/Users/yeongeunkim/Desktop/github/boazhappy repository/DACON_제 2회 컴퓨터 비전 학습 경진대회/dirty_minst\\\\49942.png',\n",
       " 'C:/Users/yeongeunkim/Desktop/github/boazhappy repository/DACON_제 2회 컴퓨터 비전 학습 경진대회/dirty_minst\\\\49943.png',\n",
       " 'C:/Users/yeongeunkim/Desktop/github/boazhappy repository/DACON_제 2회 컴퓨터 비전 학습 경진대회/dirty_minst\\\\49944.png',\n",
       " 'C:/Users/yeongeunkim/Desktop/github/boazhappy repository/DACON_제 2회 컴퓨터 비전 학습 경진대회/dirty_minst\\\\49945.png',\n",
       " 'C:/Users/yeongeunkim/Desktop/github/boazhappy repository/DACON_제 2회 컴퓨터 비전 학습 경진대회/dirty_minst\\\\49946.png',\n",
       " 'C:/Users/yeongeunkim/Desktop/github/boazhappy repository/DACON_제 2회 컴퓨터 비전 학습 경진대회/dirty_minst\\\\49947.png',\n",
       " 'C:/Users/yeongeunkim/Desktop/github/boazhappy repository/DACON_제 2회 컴퓨터 비전 학습 경진대회/dirty_minst\\\\49948.png',\n",
       " 'C:/Users/yeongeunkim/Desktop/github/boazhappy repository/DACON_제 2회 컴퓨터 비전 학습 경진대회/dirty_minst\\\\49949.png',\n",
       " 'C:/Users/yeongeunkim/Desktop/github/boazhappy repository/DACON_제 2회 컴퓨터 비전 학습 경진대회/dirty_minst\\\\49950.png',\n",
       " 'C:/Users/yeongeunkim/Desktop/github/boazhappy repository/DACON_제 2회 컴퓨터 비전 학습 경진대회/dirty_minst\\\\49951.png',\n",
       " 'C:/Users/yeongeunkim/Desktop/github/boazhappy repository/DACON_제 2회 컴퓨터 비전 학습 경진대회/dirty_minst\\\\49952.png',\n",
       " 'C:/Users/yeongeunkim/Desktop/github/boazhappy repository/DACON_제 2회 컴퓨터 비전 학습 경진대회/dirty_minst\\\\49953.png',\n",
       " 'C:/Users/yeongeunkim/Desktop/github/boazhappy repository/DACON_제 2회 컴퓨터 비전 학습 경진대회/dirty_minst\\\\49954.png',\n",
       " 'C:/Users/yeongeunkim/Desktop/github/boazhappy repository/DACON_제 2회 컴퓨터 비전 학습 경진대회/dirty_minst\\\\49955.png',\n",
       " 'C:/Users/yeongeunkim/Desktop/github/boazhappy repository/DACON_제 2회 컴퓨터 비전 학습 경진대회/dirty_minst\\\\49956.png',\n",
       " 'C:/Users/yeongeunkim/Desktop/github/boazhappy repository/DACON_제 2회 컴퓨터 비전 학습 경진대회/dirty_minst\\\\49957.png',\n",
       " 'C:/Users/yeongeunkim/Desktop/github/boazhappy repository/DACON_제 2회 컴퓨터 비전 학습 경진대회/dirty_minst\\\\49958.png',\n",
       " 'C:/Users/yeongeunkim/Desktop/github/boazhappy repository/DACON_제 2회 컴퓨터 비전 학습 경진대회/dirty_minst\\\\49959.png',\n",
       " 'C:/Users/yeongeunkim/Desktop/github/boazhappy repository/DACON_제 2회 컴퓨터 비전 학습 경진대회/dirty_minst\\\\49960.png',\n",
       " 'C:/Users/yeongeunkim/Desktop/github/boazhappy repository/DACON_제 2회 컴퓨터 비전 학습 경진대회/dirty_minst\\\\49961.png',\n",
       " 'C:/Users/yeongeunkim/Desktop/github/boazhappy repository/DACON_제 2회 컴퓨터 비전 학습 경진대회/dirty_minst\\\\49962.png',\n",
       " 'C:/Users/yeongeunkim/Desktop/github/boazhappy repository/DACON_제 2회 컴퓨터 비전 학습 경진대회/dirty_minst\\\\49963.png',\n",
       " 'C:/Users/yeongeunkim/Desktop/github/boazhappy repository/DACON_제 2회 컴퓨터 비전 학습 경진대회/dirty_minst\\\\49964.png',\n",
       " 'C:/Users/yeongeunkim/Desktop/github/boazhappy repository/DACON_제 2회 컴퓨터 비전 학습 경진대회/dirty_minst\\\\49965.png',\n",
       " 'C:/Users/yeongeunkim/Desktop/github/boazhappy repository/DACON_제 2회 컴퓨터 비전 학습 경진대회/dirty_minst\\\\49966.png',\n",
       " 'C:/Users/yeongeunkim/Desktop/github/boazhappy repository/DACON_제 2회 컴퓨터 비전 학습 경진대회/dirty_minst\\\\49967.png',\n",
       " 'C:/Users/yeongeunkim/Desktop/github/boazhappy repository/DACON_제 2회 컴퓨터 비전 학습 경진대회/dirty_minst\\\\49968.png',\n",
       " 'C:/Users/yeongeunkim/Desktop/github/boazhappy repository/DACON_제 2회 컴퓨터 비전 학습 경진대회/dirty_minst\\\\49969.png',\n",
       " 'C:/Users/yeongeunkim/Desktop/github/boazhappy repository/DACON_제 2회 컴퓨터 비전 학습 경진대회/dirty_minst\\\\49970.png',\n",
       " 'C:/Users/yeongeunkim/Desktop/github/boazhappy repository/DACON_제 2회 컴퓨터 비전 학습 경진대회/dirty_minst\\\\49971.png',\n",
       " 'C:/Users/yeongeunkim/Desktop/github/boazhappy repository/DACON_제 2회 컴퓨터 비전 학습 경진대회/dirty_minst\\\\49972.png',\n",
       " 'C:/Users/yeongeunkim/Desktop/github/boazhappy repository/DACON_제 2회 컴퓨터 비전 학습 경진대회/dirty_minst\\\\49973.png',\n",
       " 'C:/Users/yeongeunkim/Desktop/github/boazhappy repository/DACON_제 2회 컴퓨터 비전 학습 경진대회/dirty_minst\\\\49974.png',\n",
       " 'C:/Users/yeongeunkim/Desktop/github/boazhappy repository/DACON_제 2회 컴퓨터 비전 학습 경진대회/dirty_minst\\\\49975.png',\n",
       " 'C:/Users/yeongeunkim/Desktop/github/boazhappy repository/DACON_제 2회 컴퓨터 비전 학습 경진대회/dirty_minst\\\\49976.png',\n",
       " 'C:/Users/yeongeunkim/Desktop/github/boazhappy repository/DACON_제 2회 컴퓨터 비전 학습 경진대회/dirty_minst\\\\49977.png',\n",
       " 'C:/Users/yeongeunkim/Desktop/github/boazhappy repository/DACON_제 2회 컴퓨터 비전 학습 경진대회/dirty_minst\\\\49978.png',\n",
       " 'C:/Users/yeongeunkim/Desktop/github/boazhappy repository/DACON_제 2회 컴퓨터 비전 학습 경진대회/dirty_minst\\\\49979.png',\n",
       " 'C:/Users/yeongeunkim/Desktop/github/boazhappy repository/DACON_제 2회 컴퓨터 비전 학습 경진대회/dirty_minst\\\\49980.png',\n",
       " 'C:/Users/yeongeunkim/Desktop/github/boazhappy repository/DACON_제 2회 컴퓨터 비전 학습 경진대회/dirty_minst\\\\49981.png',\n",
       " 'C:/Users/yeongeunkim/Desktop/github/boazhappy repository/DACON_제 2회 컴퓨터 비전 학습 경진대회/dirty_minst\\\\49982.png',\n",
       " 'C:/Users/yeongeunkim/Desktop/github/boazhappy repository/DACON_제 2회 컴퓨터 비전 학습 경진대회/dirty_minst\\\\49983.png',\n",
       " 'C:/Users/yeongeunkim/Desktop/github/boazhappy repository/DACON_제 2회 컴퓨터 비전 학습 경진대회/dirty_minst\\\\49984.png',\n",
       " 'C:/Users/yeongeunkim/Desktop/github/boazhappy repository/DACON_제 2회 컴퓨터 비전 학습 경진대회/dirty_minst\\\\49985.png',\n",
       " 'C:/Users/yeongeunkim/Desktop/github/boazhappy repository/DACON_제 2회 컴퓨터 비전 학습 경진대회/dirty_minst\\\\49986.png',\n",
       " 'C:/Users/yeongeunkim/Desktop/github/boazhappy repository/DACON_제 2회 컴퓨터 비전 학습 경진대회/dirty_minst\\\\49987.png',\n",
       " 'C:/Users/yeongeunkim/Desktop/github/boazhappy repository/DACON_제 2회 컴퓨터 비전 학습 경진대회/dirty_minst\\\\49988.png',\n",
       " 'C:/Users/yeongeunkim/Desktop/github/boazhappy repository/DACON_제 2회 컴퓨터 비전 학습 경진대회/dirty_minst\\\\49989.png',\n",
       " 'C:/Users/yeongeunkim/Desktop/github/boazhappy repository/DACON_제 2회 컴퓨터 비전 학습 경진대회/dirty_minst\\\\49990.png',\n",
       " 'C:/Users/yeongeunkim/Desktop/github/boazhappy repository/DACON_제 2회 컴퓨터 비전 학습 경진대회/dirty_minst\\\\49991.png',\n",
       " 'C:/Users/yeongeunkim/Desktop/github/boazhappy repository/DACON_제 2회 컴퓨터 비전 학습 경진대회/dirty_minst\\\\49992.png',\n",
       " 'C:/Users/yeongeunkim/Desktop/github/boazhappy repository/DACON_제 2회 컴퓨터 비전 학습 경진대회/dirty_minst\\\\49993.png',\n",
       " 'C:/Users/yeongeunkim/Desktop/github/boazhappy repository/DACON_제 2회 컴퓨터 비전 학습 경진대회/dirty_minst\\\\49994.png',\n",
       " 'C:/Users/yeongeunkim/Desktop/github/boazhappy repository/DACON_제 2회 컴퓨터 비전 학습 경진대회/dirty_minst\\\\49995.png',\n",
       " 'C:/Users/yeongeunkim/Desktop/github/boazhappy repository/DACON_제 2회 컴퓨터 비전 학습 경진대회/dirty_minst\\\\49996.png',\n",
       " 'C:/Users/yeongeunkim/Desktop/github/boazhappy repository/DACON_제 2회 컴퓨터 비전 학습 경진대회/dirty_minst\\\\49997.png',\n",
       " 'C:/Users/yeongeunkim/Desktop/github/boazhappy repository/DACON_제 2회 컴퓨터 비전 학습 경진대회/dirty_minst\\\\49998.png',\n",
       " 'C:/Users/yeongeunkim/Desktop/github/boazhappy repository/DACON_제 2회 컴퓨터 비전 학습 경진대회/dirty_minst\\\\49999.png']"
      ]
     },
     "execution_count": 90,
     "metadata": {},
     "output_type": "execute_result"
    }
   ],
   "source": [
    "# numpy로 돌려야한다고 오류떠서 numpy 배열로 하기\n",
    "# 모든 이미지를 하나의 numpy 배열로 결합\n",
    "# images 정의하기\n",
    "image = Image.open('C:/Users/yeongeunkim/Desktop/github/boazhappy repository/DACON_제 2회 컴퓨터 비전 학습 경진대회/dirty_minst/49715.png')\n",
    "#image\n",
    "import glob\n",
    "filelist = glob.glob('C:/Users/yeongeunkim/Desktop/github/boazhappy repository/DACON_제 2회 컴퓨터 비전 학습 경진대회/dirty_minst/*.png')\n",
    "filelist"
   ]
  },
  {
   "cell_type": "code",
   "execution_count": 93,
   "metadata": {
    "scrolled": true
   },
   "outputs": [
    {
     "data": {
      "text/plain": [
       "array([[[225,  56, 220, ..., 134, 241, 147],\n",
       "        [139, 240,  65, ..., 146, 201,  29],\n",
       "        [ 57,   5,  37, ..., 163, 122, 167],\n",
       "        ...,\n",
       "        [ 50, 215,  31, ...,  31, 106, 159],\n",
       "        [144, 224, 175, ..., 190, 244, 203],\n",
       "        [182,  90, 121, ..., 141,  23,  92]],\n",
       "\n",
       "       [[116, 214, 198, ..., 126,  96,  67],\n",
       "        [231, 186, 125, ..., 214, 193, 249],\n",
       "        [221, 125, 122, ..., 142, 128, 116],\n",
       "        ...,\n",
       "        [220,  61, 110, ..., 254, 151, 114],\n",
       "        [191, 253, 160, ..., 146,  45, 248],\n",
       "        [218, 140, 199, ..., 173,  12, 154]],\n",
       "\n",
       "       [[ 13, 107, 176, ..., 139, 133,  19],\n",
       "        [114,  72,  46, ...,   3,  70, 174],\n",
       "        [250,  11, 183, ...,  48,  36, 158],\n",
       "        ...,\n",
       "        [189, 143, 150, ..., 246, 197, 102],\n",
       "        [165, 175, 220, ..., 139, 232, 193],\n",
       "        [198, 204,  94, ...,  66, 173, 172]],\n",
       "\n",
       "       ...,\n",
       "\n",
       "       [[240, 173, 141, ..., 136,  51, 102],\n",
       "        [187, 160,  66, ..., 199,  98,  65],\n",
       "        [ 86, 240, 159, ..., 202, 121, 217],\n",
       "        ...,\n",
       "        [152,   0, 163, ...,  69, 119,  20],\n",
       "        [121,  38, 139, ..., 139,  88, 123],\n",
       "        [ 72, 101, 226, ..., 202, 119, 131]],\n",
       "\n",
       "       [[225, 162,   5, ..., 135, 210, 138],\n",
       "        [156, 144,  46, ...,  38,  29,  43],\n",
       "        [148, 180,  27, ..., 171, 251, 196],\n",
       "        ...,\n",
       "        [182, 138, 243, ..., 160, 202, 237],\n",
       "        [ 60,  12, 144, ..., 193, 139, 197],\n",
       "        [176, 132, 154, ..., 207, 146,   6]],\n",
       "\n",
       "       [[ 41,  87, 239, ...,  40, 233,  76],\n",
       "        [ 97,  25, 248, ..., 125, 193,  41],\n",
       "        [118, 128, 157, ..., 246,  69, 216],\n",
       "        ...,\n",
       "        [190, 184, 234, ...,  87, 133,  43],\n",
       "        [175,  34, 233, ...,  24, 118,  20],\n",
       "        [128, 189,  37, ..., 207, 209, 149]]], dtype=uint8)"
      ]
     },
     "execution_count": 93,
     "metadata": {},
     "output_type": "execute_result"
    }
   ],
   "source": [
    "images = np.array([np.array(Image.open(fname)) for fname in filelist])\n",
    "images"
   ]
  },
  {
   "cell_type": "code",
   "execution_count": 97,
   "metadata": {
    "scrolled": true
   },
   "outputs": [
    {
     "data": {
      "text/plain": [
       "(285, 256, 256)"
      ]
     },
     "execution_count": 97,
     "metadata": {},
     "output_type": "execute_result"
    }
   ],
   "source": [
    "images.shape"
   ]
  },
  {
   "cell_type": "markdown",
   "metadata": {},
   "source": [
    "### 1) Load pretrained VGG16\n",
    "원본 이미지에 대하여 feature extraction 수행할 pre-trained VGG16 모델을 정의한다.\n",
    "\n",
    "전체 모델에서 sub-sampling ratio에 맞게 50 * 50 크기가 되는 layer까지만 feature extractor로 사용한다.\n",
    "이를 위해 원본 이미지와 크기가 같은 50 * 50 크기의 dummy 배열을 입력하여 50 * 50 크기의 feature map을 출력하는 layer를 찾는다.\n",
    "이후 faster_rcnn_feature_extractor 변수에 전체 모델에서 해당 layer까지만 저장한다.\n",
    "원본 이미지를 faster_rcnn_feature_extractor에 입력하여 50 * 50 * 512 크기의 featuremap을 얻는다."
   ]
  },
  {
   "cell_type": "code",
   "execution_count": 38,
   "metadata": {
    "scrolled": false
   },
   "outputs": [
    {
     "name": "stderr",
     "output_type": "stream",
     "text": [
      "Downloading: \"https://download.pytorch.org/models/vgg16-397923af.pth\" to C:\\Users\\yeongeunkim/.torch\\models\\vgg16-397923af.pth\n",
      "100%|██████████████████████████████████████████████████████████████| 553433881/553433881 [00:14<00:00, 38427900.27it/s]\n"
     ]
    },
    {
     "name": "stdout",
     "output_type": "stream",
     "text": [
      "31\n",
      "[Conv2d(3, 64, kernel_size=(3, 3), stride=(1, 1), padding=(1, 1)), ReLU(inplace), Conv2d(64, 64, kernel_size=(3, 3), stride=(1, 1), padding=(1, 1)), ReLU(inplace), MaxPool2d(kernel_size=2, stride=2, padding=0, dilation=1, ceil_mode=False), Conv2d(64, 128, kernel_size=(3, 3), stride=(1, 1), padding=(1, 1)), ReLU(inplace), Conv2d(128, 128, kernel_size=(3, 3), stride=(1, 1), padding=(1, 1)), ReLU(inplace), MaxPool2d(kernel_size=2, stride=2, padding=0, dilation=1, ceil_mode=False), Conv2d(128, 256, kernel_size=(3, 3), stride=(1, 1), padding=(1, 1)), ReLU(inplace), Conv2d(256, 256, kernel_size=(3, 3), stride=(1, 1), padding=(1, 1)), ReLU(inplace), Conv2d(256, 256, kernel_size=(3, 3), stride=(1, 1), padding=(1, 1)), ReLU(inplace), MaxPool2d(kernel_size=2, stride=2, padding=0, dilation=1, ceil_mode=False), Conv2d(256, 512, kernel_size=(3, 3), stride=(1, 1), padding=(1, 1)), ReLU(inplace), Conv2d(512, 512, kernel_size=(3, 3), stride=(1, 1), padding=(1, 1)), ReLU(inplace), Conv2d(512, 512, kernel_size=(3, 3), stride=(1, 1), padding=(1, 1)), ReLU(inplace), MaxPool2d(kernel_size=2, stride=2, padding=0, dilation=1, ceil_mode=False), Conv2d(512, 512, kernel_size=(3, 3), stride=(1, 1), padding=(1, 1)), ReLU(inplace), Conv2d(512, 512, kernel_size=(3, 3), stride=(1, 1), padding=(1, 1)), ReLU(inplace), Conv2d(512, 512, kernel_size=(3, 3), stride=(1, 1), padding=(1, 1)), ReLU(inplace), MaxPool2d(kernel_size=2, stride=2, padding=0, dilation=1, ceil_mode=False)]\n"
     ]
    }
   ],
   "source": [
    "model = torchvision.models.vgg16(pretrained=True).to(DEVICE)\n",
    "features = list(model.features)\n",
    "print(len(features))\n",
    "print(features)"
   ]
  },
  {
   "cell_type": "markdown",
   "metadata": {},
   "source": [
    "### 2) Only collect required layers"
   ]
  },
  {
   "cell_type": "code",
   "execution_count": 40,
   "metadata": {
    "scrolled": false
   },
   "outputs": [
    {
     "name": "stdout",
     "output_type": "stream",
     "text": [
      "torch.Size([1, 3, 800, 800])\n",
      "30\n",
      "[Conv2d(3, 64, kernel_size=(3, 3), stride=(1, 1), padding=(1, 1)), ReLU(inplace), Conv2d(64, 64, kernel_size=(3, 3), stride=(1, 1), padding=(1, 1)), ReLU(inplace), MaxPool2d(kernel_size=2, stride=2, padding=0, dilation=1, ceil_mode=False), Conv2d(64, 128, kernel_size=(3, 3), stride=(1, 1), padding=(1, 1)), ReLU(inplace), Conv2d(128, 128, kernel_size=(3, 3), stride=(1, 1), padding=(1, 1)), ReLU(inplace), MaxPool2d(kernel_size=2, stride=2, padding=0, dilation=1, ceil_mode=False), Conv2d(128, 256, kernel_size=(3, 3), stride=(1, 1), padding=(1, 1)), ReLU(inplace), Conv2d(256, 256, kernel_size=(3, 3), stride=(1, 1), padding=(1, 1)), ReLU(inplace), Conv2d(256, 256, kernel_size=(3, 3), stride=(1, 1), padding=(1, 1)), ReLU(inplace), MaxPool2d(kernel_size=2, stride=2, padding=0, dilation=1, ceil_mode=False), Conv2d(256, 512, kernel_size=(3, 3), stride=(1, 1), padding=(1, 1)), ReLU(inplace), Conv2d(512, 512, kernel_size=(3, 3), stride=(1, 1), padding=(1, 1)), ReLU(inplace), Conv2d(512, 512, kernel_size=(3, 3), stride=(1, 1), padding=(1, 1)), ReLU(inplace), MaxPool2d(kernel_size=2, stride=2, padding=0, dilation=1, ceil_mode=False), Conv2d(512, 512, kernel_size=(3, 3), stride=(1, 1), padding=(1, 1)), ReLU(inplace), Conv2d(512, 512, kernel_size=(3, 3), stride=(1, 1), padding=(1, 1)), ReLU(inplace), Conv2d(512, 512, kernel_size=(3, 3), stride=(1, 1), padding=(1, 1)), ReLU(inplace)]\n",
      "512\n"
     ]
    }
   ],
   "source": [
    "# only collect layers with output feature map size (W, H) < 50\n",
    "\n",
    "dummy_img = torch.zeros((1, 3, 800, 800)).float() # test image array\n",
    "print(dummy_img.shape)\n",
    "\n",
    "req_features = []\n",
    "output = dummy_img.clone().to(DEVICE)\n",
    "\n",
    "for feature in features:\n",
    "    output = feature(output)\n",
    "#     print(output.size()) => torch.Size([batch_size, channel, width, height])\n",
    "    if output.size()[2] < 800//16: # 800/16=50\n",
    "        break\n",
    "    req_features.append(feature)\n",
    "    out_channels = output.size()[1]\n",
    "    \n",
    "print(len(req_features))\n",
    "print(req_features)\n",
    "print(out_channels)"
   ]
  },
  {
   "cell_type": "code",
   "execution_count": 41,
   "metadata": {},
   "outputs": [],
   "source": [
    "# convert this list into a Seqeuntial module\n",
    "\n",
    "faster_rcnn_feature_extractor = nn.Sequential(*req_features)"
   ]
  },
  {
   "cell_type": "code",
   "execution_count": 94,
   "metadata": {
    "scrolled": true
   },
   "outputs": [
    {
     "ename": "RuntimeError",
     "evalue": "Given groups=1, weight of size [64, 3, 3, 3], expected input[1, 256, 285, 256] to have 3 channels, but got 256 channels instead",
     "output_type": "error",
     "traceback": [
      "\u001b[1;31m---------------------------------------------------------------------------\u001b[0m",
      "\u001b[1;31mRuntimeError\u001b[0m                              Traceback (most recent call last)",
      "\u001b[1;32m<ipython-input-94-7e7d02f806c2>\u001b[0m in \u001b[0;36m<module>\u001b[1;34m\u001b[0m\n\u001b[0;32m      4\u001b[0m \u001b[0mimgTensor\u001b[0m \u001b[1;33m=\u001b[0m \u001b[0mtransform\u001b[0m\u001b[1;33m(\u001b[0m\u001b[0mimages\u001b[0m\u001b[1;33m)\u001b[0m\u001b[1;33m.\u001b[0m\u001b[0mto\u001b[0m\u001b[1;33m(\u001b[0m\u001b[0mDEVICE\u001b[0m\u001b[1;33m)\u001b[0m\u001b[1;33m\u001b[0m\u001b[1;33m\u001b[0m\u001b[0m\n\u001b[0;32m      5\u001b[0m \u001b[0mimgTensor\u001b[0m \u001b[1;33m=\u001b[0m \u001b[0mimgTensor\u001b[0m\u001b[1;33m.\u001b[0m\u001b[0munsqueeze\u001b[0m\u001b[1;33m(\u001b[0m\u001b[1;36m0\u001b[0m\u001b[1;33m)\u001b[0m\u001b[1;33m\u001b[0m\u001b[1;33m\u001b[0m\u001b[0m\n\u001b[1;32m----> 6\u001b[1;33m \u001b[0moutput_map\u001b[0m \u001b[1;33m=\u001b[0m \u001b[0mfaster_rcnn_feature_extractor\u001b[0m\u001b[1;33m(\u001b[0m\u001b[0mimgTensor\u001b[0m\u001b[1;33m)\u001b[0m\u001b[1;33m\u001b[0m\u001b[1;33m\u001b[0m\u001b[0m\n\u001b[0m\u001b[0;32m      7\u001b[0m \u001b[1;33m\u001b[0m\u001b[0m\n\u001b[0;32m      8\u001b[0m \u001b[0mprint\u001b[0m\u001b[1;33m(\u001b[0m\u001b[0moutput_map\u001b[0m\u001b[1;33m.\u001b[0m\u001b[0msize\u001b[0m\u001b[1;33m(\u001b[0m\u001b[1;33m)\u001b[0m\u001b[1;33m)\u001b[0m\u001b[1;33m\u001b[0m\u001b[1;33m\u001b[0m\u001b[0m\n",
      "\u001b[1;32m~\\Anaconda3\\lib\\site-packages\\torch\\nn\\modules\\module.py\u001b[0m in \u001b[0;36m__call__\u001b[1;34m(self, *input, **kwargs)\u001b[0m\n\u001b[0;32m    475\u001b[0m             \u001b[0mresult\u001b[0m \u001b[1;33m=\u001b[0m \u001b[0mself\u001b[0m\u001b[1;33m.\u001b[0m\u001b[0m_slow_forward\u001b[0m\u001b[1;33m(\u001b[0m\u001b[1;33m*\u001b[0m\u001b[0minput\u001b[0m\u001b[1;33m,\u001b[0m \u001b[1;33m**\u001b[0m\u001b[0mkwargs\u001b[0m\u001b[1;33m)\u001b[0m\u001b[1;33m\u001b[0m\u001b[1;33m\u001b[0m\u001b[0m\n\u001b[0;32m    476\u001b[0m         \u001b[1;32melse\u001b[0m\u001b[1;33m:\u001b[0m\u001b[1;33m\u001b[0m\u001b[1;33m\u001b[0m\u001b[0m\n\u001b[1;32m--> 477\u001b[1;33m             \u001b[0mresult\u001b[0m \u001b[1;33m=\u001b[0m \u001b[0mself\u001b[0m\u001b[1;33m.\u001b[0m\u001b[0mforward\u001b[0m\u001b[1;33m(\u001b[0m\u001b[1;33m*\u001b[0m\u001b[0minput\u001b[0m\u001b[1;33m,\u001b[0m \u001b[1;33m**\u001b[0m\u001b[0mkwargs\u001b[0m\u001b[1;33m)\u001b[0m\u001b[1;33m\u001b[0m\u001b[1;33m\u001b[0m\u001b[0m\n\u001b[0m\u001b[0;32m    478\u001b[0m         \u001b[1;32mfor\u001b[0m \u001b[0mhook\u001b[0m \u001b[1;32min\u001b[0m \u001b[0mself\u001b[0m\u001b[1;33m.\u001b[0m\u001b[0m_forward_hooks\u001b[0m\u001b[1;33m.\u001b[0m\u001b[0mvalues\u001b[0m\u001b[1;33m(\u001b[0m\u001b[1;33m)\u001b[0m\u001b[1;33m:\u001b[0m\u001b[1;33m\u001b[0m\u001b[1;33m\u001b[0m\u001b[0m\n\u001b[0;32m    479\u001b[0m             \u001b[0mhook_result\u001b[0m \u001b[1;33m=\u001b[0m \u001b[0mhook\u001b[0m\u001b[1;33m(\u001b[0m\u001b[0mself\u001b[0m\u001b[1;33m,\u001b[0m \u001b[0minput\u001b[0m\u001b[1;33m,\u001b[0m \u001b[0mresult\u001b[0m\u001b[1;33m)\u001b[0m\u001b[1;33m\u001b[0m\u001b[1;33m\u001b[0m\u001b[0m\n",
      "\u001b[1;32m~\\Anaconda3\\lib\\site-packages\\torch\\nn\\modules\\container.py\u001b[0m in \u001b[0;36mforward\u001b[1;34m(self, input)\u001b[0m\n\u001b[0;32m     89\u001b[0m     \u001b[1;32mdef\u001b[0m \u001b[0mforward\u001b[0m\u001b[1;33m(\u001b[0m\u001b[0mself\u001b[0m\u001b[1;33m,\u001b[0m \u001b[0minput\u001b[0m\u001b[1;33m)\u001b[0m\u001b[1;33m:\u001b[0m\u001b[1;33m\u001b[0m\u001b[1;33m\u001b[0m\u001b[0m\n\u001b[0;32m     90\u001b[0m         \u001b[1;32mfor\u001b[0m \u001b[0mmodule\u001b[0m \u001b[1;32min\u001b[0m \u001b[0mself\u001b[0m\u001b[1;33m.\u001b[0m\u001b[0m_modules\u001b[0m\u001b[1;33m.\u001b[0m\u001b[0mvalues\u001b[0m\u001b[1;33m(\u001b[0m\u001b[1;33m)\u001b[0m\u001b[1;33m:\u001b[0m\u001b[1;33m\u001b[0m\u001b[1;33m\u001b[0m\u001b[0m\n\u001b[1;32m---> 91\u001b[1;33m             \u001b[0minput\u001b[0m \u001b[1;33m=\u001b[0m \u001b[0mmodule\u001b[0m\u001b[1;33m(\u001b[0m\u001b[0minput\u001b[0m\u001b[1;33m)\u001b[0m\u001b[1;33m\u001b[0m\u001b[1;33m\u001b[0m\u001b[0m\n\u001b[0m\u001b[0;32m     92\u001b[0m         \u001b[1;32mreturn\u001b[0m \u001b[0minput\u001b[0m\u001b[1;33m\u001b[0m\u001b[1;33m\u001b[0m\u001b[0m\n\u001b[0;32m     93\u001b[0m \u001b[1;33m\u001b[0m\u001b[0m\n",
      "\u001b[1;32m~\\Anaconda3\\lib\\site-packages\\torch\\nn\\modules\\module.py\u001b[0m in \u001b[0;36m__call__\u001b[1;34m(self, *input, **kwargs)\u001b[0m\n\u001b[0;32m    475\u001b[0m             \u001b[0mresult\u001b[0m \u001b[1;33m=\u001b[0m \u001b[0mself\u001b[0m\u001b[1;33m.\u001b[0m\u001b[0m_slow_forward\u001b[0m\u001b[1;33m(\u001b[0m\u001b[1;33m*\u001b[0m\u001b[0minput\u001b[0m\u001b[1;33m,\u001b[0m \u001b[1;33m**\u001b[0m\u001b[0mkwargs\u001b[0m\u001b[1;33m)\u001b[0m\u001b[1;33m\u001b[0m\u001b[1;33m\u001b[0m\u001b[0m\n\u001b[0;32m    476\u001b[0m         \u001b[1;32melse\u001b[0m\u001b[1;33m:\u001b[0m\u001b[1;33m\u001b[0m\u001b[1;33m\u001b[0m\u001b[0m\n\u001b[1;32m--> 477\u001b[1;33m             \u001b[0mresult\u001b[0m \u001b[1;33m=\u001b[0m \u001b[0mself\u001b[0m\u001b[1;33m.\u001b[0m\u001b[0mforward\u001b[0m\u001b[1;33m(\u001b[0m\u001b[1;33m*\u001b[0m\u001b[0minput\u001b[0m\u001b[1;33m,\u001b[0m \u001b[1;33m**\u001b[0m\u001b[0mkwargs\u001b[0m\u001b[1;33m)\u001b[0m\u001b[1;33m\u001b[0m\u001b[1;33m\u001b[0m\u001b[0m\n\u001b[0m\u001b[0;32m    478\u001b[0m         \u001b[1;32mfor\u001b[0m \u001b[0mhook\u001b[0m \u001b[1;32min\u001b[0m \u001b[0mself\u001b[0m\u001b[1;33m.\u001b[0m\u001b[0m_forward_hooks\u001b[0m\u001b[1;33m.\u001b[0m\u001b[0mvalues\u001b[0m\u001b[1;33m(\u001b[0m\u001b[1;33m)\u001b[0m\u001b[1;33m:\u001b[0m\u001b[1;33m\u001b[0m\u001b[1;33m\u001b[0m\u001b[0m\n\u001b[0;32m    479\u001b[0m             \u001b[0mhook_result\u001b[0m \u001b[1;33m=\u001b[0m \u001b[0mhook\u001b[0m\u001b[1;33m(\u001b[0m\u001b[0mself\u001b[0m\u001b[1;33m,\u001b[0m \u001b[0minput\u001b[0m\u001b[1;33m,\u001b[0m \u001b[0mresult\u001b[0m\u001b[1;33m)\u001b[0m\u001b[1;33m\u001b[0m\u001b[1;33m\u001b[0m\u001b[0m\n",
      "\u001b[1;32m~\\Anaconda3\\lib\\site-packages\\torch\\nn\\modules\\conv.py\u001b[0m in \u001b[0;36mforward\u001b[1;34m(self, input)\u001b[0m\n\u001b[0;32m    299\u001b[0m     \u001b[1;32mdef\u001b[0m \u001b[0mforward\u001b[0m\u001b[1;33m(\u001b[0m\u001b[0mself\u001b[0m\u001b[1;33m,\u001b[0m \u001b[0minput\u001b[0m\u001b[1;33m)\u001b[0m\u001b[1;33m:\u001b[0m\u001b[1;33m\u001b[0m\u001b[1;33m\u001b[0m\u001b[0m\n\u001b[0;32m    300\u001b[0m         return F.conv2d(input, self.weight, self.bias, self.stride,\n\u001b[1;32m--> 301\u001b[1;33m                         self.padding, self.dilation, self.groups)\n\u001b[0m\u001b[0;32m    302\u001b[0m \u001b[1;33m\u001b[0m\u001b[0m\n\u001b[0;32m    303\u001b[0m \u001b[1;33m\u001b[0m\u001b[0m\n",
      "\u001b[1;31mRuntimeError\u001b[0m: Given groups=1, weight of size [64, 3, 3, 3], expected input[1, 256, 285, 256] to have 3 channels, but got 256 channels instead"
     ]
    }
   ],
   "source": [
    "# test the results of the input image pass through the feature extractor\n",
    "\n",
    "transform = transforms.Compose([transforms.ToTensor()])\n",
    "imgTensor = transform(images).to(DEVICE)\n",
    "imgTensor = imgTensor.unsqueeze(0)\n",
    "output_map = faster_rcnn_feature_extractor(imgTensor)\n",
    "\n",
    "print(output_map.size())"
   ]
  },
  {
   "cell_type": "code",
   "execution_count": 98,
   "metadata": {
    "scrolled": true
   },
   "outputs": [
    {
     "ename": "RuntimeError",
     "evalue": "Given groups=1, weight of size [64, 3, 3, 3], expected input[1, 256, 285, 256] to have 3 channels, but got 256 channels instead",
     "output_type": "error",
     "traceback": [
      "\u001b[1;31m---------------------------------------------------------------------------\u001b[0m",
      "\u001b[1;31mRuntimeError\u001b[0m                              Traceback (most recent call last)",
      "\u001b[1;32m<ipython-input-98-2e3e2d71ba72>\u001b[0m in \u001b[0;36m<module>\u001b[1;34m\u001b[0m\n\u001b[0;32m     18\u001b[0m \u001b[0mfaster_rcnn_feature_extractor\u001b[0m \u001b[1;33m=\u001b[0m \u001b[0mnn\u001b[0m\u001b[1;33m.\u001b[0m\u001b[0mSequential\u001b[0m\u001b[1;33m(\u001b[0m\u001b[1;33m*\u001b[0m\u001b[0mreq_features\u001b[0m\u001b[1;33m)\u001b[0m\u001b[1;33m\u001b[0m\u001b[1;33m\u001b[0m\u001b[0m\n\u001b[0;32m     19\u001b[0m \u001b[1;33m\u001b[0m\u001b[0m\n\u001b[1;32m---> 20\u001b[1;33m \u001b[0moutput_map\u001b[0m \u001b[1;33m=\u001b[0m \u001b[0mfaster_rcnn_feature_extractor\u001b[0m\u001b[1;33m(\u001b[0m\u001b[0mimgTensor\u001b[0m\u001b[1;33m)\u001b[0m\u001b[1;33m\u001b[0m\u001b[1;33m\u001b[0m\u001b[0m\n\u001b[0m",
      "\u001b[1;32m~\\Anaconda3\\lib\\site-packages\\torch\\nn\\modules\\module.py\u001b[0m in \u001b[0;36m__call__\u001b[1;34m(self, *input, **kwargs)\u001b[0m\n\u001b[0;32m    475\u001b[0m             \u001b[0mresult\u001b[0m \u001b[1;33m=\u001b[0m \u001b[0mself\u001b[0m\u001b[1;33m.\u001b[0m\u001b[0m_slow_forward\u001b[0m\u001b[1;33m(\u001b[0m\u001b[1;33m*\u001b[0m\u001b[0minput\u001b[0m\u001b[1;33m,\u001b[0m \u001b[1;33m**\u001b[0m\u001b[0mkwargs\u001b[0m\u001b[1;33m)\u001b[0m\u001b[1;33m\u001b[0m\u001b[1;33m\u001b[0m\u001b[0m\n\u001b[0;32m    476\u001b[0m         \u001b[1;32melse\u001b[0m\u001b[1;33m:\u001b[0m\u001b[1;33m\u001b[0m\u001b[1;33m\u001b[0m\u001b[0m\n\u001b[1;32m--> 477\u001b[1;33m             \u001b[0mresult\u001b[0m \u001b[1;33m=\u001b[0m \u001b[0mself\u001b[0m\u001b[1;33m.\u001b[0m\u001b[0mforward\u001b[0m\u001b[1;33m(\u001b[0m\u001b[1;33m*\u001b[0m\u001b[0minput\u001b[0m\u001b[1;33m,\u001b[0m \u001b[1;33m**\u001b[0m\u001b[0mkwargs\u001b[0m\u001b[1;33m)\u001b[0m\u001b[1;33m\u001b[0m\u001b[1;33m\u001b[0m\u001b[0m\n\u001b[0m\u001b[0;32m    478\u001b[0m         \u001b[1;32mfor\u001b[0m \u001b[0mhook\u001b[0m \u001b[1;32min\u001b[0m \u001b[0mself\u001b[0m\u001b[1;33m.\u001b[0m\u001b[0m_forward_hooks\u001b[0m\u001b[1;33m.\u001b[0m\u001b[0mvalues\u001b[0m\u001b[1;33m(\u001b[0m\u001b[1;33m)\u001b[0m\u001b[1;33m:\u001b[0m\u001b[1;33m\u001b[0m\u001b[1;33m\u001b[0m\u001b[0m\n\u001b[0;32m    479\u001b[0m             \u001b[0mhook_result\u001b[0m \u001b[1;33m=\u001b[0m \u001b[0mhook\u001b[0m\u001b[1;33m(\u001b[0m\u001b[0mself\u001b[0m\u001b[1;33m,\u001b[0m \u001b[0minput\u001b[0m\u001b[1;33m,\u001b[0m \u001b[0mresult\u001b[0m\u001b[1;33m)\u001b[0m\u001b[1;33m\u001b[0m\u001b[1;33m\u001b[0m\u001b[0m\n",
      "\u001b[1;32m~\\Anaconda3\\lib\\site-packages\\torch\\nn\\modules\\container.py\u001b[0m in \u001b[0;36mforward\u001b[1;34m(self, input)\u001b[0m\n\u001b[0;32m     89\u001b[0m     \u001b[1;32mdef\u001b[0m \u001b[0mforward\u001b[0m\u001b[1;33m(\u001b[0m\u001b[0mself\u001b[0m\u001b[1;33m,\u001b[0m \u001b[0minput\u001b[0m\u001b[1;33m)\u001b[0m\u001b[1;33m:\u001b[0m\u001b[1;33m\u001b[0m\u001b[1;33m\u001b[0m\u001b[0m\n\u001b[0;32m     90\u001b[0m         \u001b[1;32mfor\u001b[0m \u001b[0mmodule\u001b[0m \u001b[1;32min\u001b[0m \u001b[0mself\u001b[0m\u001b[1;33m.\u001b[0m\u001b[0m_modules\u001b[0m\u001b[1;33m.\u001b[0m\u001b[0mvalues\u001b[0m\u001b[1;33m(\u001b[0m\u001b[1;33m)\u001b[0m\u001b[1;33m:\u001b[0m\u001b[1;33m\u001b[0m\u001b[1;33m\u001b[0m\u001b[0m\n\u001b[1;32m---> 91\u001b[1;33m             \u001b[0minput\u001b[0m \u001b[1;33m=\u001b[0m \u001b[0mmodule\u001b[0m\u001b[1;33m(\u001b[0m\u001b[0minput\u001b[0m\u001b[1;33m)\u001b[0m\u001b[1;33m\u001b[0m\u001b[1;33m\u001b[0m\u001b[0m\n\u001b[0m\u001b[0;32m     92\u001b[0m         \u001b[1;32mreturn\u001b[0m \u001b[0minput\u001b[0m\u001b[1;33m\u001b[0m\u001b[1;33m\u001b[0m\u001b[0m\n\u001b[0;32m     93\u001b[0m \u001b[1;33m\u001b[0m\u001b[0m\n",
      "\u001b[1;32m~\\Anaconda3\\lib\\site-packages\\torch\\nn\\modules\\module.py\u001b[0m in \u001b[0;36m__call__\u001b[1;34m(self, *input, **kwargs)\u001b[0m\n\u001b[0;32m    475\u001b[0m             \u001b[0mresult\u001b[0m \u001b[1;33m=\u001b[0m \u001b[0mself\u001b[0m\u001b[1;33m.\u001b[0m\u001b[0m_slow_forward\u001b[0m\u001b[1;33m(\u001b[0m\u001b[1;33m*\u001b[0m\u001b[0minput\u001b[0m\u001b[1;33m,\u001b[0m \u001b[1;33m**\u001b[0m\u001b[0mkwargs\u001b[0m\u001b[1;33m)\u001b[0m\u001b[1;33m\u001b[0m\u001b[1;33m\u001b[0m\u001b[0m\n\u001b[0;32m    476\u001b[0m         \u001b[1;32melse\u001b[0m\u001b[1;33m:\u001b[0m\u001b[1;33m\u001b[0m\u001b[1;33m\u001b[0m\u001b[0m\n\u001b[1;32m--> 477\u001b[1;33m             \u001b[0mresult\u001b[0m \u001b[1;33m=\u001b[0m \u001b[0mself\u001b[0m\u001b[1;33m.\u001b[0m\u001b[0mforward\u001b[0m\u001b[1;33m(\u001b[0m\u001b[1;33m*\u001b[0m\u001b[0minput\u001b[0m\u001b[1;33m,\u001b[0m \u001b[1;33m**\u001b[0m\u001b[0mkwargs\u001b[0m\u001b[1;33m)\u001b[0m\u001b[1;33m\u001b[0m\u001b[1;33m\u001b[0m\u001b[0m\n\u001b[0m\u001b[0;32m    478\u001b[0m         \u001b[1;32mfor\u001b[0m \u001b[0mhook\u001b[0m \u001b[1;32min\u001b[0m \u001b[0mself\u001b[0m\u001b[1;33m.\u001b[0m\u001b[0m_forward_hooks\u001b[0m\u001b[1;33m.\u001b[0m\u001b[0mvalues\u001b[0m\u001b[1;33m(\u001b[0m\u001b[1;33m)\u001b[0m\u001b[1;33m:\u001b[0m\u001b[1;33m\u001b[0m\u001b[1;33m\u001b[0m\u001b[0m\n\u001b[0;32m    479\u001b[0m             \u001b[0mhook_result\u001b[0m \u001b[1;33m=\u001b[0m \u001b[0mhook\u001b[0m\u001b[1;33m(\u001b[0m\u001b[0mself\u001b[0m\u001b[1;33m,\u001b[0m \u001b[0minput\u001b[0m\u001b[1;33m,\u001b[0m \u001b[0mresult\u001b[0m\u001b[1;33m)\u001b[0m\u001b[1;33m\u001b[0m\u001b[1;33m\u001b[0m\u001b[0m\n",
      "\u001b[1;32m~\\Anaconda3\\lib\\site-packages\\torch\\nn\\modules\\conv.py\u001b[0m in \u001b[0;36mforward\u001b[1;34m(self, input)\u001b[0m\n\u001b[0;32m    299\u001b[0m     \u001b[1;32mdef\u001b[0m \u001b[0mforward\u001b[0m\u001b[1;33m(\u001b[0m\u001b[0mself\u001b[0m\u001b[1;33m,\u001b[0m \u001b[0minput\u001b[0m\u001b[1;33m)\u001b[0m\u001b[1;33m:\u001b[0m\u001b[1;33m\u001b[0m\u001b[1;33m\u001b[0m\u001b[0m\n\u001b[0;32m    300\u001b[0m         return F.conv2d(input, self.weight, self.bias, self.stride,\n\u001b[1;32m--> 301\u001b[1;33m                         self.padding, self.dilation, self.groups)\n\u001b[0m\u001b[0;32m    302\u001b[0m \u001b[1;33m\u001b[0m\u001b[0m\n\u001b[0;32m    303\u001b[0m \u001b[1;33m\u001b[0m\u001b[0m\n",
      "\u001b[1;31mRuntimeError\u001b[0m: Given groups=1, weight of size [64, 3, 3, 3], expected input[1, 256, 285, 256] to have 3 channels, but got 256 channels instead"
     ]
    }
   ],
   "source": [
    "model = torchvision.models.vgg16(pretrained=True).to(DEVICE)\n",
    "features = list(model.features)\n",
    "\n",
    "# only collect layers with output feature map size (W, H) < 50\n",
    "dummy_img = torch.zeros((1, 3, 800, 800)).float() # test image array\n",
    "\n",
    "req_features = []\n",
    "output = dummy_img.clone().to(DEVICE)\n",
    "\n",
    "for feature in features:\n",
    "    output = feature(output)\n",
    "#     print(output.size()) => torch.Size([batch_size, channel, width, height])\n",
    "    if output.size()[2] < 800//16: # 800/16=50\n",
    "        break\n",
    "    req_features.append(feature)\n",
    "    out_channels = output.size()[1]\n",
    "\n",
    "faster_rcnn_feature_extractor = nn.Sequential(*req_features)\n",
    "\n",
    "output_map = faster_rcnn_feature_extractor(imgTensor)"
   ]
  },
  {
   "cell_type": "code",
   "execution_count": null,
   "metadata": {},
   "outputs": [],
   "source": []
  },
  {
   "cell_type": "markdown",
   "metadata": {},
   "source": [
    "### simple-faster-rcnn-pytorcn/demo.ipynb\n",
    "### model trained with torchvision pretrained model\n",
    "# DEMO"
   ]
  },
  {
   "cell_type": "code",
   "execution_count": 110,
   "metadata": {
    "scrolled": true
   },
   "outputs": [
    {
     "name": "stdout",
     "output_type": "stream",
     "text": [
      "Collecting utils\n",
      "  Downloading https://files.pythonhosted.org/packages/55/e6/c2d2b2703e7debc8b501caae0e6f7ead148fd0faa3c8131292a599930029/utils-1.0.1-py2.py3-none-any.whl\n",
      "Installing collected packages: utils\n",
      "Successfully installed utils-1.0.1\n",
      "Note: you may need to restart the kernel to use updated packages.\n"
     ]
    }
   ],
   "source": [
    "pip install utils"
   ]
  },
  {
   "cell_type": "code",
   "execution_count": 118,
   "metadata": {},
   "outputs": [
    {
     "name": "stdout",
     "output_type": "stream",
     "text": [
      "The autoreload extension is already loaded. To reload it, use:\n",
      "  %reload_ext autoreload\n"
     ]
    }
   ],
   "source": [
    "%load_ext autoreload\n",
    "%autoreload 2\n",
    "import os\n",
    "import torch as t"
   ]
  },
  {
   "cell_type": "code",
   "execution_count": 5,
   "metadata": {
    "collapsed": true
   },
   "outputs": [
    {
     "ename": "ModuleNotFoundError",
     "evalue": "No module named 'model'",
     "output_type": "error",
     "traceback": [
      "\u001b[1;31m---------------------------------------------------------------------------\u001b[0m",
      "\u001b[1;31mModuleNotFoundError\u001b[0m                       Traceback (most recent call last)",
      "\u001b[1;32m<ipython-input-5-fe1b63a5c2a3>\u001b[0m in \u001b[0;36m<module>\u001b[1;34m\u001b[0m\n\u001b[0;32m      1\u001b[0m \u001b[1;31m#from utils.config import opt\u001b[0m\u001b[1;33m\u001b[0m\u001b[1;33m\u001b[0m\u001b[1;33m\u001b[0m\u001b[0m\n\u001b[1;32m----> 2\u001b[1;33m \u001b[1;32mfrom\u001b[0m \u001b[0mmodel\u001b[0m \u001b[1;32mimport\u001b[0m \u001b[0mFasterRCNNVGG16\u001b[0m\u001b[1;33m\u001b[0m\u001b[1;33m\u001b[0m\u001b[0m\n\u001b[0m\u001b[0;32m      3\u001b[0m \u001b[1;32mfrom\u001b[0m \u001b[0mtrainer\u001b[0m \u001b[1;32mimport\u001b[0m \u001b[0mFasterRCNNTrainer\u001b[0m\u001b[1;33m\u001b[0m\u001b[1;33m\u001b[0m\u001b[0m\n\u001b[0;32m      4\u001b[0m \u001b[1;32mfrom\u001b[0m \u001b[0mdata\u001b[0m\u001b[1;33m.\u001b[0m\u001b[0mutil\u001b[0m \u001b[1;32mimport\u001b[0m  \u001b[0mread_image\u001b[0m\u001b[1;33m\u001b[0m\u001b[1;33m\u001b[0m\u001b[0m\n\u001b[0;32m      5\u001b[0m \u001b[1;32mfrom\u001b[0m \u001b[0mutils\u001b[0m\u001b[1;33m.\u001b[0m\u001b[0mvis_tool\u001b[0m \u001b[1;32mimport\u001b[0m \u001b[0mvis_bbox\u001b[0m\u001b[1;33m\u001b[0m\u001b[1;33m\u001b[0m\u001b[0m\n",
      "\u001b[1;31mModuleNotFoundError\u001b[0m: No module named 'model'"
     ]
    }
   ],
   "source": [
    "from utils.config import opt\n",
    "from model import FasterRCNNVGG16\n",
    "from trainer import FasterRCNNTrainer\n",
    "from data.util import  read_image\n",
    "from utils.vis_tool import vis_bbox\n",
    "from utils import array_tool as at\n",
    "%matplotlib inline"
   ]
  },
  {
   "cell_type": "code",
   "execution_count": 113,
   "metadata": {
    "collapsed": true
   },
   "outputs": [
    {
     "ename": "NameError",
     "evalue": "name 'FasterRCNNVGG16' is not defined",
     "output_type": "error",
     "traceback": [
      "\u001b[1;31m---------------------------------------------------------------------------\u001b[0m",
      "\u001b[1;31mNameError\u001b[0m                                 Traceback (most recent call last)",
      "\u001b[1;32m<ipython-input-113-1c763cf862d1>\u001b[0m in \u001b[0;36m<module>\u001b[1;34m\u001b[0m\n\u001b[1;32m----> 1\u001b[1;33m \u001b[0mfaster_rcnn\u001b[0m \u001b[1;33m=\u001b[0m \u001b[0mFasterRCNNVGG16\u001b[0m\u001b[1;33m(\u001b[0m\u001b[1;33m)\u001b[0m\u001b[1;33m\u001b[0m\u001b[1;33m\u001b[0m\u001b[0m\n\u001b[0m\u001b[0;32m      2\u001b[0m \u001b[0mtrainer\u001b[0m \u001b[1;33m=\u001b[0m \u001b[0mFasterRCNNTrainer\u001b[0m\u001b[1;33m(\u001b[0m\u001b[0mfaster_rcnn\u001b[0m\u001b[1;33m)\u001b[0m\u001b[1;33m.\u001b[0m\u001b[0mcuda\u001b[0m\u001b[1;33m(\u001b[0m\u001b[1;33m)\u001b[0m\u001b[1;33m\u001b[0m\u001b[1;33m\u001b[0m\u001b[0m\n",
      "\u001b[1;31mNameError\u001b[0m: name 'FasterRCNNVGG16' is not defined"
     ]
    }
   ],
   "source": [
    "faster_rcnn = FasterRCNNVGG16()\n",
    "trainer = FasterRCNNTrainer(faster_rcnn).cuda()"
   ]
  },
  {
   "cell_type": "code",
   "execution_count": null,
   "metadata": {},
   "outputs": [],
   "source": [
    "trainer.load('/home/cy/fasterrcnn_12211511_0.701052458187_torchvision_pretrain.pth')\n",
    "opt.caffe_pretrain=False # this model was trained from torchvision-pretrained model\n",
    "_bboxes, _labels, _scores = trainer.faster_rcnn.predict(img,visualize=True)\n",
    "vis_bbox(at.tonumpy(img[0]),\n",
    "         at.tonumpy(_bboxes[0]),\n",
    "         at.tonumpy(_labels[0]).reshape(-1),\n",
    "         at.tonumpy(_scores[0]).reshape(-1))\n",
    "# it failed to find the dog, but if you set threshold from 0.7 to 0.6, you'll find it"
   ]
  },
  {
   "cell_type": "code",
   "execution_count": null,
   "metadata": {},
   "outputs": [],
   "source": []
  },
  {
   "cell_type": "code",
   "execution_count": null,
   "metadata": {},
   "outputs": [],
   "source": []
  },
  {
   "cell_type": "code",
   "execution_count": null,
   "metadata": {},
   "outputs": [],
   "source": []
  },
  {
   "cell_type": "code",
   "execution_count": 120,
   "metadata": {},
   "outputs": [],
   "source": [
    "import numpy as np\n",
    "import torch\n",
    "import torch.nn as nn\n",
    "import torch.nn.functional as F\n",
    "import torchvision\n",
    "\n",
    "from utils import *"
   ]
  },
  {
   "cell_type": "code",
   "execution_count": 121,
   "metadata": {
    "scrolled": true
   },
   "outputs": [
    {
     "name": "stdout",
     "output_type": "stream",
     "text": [
      "Sequential(\n",
      "  (0): Conv2d(3, 64, kernel_size=(3, 3), stride=(1, 1), padding=(1, 1))\n",
      "  (1): ReLU(inplace)\n",
      "  (2): Conv2d(64, 64, kernel_size=(3, 3), stride=(1, 1), padding=(1, 1))\n",
      "  (3): ReLU(inplace)\n",
      "  (4): MaxPool2d(kernel_size=2, stride=2, padding=0, dilation=1, ceil_mode=False)\n",
      "  (5): Conv2d(64, 128, kernel_size=(3, 3), stride=(1, 1), padding=(1, 1))\n",
      "  (6): ReLU(inplace)\n",
      "  (7): Conv2d(128, 128, kernel_size=(3, 3), stride=(1, 1), padding=(1, 1))\n",
      "  (8): ReLU(inplace)\n",
      "  (9): MaxPool2d(kernel_size=2, stride=2, padding=0, dilation=1, ceil_mode=False)\n",
      "  (10): Conv2d(128, 256, kernel_size=(3, 3), stride=(1, 1), padding=(1, 1))\n",
      "  (11): ReLU(inplace)\n",
      "  (12): Conv2d(256, 256, kernel_size=(3, 3), stride=(1, 1), padding=(1, 1))\n",
      "  (13): ReLU(inplace)\n",
      "  (14): Conv2d(256, 256, kernel_size=(3, 3), stride=(1, 1), padding=(1, 1))\n",
      "  (15): ReLU(inplace)\n",
      "  (16): MaxPool2d(kernel_size=2, stride=2, padding=0, dilation=1, ceil_mode=False)\n",
      "  (17): Conv2d(256, 512, kernel_size=(3, 3), stride=(1, 1), padding=(1, 1))\n",
      "  (18): ReLU(inplace)\n",
      "  (19): Conv2d(512, 512, kernel_size=(3, 3), stride=(1, 1), padding=(1, 1))\n",
      "  (20): ReLU(inplace)\n",
      "  (21): Conv2d(512, 512, kernel_size=(3, 3), stride=(1, 1), padding=(1, 1))\n",
      "  (22): ReLU(inplace)\n",
      "  (23): MaxPool2d(kernel_size=2, stride=2, padding=0, dilation=1, ceil_mode=False)\n",
      "  (24): Conv2d(512, 512, kernel_size=(3, 3), stride=(1, 1), padding=(1, 1))\n",
      "  (25): ReLU(inplace)\n",
      "  (26): Conv2d(512, 512, kernel_size=(3, 3), stride=(1, 1), padding=(1, 1))\n",
      "  (27): ReLU(inplace)\n",
      "  (28): Conv2d(512, 512, kernel_size=(3, 3), stride=(1, 1), padding=(1, 1))\n",
      "  (29): ReLU(inplace)\n",
      ")\n",
      "torch.Size([1, 512, 16, 16])\n"
     ]
    }
   ],
   "source": [
    "image = torch.zeros((1, 3, 256, 256)).float()\n",
    "image_size = (800, 800)\n",
    "\n",
    "# bbox -> y1, x1, y2, x2\n",
    "bbox = torch.FloatTensor([[20, 30, 400, 500], [300, 400, 500, 600]])\n",
    "labels = torch.LongTensor([6, 8])\n",
    "\n",
    "sub_sample = 16\n",
    "\n",
    "vgg16 = torchvision.models.vgg16(pretrained=True)\n",
    "req_features = vgg16.features[:30]\n",
    "print(req_features)\n",
    "output_map = req_features(image)\n",
    "print(output_map.shape)"
   ]
  },
  {
   "cell_type": "code",
   "execution_count": 122,
   "metadata": {},
   "outputs": [
    {
     "name": "stdout",
     "output_type": "stream",
     "text": [
      "[[ -45.254834    -90.50966799   45.254834     90.50966799]\n",
      " [ -64.          -64.           64.           64.        ]\n",
      " [ -90.50966799  -45.254834     90.50966799   45.254834  ]\n",
      " [ -90.50966799 -181.01933598   90.50966799  181.01933598]\n",
      " [-128.         -128.          128.          128.        ]\n",
      " [-181.01933598  -90.50966799  181.01933598   90.50966799]\n",
      " [-181.01933598 -362.03867197  181.01933598  362.03867197]\n",
      " [-256.         -256.          256.          256.        ]\n",
      " [-362.03867197 -181.01933598  362.03867197  181.01933598]]\n"
     ]
    }
   ],
   "source": [
    "anchor_scale = [8, 16, 32]\n",
    "ratio = [0.5, 1, 2] # H/W\n",
    "\n",
    "len_anchor_scale = len(anchor_scale)\n",
    "len_ratio = len(ratio)\n",
    "len_anchor_template = len_anchor_scale * len_ratio\n",
    "anchor_template = np.zeros((9, 4))\n",
    "\n",
    "for idx, scale in enumerate(anchor_scale):\n",
    "    h = scale * np.sqrt(ratio) * sub_sample\n",
    "    w = scale / np.sqrt(ratio) * sub_sample\n",
    "    y1 = -h/2\n",
    "    x1 = -w/2\n",
    "    y2 = h/2\n",
    "    x2 = w/2\n",
    "    anchor_template[idx*len_ratio:(idx+1)*len_ratio, 0] = y1\n",
    "    anchor_template[idx*len_ratio:(idx+1)*len_ratio, 1] = x1\n",
    "    anchor_template[idx*len_ratio:(idx+1)*len_ratio, 2] = y2\n",
    "    anchor_template[idx*len_ratio:(idx+1)*len_ratio, 3] = x2\n",
    "\n",
    "print(anchor_template)"
   ]
  },
  {
   "cell_type": "code",
   "execution_count": 123,
   "metadata": {},
   "outputs": [
    {
     "name": "stdout",
     "output_type": "stream",
     "text": [
      "(50, 50, 2)\n"
     ]
    }
   ],
   "source": [
    "feature_map_size = (50, 50)\n",
    "# The first center coors is (8, 8)\n",
    "ctr_y = np.arange(8, 800, 16)\n",
    "ctr_x = np.arange(8, 800, 16)\n",
    "\n",
    "ctr = np.zeros((*feature_map_size, 2))\n",
    "for idx, y in enumerate(ctr_y):\n",
    "    ctr[idx, :, 0] = y\n",
    "    ctr[idx, :, 1] = ctr_x\n",
    "print(ctr.shape)"
   ]
  },
  {
   "cell_type": "code",
   "execution_count": 124,
   "metadata": {},
   "outputs": [
    {
     "name": "stdout",
     "output_type": "stream",
     "text": [
      "(22500, 4)\n"
     ]
    }
   ],
   "source": [
    "anchors = np.zeros((*feature_map_size, 9, 4))\n",
    "\n",
    "for idx_y in range(feature_map_size[0]):\n",
    "    for idx_x in range(feature_map_size[1]):\n",
    "        anchors[idx_y, idx_x] = (ctr[idx_y, idx_x] + anchor_template.reshape(-1, 2, 2)).reshape(-1, 4)\n",
    "\n",
    "anchors = anchors.reshape(-1, 4)\n",
    "print(anchors.shape) # (22500, 4)"
   ]
  },
  {
   "cell_type": "code",
   "execution_count": 125,
   "metadata": {},
   "outputs": [
    {
     "name": "stdout",
     "output_type": "stream",
     "text": [
      "(8940,)\n"
     ]
    }
   ],
   "source": [
    "valid_index = np.where((anchors[:, 0] >= 0)\n",
    "                      &(anchors[:, 1] >= 0)\n",
    "                      &(anchors[:, 2] <= 800)\n",
    "                      &(anchors[:, 3] <= 800))[0]\n",
    "print(valid_index.shape) # 8940"
   ]
  },
  {
   "cell_type": "code",
   "execution_count": 126,
   "metadata": {},
   "outputs": [
    {
     "name": "stdout",
     "output_type": "stream",
     "text": [
      "(8940, 4)\n",
      "torch.Size([2, 4])\n"
     ]
    }
   ],
   "source": [
    "valid_labels = np.empty((valid_index.shape[0],), dtype=np.int32)\n",
    "valid_labels.fill(-1)\n",
    "\n",
    "valid_anchors = anchors[valid_index]\n",
    "\n",
    "print(valid_anchors.shape) # (8940,4)\n",
    "print(bbox.shape) # torch.Size([2,4])"
   ]
  },
  {
   "cell_type": "code",
   "execution_count": 127,
   "metadata": {},
   "outputs": [
    {
     "ename": "NameError",
     "evalue": "name 'bbox_iou' is not defined",
     "output_type": "error",
     "traceback": [
      "\u001b[1;31m---------------------------------------------------------------------------\u001b[0m",
      "\u001b[1;31mNameError\u001b[0m                                 Traceback (most recent call last)",
      "\u001b[1;32m<ipython-input-127-f7964f3c9e54>\u001b[0m in \u001b[0;36m<module>\u001b[1;34m\u001b[0m\n\u001b[1;32m----> 1\u001b[1;33m \u001b[0mious\u001b[0m \u001b[1;33m=\u001b[0m \u001b[0mbbox_iou\u001b[0m\u001b[1;33m(\u001b[0m\u001b[0mvalid_anchors\u001b[0m\u001b[1;33m,\u001b[0m \u001b[0mbbox\u001b[0m\u001b[1;33m.\u001b[0m\u001b[0mnumpy\u001b[0m\u001b[1;33m(\u001b[0m\u001b[1;33m)\u001b[0m\u001b[1;33m)\u001b[0m \u001b[1;31m# anchor 8940 : bbox 2\u001b[0m\u001b[1;33m\u001b[0m\u001b[1;33m\u001b[0m\u001b[0m\n\u001b[0m\u001b[0;32m      2\u001b[0m \u001b[1;33m\u001b[0m\u001b[0m\n\u001b[0;32m      3\u001b[0m \u001b[0mpos_iou_thres\u001b[0m \u001b[1;33m=\u001b[0m \u001b[1;36m0.7\u001b[0m\u001b[1;33m\u001b[0m\u001b[1;33m\u001b[0m\u001b[0m\n\u001b[0;32m      4\u001b[0m \u001b[0mneg_iou_thred\u001b[0m \u001b[1;33m=\u001b[0m \u001b[1;36m0.3\u001b[0m\u001b[1;33m\u001b[0m\u001b[1;33m\u001b[0m\u001b[0m\n\u001b[0;32m      5\u001b[0m \u001b[1;33m\u001b[0m\u001b[0m\n",
      "\u001b[1;31mNameError\u001b[0m: name 'bbox_iou' is not defined"
     ]
    }
   ],
   "source": [
    "ious = bbox_iou(valid_anchors, bbox.numpy()) # anchor 8940 : bbox 2\n",
    "\n",
    "pos_iou_thres = 0.7\n",
    "neg_iou_thred = 0.3\n",
    "\n",
    "# Scenario A\n",
    "anchor_max_iou = np.amax(ious, axis=1)\n",
    "pos_iou_anchor_label = np.where(anchor_max_iou >= pos_iou_thres)[0]\n",
    "neg_iou_anchor_label = np.where(anchor_max_iou < neg_iou_thred)[0]\n",
    "valid_labels[pos_iou_anchor_label] = 1\n",
    "valid_labels[neg_iou_anchor_label] = 0\n",
    "\n",
    "# Scenario B\n",
    "gt_max_iou = np.amax(ious, axis=0)\n",
    "gt_max_iou_anchor_label = np.where(ious == gt_max_iou)[0]\n",
    "print(gt_max_iou_anchor_label)\n",
    "valid_labels[gt_max_iou_anchor_label] = 1"
   ]
  },
  {
   "cell_type": "code",
   "execution_count": null,
   "metadata": {},
   "outputs": [],
   "source": [
    "fasterrcnn_12211511_0.701052458187_torchvision_pretrain.pth"
   ]
  },
  {
   "cell_type": "code",
   "execution_count": null,
   "metadata": {},
   "outputs": [],
   "source": [
    "\n",
    "trainer.load('/home/cy/fasterrcnn_12211511_0.701052458187_torchvision_pretrain.pth')\n",
    "opt.caffe_pretrain=False # this model was trained from torchvision-pretrained model\n",
    "_bboxes, _labels, _scores = trainer.faster_rcnn.predict(img,visualize=True)\n",
    "vis_bbox(at.tonumpy(img[0]),\n",
    "         at.tonumpy(_bboxes[0]),\n",
    "         at.tonumpy(_labels[0]).reshape(-1),\n",
    "         at.tonumpy(_scores[0]).reshape(-1))\n",
    "# it failed to find the dog, but if you set threshold from 0.7 to 0.6, you'll find it"
   ]
  },
  {
   "cell_type": "code",
   "execution_count": null,
   "metadata": {},
   "outputs": [],
   "source": []
  },
  {
   "cell_type": "markdown",
   "metadata": {},
   "source": [
    "# 베이스라인 코드"
   ]
  },
  {
   "cell_type": "code",
   "execution_count": 102,
   "metadata": {},
   "outputs": [],
   "source": [
    "# numpy를 tensor로 변환하는 ToTensor 정의\n",
    "class ToTensor(object):\n",
    "    \"\"\"numpy array를 tensor(torch)로 변환합니다.\"\"\"\n",
    "    def __call__(self, sample):\n",
    "        image, label = sample['image'], sample['label']\n",
    "        # swap color axis because\n",
    "        # numpy image: H x W x C\n",
    "        # torch image: C X H X W\n",
    "        image = image.transpose((2, 0, 1))\n",
    "        return {'image': torch.FloatTensor(image),\n",
    "                'label': torch.FloatTensor(label)}\n",
    "# to_tensor 선언\n",
    "to_tensor = T.Compose([\n",
    "                        ToTensor()\n",
    "                    ])\n",
    "\n",
    "class DatasetMNIST(torch.utils.data.Dataset):\n",
    "    def __init__(self,\n",
    "                 dir_path,\n",
    "                 meta_df,\n",
    "                 transforms=to_tensor,#미리 선언한 to_tensor를 transforms로 받음\n",
    "                 augmentations=None):\n",
    "        \n",
    "        self.dir_path = dir_path # 데이터의 이미지가 저장된 디렉터리 경로\n",
    "        self.meta_df = meta_df # 데이터의 인덱스와 정답지가 들어있는 DataFrame\n",
    "\n",
    "        self.transforms = transforms# Transform\n",
    "        self.augmentations = augmentations # Augmentation\n",
    "        \n",
    "    def __len__(self):\n",
    "        return len(self.meta_df)\n",
    "    \n",
    "    def __getitem__(self, index):\n",
    "        # 폴더 경로 + 이미지 이름 + .png => 파일의 경로\n",
    "        # 참고) \"12\".zfill(5) => 000012\n",
    "        #       \"146\".zfill(5) => 000145\n",
    "        # cv2.IMREAD_GRAYSCALE : png파일을 채널이 1개인 GRAYSCALE로 읽음\n",
    "        image = cv2.imread(self.dir_path +\\\n",
    "                           str(self.meta_df.iloc[index,0]).zfill(5) + '.png',\n",
    "                           cv2.IMREAD_GRAYSCALE)\n",
    "        # 0 ~ 255의 값을 갖고 크기가 (256,256)인 numpy array를\n",
    "        # 0 ~ 1 사이의 실수를 갖고 크기가 (256,256,1)인 numpy array로 변환\n",
    "        image = (image/255).astype('float')[..., np.newaxis]\n",
    "\n",
    "        # 정답 numpy array생성(존재하면 1 없으면 0)\n",
    "        label = self.meta_df.iloc[index, 1:].values.astype('float')\n",
    "        sample = {'image': image, 'label': label}\n",
    "\n",
    "        # transform 적용\n",
    "        # numpy to tensor\n",
    "        if self.transforms:\n",
    "            sample = self.transforms(sample)\n",
    "\n",
    "        # sample 반환\n",
    "        return sample"
   ]
  },
  {
   "cell_type": "code",
   "execution_count": 107,
   "metadata": {},
   "outputs": [
    {
     "data": {
      "text/plain": [
       "MultiLabelResnet(\n",
       "  (conv2d): Conv2d(1, 3, kernel_size=(3, 3), stride=(1, 1))\n",
       "  (resnet): ResNet(\n",
       "    (conv1): Conv2d(3, 64, kernel_size=(7, 7), stride=(2, 2), padding=(3, 3), bias=False)\n",
       "    (bn1): BatchNorm2d(64, eps=1e-05, momentum=0.1, affine=True, track_running_stats=True)\n",
       "    (relu): ReLU(inplace)\n",
       "    (maxpool): MaxPool2d(kernel_size=3, stride=2, padding=1, dilation=1, ceil_mode=False)\n",
       "    (layer1): Sequential(\n",
       "      (0): BasicBlock(\n",
       "        (conv1): Conv2d(64, 64, kernel_size=(3, 3), stride=(1, 1), padding=(1, 1), bias=False)\n",
       "        (bn1): BatchNorm2d(64, eps=1e-05, momentum=0.1, affine=True, track_running_stats=True)\n",
       "        (relu): ReLU(inplace)\n",
       "        (conv2): Conv2d(64, 64, kernel_size=(3, 3), stride=(1, 1), padding=(1, 1), bias=False)\n",
       "        (bn2): BatchNorm2d(64, eps=1e-05, momentum=0.1, affine=True, track_running_stats=True)\n",
       "      )\n",
       "      (1): BasicBlock(\n",
       "        (conv1): Conv2d(64, 64, kernel_size=(3, 3), stride=(1, 1), padding=(1, 1), bias=False)\n",
       "        (bn1): BatchNorm2d(64, eps=1e-05, momentum=0.1, affine=True, track_running_stats=True)\n",
       "        (relu): ReLU(inplace)\n",
       "        (conv2): Conv2d(64, 64, kernel_size=(3, 3), stride=(1, 1), padding=(1, 1), bias=False)\n",
       "        (bn2): BatchNorm2d(64, eps=1e-05, momentum=0.1, affine=True, track_running_stats=True)\n",
       "      )\n",
       "    )\n",
       "    (layer2): Sequential(\n",
       "      (0): BasicBlock(\n",
       "        (conv1): Conv2d(64, 128, kernel_size=(3, 3), stride=(2, 2), padding=(1, 1), bias=False)\n",
       "        (bn1): BatchNorm2d(128, eps=1e-05, momentum=0.1, affine=True, track_running_stats=True)\n",
       "        (relu): ReLU(inplace)\n",
       "        (conv2): Conv2d(128, 128, kernel_size=(3, 3), stride=(1, 1), padding=(1, 1), bias=False)\n",
       "        (bn2): BatchNorm2d(128, eps=1e-05, momentum=0.1, affine=True, track_running_stats=True)\n",
       "        (downsample): Sequential(\n",
       "          (0): Conv2d(64, 128, kernel_size=(1, 1), stride=(2, 2), bias=False)\n",
       "          (1): BatchNorm2d(128, eps=1e-05, momentum=0.1, affine=True, track_running_stats=True)\n",
       "        )\n",
       "      )\n",
       "      (1): BasicBlock(\n",
       "        (conv1): Conv2d(128, 128, kernel_size=(3, 3), stride=(1, 1), padding=(1, 1), bias=False)\n",
       "        (bn1): BatchNorm2d(128, eps=1e-05, momentum=0.1, affine=True, track_running_stats=True)\n",
       "        (relu): ReLU(inplace)\n",
       "        (conv2): Conv2d(128, 128, kernel_size=(3, 3), stride=(1, 1), padding=(1, 1), bias=False)\n",
       "        (bn2): BatchNorm2d(128, eps=1e-05, momentum=0.1, affine=True, track_running_stats=True)\n",
       "      )\n",
       "    )\n",
       "    (layer3): Sequential(\n",
       "      (0): BasicBlock(\n",
       "        (conv1): Conv2d(128, 256, kernel_size=(3, 3), stride=(2, 2), padding=(1, 1), bias=False)\n",
       "        (bn1): BatchNorm2d(256, eps=1e-05, momentum=0.1, affine=True, track_running_stats=True)\n",
       "        (relu): ReLU(inplace)\n",
       "        (conv2): Conv2d(256, 256, kernel_size=(3, 3), stride=(1, 1), padding=(1, 1), bias=False)\n",
       "        (bn2): BatchNorm2d(256, eps=1e-05, momentum=0.1, affine=True, track_running_stats=True)\n",
       "        (downsample): Sequential(\n",
       "          (0): Conv2d(128, 256, kernel_size=(1, 1), stride=(2, 2), bias=False)\n",
       "          (1): BatchNorm2d(256, eps=1e-05, momentum=0.1, affine=True, track_running_stats=True)\n",
       "        )\n",
       "      )\n",
       "      (1): BasicBlock(\n",
       "        (conv1): Conv2d(256, 256, kernel_size=(3, 3), stride=(1, 1), padding=(1, 1), bias=False)\n",
       "        (bn1): BatchNorm2d(256, eps=1e-05, momentum=0.1, affine=True, track_running_stats=True)\n",
       "        (relu): ReLU(inplace)\n",
       "        (conv2): Conv2d(256, 256, kernel_size=(3, 3), stride=(1, 1), padding=(1, 1), bias=False)\n",
       "        (bn2): BatchNorm2d(256, eps=1e-05, momentum=0.1, affine=True, track_running_stats=True)\n",
       "      )\n",
       "    )\n",
       "    (layer4): Sequential(\n",
       "      (0): BasicBlock(\n",
       "        (conv1): Conv2d(256, 512, kernel_size=(3, 3), stride=(2, 2), padding=(1, 1), bias=False)\n",
       "        (bn1): BatchNorm2d(512, eps=1e-05, momentum=0.1, affine=True, track_running_stats=True)\n",
       "        (relu): ReLU(inplace)\n",
       "        (conv2): Conv2d(512, 512, kernel_size=(3, 3), stride=(1, 1), padding=(1, 1), bias=False)\n",
       "        (bn2): BatchNorm2d(512, eps=1e-05, momentum=0.1, affine=True, track_running_stats=True)\n",
       "        (downsample): Sequential(\n",
       "          (0): Conv2d(256, 512, kernel_size=(1, 1), stride=(2, 2), bias=False)\n",
       "          (1): BatchNorm2d(512, eps=1e-05, momentum=0.1, affine=True, track_running_stats=True)\n",
       "        )\n",
       "      )\n",
       "      (1): BasicBlock(\n",
       "        (conv1): Conv2d(512, 512, kernel_size=(3, 3), stride=(1, 1), padding=(1, 1), bias=False)\n",
       "        (bn1): BatchNorm2d(512, eps=1e-05, momentum=0.1, affine=True, track_running_stats=True)\n",
       "        (relu): ReLU(inplace)\n",
       "        (conv2): Conv2d(512, 512, kernel_size=(3, 3), stride=(1, 1), padding=(1, 1), bias=False)\n",
       "        (bn2): BatchNorm2d(512, eps=1e-05, momentum=0.1, affine=True, track_running_stats=True)\n",
       "      )\n",
       "    )\n",
       "    (avgpool): AvgPool2d(kernel_size=7, stride=1, padding=0)\n",
       "    (fc): Linear(in_features=512, out_features=1000, bias=True)\n",
       "  )\n",
       "  (FC): Linear(in_features=1000, out_features=26, bias=True)\n",
       ")"
      ]
     },
     "execution_count": 107,
     "metadata": {},
     "output_type": "execute_result"
    }
   ],
   "source": [
    "# nn.Module을 상속 받아 MultiLabelResnet를 정의\n",
    "class MultiLabelResnet(nn.Module):\n",
    "    def __init__(self):\n",
    "        super(MultiLabelResnet, self).__init__()\n",
    "        self.conv2d = nn.Conv2d(1, 3, 3, stride=1)\n",
    "        self.resnet = models.resnet18() \n",
    "        self.FC = nn.Linear(1000, 26)\n",
    "\n",
    "    def forward(self, x):\n",
    "        # resnet의 입력은 [3, N, N]으로\n",
    "        # 3개의 채널을 갖기 때문에\n",
    "        # resnet 입력 전에 conv2d를 한 층 추가\n",
    "        x = F.relu(self.conv2d(x))\n",
    "\n",
    "        # resnet18을 추가\n",
    "        x = F.relu(self.resnet(x))\n",
    "\n",
    "        # 마지막 출력에 nn.Linear를 추가\n",
    "        # multilabel을 예측해야 하기 때문에\n",
    "        # softmax가 아닌 sigmoid를 적용\n",
    "        x = torch.sigmoid(self.FC(x))\n",
    "        return x\n",
    "# 모델 선언\n",
    "model = MultiLabelResnet()\n",
    "model"
   ]
  },
  {
   "cell_type": "code",
   "execution_count": 108,
   "metadata": {
    "scrolled": true
   },
   "outputs": [
    {
     "name": "stdout",
     "output_type": "stream",
     "text": [
      "[fold: 1]\n"
     ]
    },
    {
     "name": "stderr",
     "output_type": "stream",
     "text": [
      "  0%|                                                                                       | 0/313 [00:00<?, ?batch/s]\n"
     ]
    },
    {
     "ename": "BrokenPipeError",
     "evalue": "[Errno 32] Broken pipe",
     "output_type": "error",
     "traceback": [
      "\u001b[1;31m---------------------------------------------------------------------------\u001b[0m",
      "\u001b[1;31mBrokenPipeError\u001b[0m                           Traceback (most recent call last)",
      "\u001b[1;32m<ipython-input-108-9f0d6a7d70e5>\u001b[0m in \u001b[0;36m<module>\u001b[1;34m\u001b[0m\n\u001b[0;32m     52\u001b[0m                 \u001b[0mtotal\u001b[0m\u001b[1;33m=\u001b[0m\u001b[0mtrain_data_loader\u001b[0m\u001b[1;33m.\u001b[0m\u001b[0m__len__\u001b[0m\u001b[1;33m(\u001b[0m\u001b[1;33m)\u001b[0m\u001b[1;33m,\u001b[0m \u001b[1;31m# train_data_loader의 크기\u001b[0m\u001b[1;33m\u001b[0m\u001b[1;33m\u001b[0m\u001b[0m\n\u001b[0;32m     53\u001b[0m                 unit=\"batch\") as train_bar:# 한번 반환하는 smaple의 단위는 \"batch\"\n\u001b[1;32m---> 54\u001b[1;33m             \u001b[1;32mfor\u001b[0m \u001b[0msample\u001b[0m \u001b[1;32min\u001b[0m \u001b[0mtrain_bar\u001b[0m\u001b[1;33m:\u001b[0m\u001b[1;33m\u001b[0m\u001b[1;33m\u001b[0m\u001b[0m\n\u001b[0m\u001b[0;32m     55\u001b[0m                 \u001b[0mtrain_bar\u001b[0m\u001b[1;33m.\u001b[0m\u001b[0mset_description\u001b[0m\u001b[1;33m(\u001b[0m\u001b[1;34mf\"Train Epoch {epoch}\"\u001b[0m\u001b[1;33m)\u001b[0m\u001b[1;33m\u001b[0m\u001b[1;33m\u001b[0m\u001b[0m\n\u001b[0;32m     56\u001b[0m                 \u001b[1;31m# 갱신할 변수들에 대한 모든 변화도를 0으로 초기화\u001b[0m\u001b[1;33m\u001b[0m\u001b[1;33m\u001b[0m\u001b[1;33m\u001b[0m\u001b[0m\n",
      "\u001b[1;32m~\\Anaconda3\\lib\\site-packages\\tqdm\\_tqdm.py\u001b[0m in \u001b[0;36m__iter__\u001b[1;34m(self)\u001b[0m\n\u001b[0;32m   1003\u001b[0m                 \"\"\"), fp_write=getattr(self.fp, 'write', sys.stderr.write))\n\u001b[0;32m   1004\u001b[0m \u001b[1;33m\u001b[0m\u001b[0m\n\u001b[1;32m-> 1005\u001b[1;33m             \u001b[1;32mfor\u001b[0m \u001b[0mobj\u001b[0m \u001b[1;32min\u001b[0m \u001b[0miterable\u001b[0m\u001b[1;33m:\u001b[0m\u001b[1;33m\u001b[0m\u001b[1;33m\u001b[0m\u001b[0m\n\u001b[0m\u001b[0;32m   1006\u001b[0m                 \u001b[1;32myield\u001b[0m \u001b[0mobj\u001b[0m\u001b[1;33m\u001b[0m\u001b[1;33m\u001b[0m\u001b[0m\n\u001b[0;32m   1007\u001b[0m                 \u001b[1;31m# Update and possibly print the progressbar.\u001b[0m\u001b[1;33m\u001b[0m\u001b[1;33m\u001b[0m\u001b[1;33m\u001b[0m\u001b[0m\n",
      "\u001b[1;32m~\\Anaconda3\\lib\\site-packages\\torch\\utils\\data\\dataloader.py\u001b[0m in \u001b[0;36m__iter__\u001b[1;34m(self)\u001b[0m\n\u001b[0;32m    499\u001b[0m \u001b[1;33m\u001b[0m\u001b[0m\n\u001b[0;32m    500\u001b[0m     \u001b[1;32mdef\u001b[0m \u001b[0m__iter__\u001b[0m\u001b[1;33m(\u001b[0m\u001b[0mself\u001b[0m\u001b[1;33m)\u001b[0m\u001b[1;33m:\u001b[0m\u001b[1;33m\u001b[0m\u001b[1;33m\u001b[0m\u001b[0m\n\u001b[1;32m--> 501\u001b[1;33m         \u001b[1;32mreturn\u001b[0m \u001b[0m_DataLoaderIter\u001b[0m\u001b[1;33m(\u001b[0m\u001b[0mself\u001b[0m\u001b[1;33m)\u001b[0m\u001b[1;33m\u001b[0m\u001b[1;33m\u001b[0m\u001b[0m\n\u001b[0m\u001b[0;32m    502\u001b[0m \u001b[1;33m\u001b[0m\u001b[0m\n\u001b[0;32m    503\u001b[0m     \u001b[1;32mdef\u001b[0m \u001b[0m__len__\u001b[0m\u001b[1;33m(\u001b[0m\u001b[0mself\u001b[0m\u001b[1;33m)\u001b[0m\u001b[1;33m:\u001b[0m\u001b[1;33m\u001b[0m\u001b[1;33m\u001b[0m\u001b[0m\n",
      "\u001b[1;32m~\\Anaconda3\\lib\\site-packages\\torch\\utils\\data\\dataloader.py\u001b[0m in \u001b[0;36m__init__\u001b[1;34m(self, loader)\u001b[0m\n\u001b[0;32m    287\u001b[0m             \u001b[1;32mfor\u001b[0m \u001b[0mw\u001b[0m \u001b[1;32min\u001b[0m \u001b[0mself\u001b[0m\u001b[1;33m.\u001b[0m\u001b[0mworkers\u001b[0m\u001b[1;33m:\u001b[0m\u001b[1;33m\u001b[0m\u001b[1;33m\u001b[0m\u001b[0m\n\u001b[0;32m    288\u001b[0m                 \u001b[0mw\u001b[0m\u001b[1;33m.\u001b[0m\u001b[0mdaemon\u001b[0m \u001b[1;33m=\u001b[0m \u001b[1;32mTrue\u001b[0m  \u001b[1;31m# ensure that the worker exits on process exit\u001b[0m\u001b[1;33m\u001b[0m\u001b[1;33m\u001b[0m\u001b[0m\n\u001b[1;32m--> 289\u001b[1;33m                 \u001b[0mw\u001b[0m\u001b[1;33m.\u001b[0m\u001b[0mstart\u001b[0m\u001b[1;33m(\u001b[0m\u001b[1;33m)\u001b[0m\u001b[1;33m\u001b[0m\u001b[1;33m\u001b[0m\u001b[0m\n\u001b[0m\u001b[0;32m    290\u001b[0m \u001b[1;33m\u001b[0m\u001b[0m\n\u001b[0;32m    291\u001b[0m             \u001b[0m_update_worker_pids\u001b[0m\u001b[1;33m(\u001b[0m\u001b[0mid\u001b[0m\u001b[1;33m(\u001b[0m\u001b[0mself\u001b[0m\u001b[1;33m)\u001b[0m\u001b[1;33m,\u001b[0m \u001b[0mtuple\u001b[0m\u001b[1;33m(\u001b[0m\u001b[0mw\u001b[0m\u001b[1;33m.\u001b[0m\u001b[0mpid\u001b[0m \u001b[1;32mfor\u001b[0m \u001b[0mw\u001b[0m \u001b[1;32min\u001b[0m \u001b[0mself\u001b[0m\u001b[1;33m.\u001b[0m\u001b[0mworkers\u001b[0m\u001b[1;33m)\u001b[0m\u001b[1;33m)\u001b[0m\u001b[1;33m\u001b[0m\u001b[1;33m\u001b[0m\u001b[0m\n",
      "\u001b[1;32m~\\Anaconda3\\lib\\multiprocessing\\process.py\u001b[0m in \u001b[0;36mstart\u001b[1;34m(self)\u001b[0m\n\u001b[0;32m    110\u001b[0m                \u001b[1;34m'daemonic processes are not allowed to have children'\u001b[0m\u001b[1;33m\u001b[0m\u001b[1;33m\u001b[0m\u001b[0m\n\u001b[0;32m    111\u001b[0m         \u001b[0m_cleanup\u001b[0m\u001b[1;33m(\u001b[0m\u001b[1;33m)\u001b[0m\u001b[1;33m\u001b[0m\u001b[1;33m\u001b[0m\u001b[0m\n\u001b[1;32m--> 112\u001b[1;33m         \u001b[0mself\u001b[0m\u001b[1;33m.\u001b[0m\u001b[0m_popen\u001b[0m \u001b[1;33m=\u001b[0m \u001b[0mself\u001b[0m\u001b[1;33m.\u001b[0m\u001b[0m_Popen\u001b[0m\u001b[1;33m(\u001b[0m\u001b[0mself\u001b[0m\u001b[1;33m)\u001b[0m\u001b[1;33m\u001b[0m\u001b[1;33m\u001b[0m\u001b[0m\n\u001b[0m\u001b[0;32m    113\u001b[0m         \u001b[0mself\u001b[0m\u001b[1;33m.\u001b[0m\u001b[0m_sentinel\u001b[0m \u001b[1;33m=\u001b[0m \u001b[0mself\u001b[0m\u001b[1;33m.\u001b[0m\u001b[0m_popen\u001b[0m\u001b[1;33m.\u001b[0m\u001b[0msentinel\u001b[0m\u001b[1;33m\u001b[0m\u001b[1;33m\u001b[0m\u001b[0m\n\u001b[0;32m    114\u001b[0m         \u001b[1;31m# Avoid a refcycle if the target function holds an indirect\u001b[0m\u001b[1;33m\u001b[0m\u001b[1;33m\u001b[0m\u001b[1;33m\u001b[0m\u001b[0m\n",
      "\u001b[1;32m~\\Anaconda3\\lib\\multiprocessing\\context.py\u001b[0m in \u001b[0;36m_Popen\u001b[1;34m(process_obj)\u001b[0m\n\u001b[0;32m    221\u001b[0m     \u001b[1;33m@\u001b[0m\u001b[0mstaticmethod\u001b[0m\u001b[1;33m\u001b[0m\u001b[1;33m\u001b[0m\u001b[0m\n\u001b[0;32m    222\u001b[0m     \u001b[1;32mdef\u001b[0m \u001b[0m_Popen\u001b[0m\u001b[1;33m(\u001b[0m\u001b[0mprocess_obj\u001b[0m\u001b[1;33m)\u001b[0m\u001b[1;33m:\u001b[0m\u001b[1;33m\u001b[0m\u001b[1;33m\u001b[0m\u001b[0m\n\u001b[1;32m--> 223\u001b[1;33m         \u001b[1;32mreturn\u001b[0m \u001b[0m_default_context\u001b[0m\u001b[1;33m.\u001b[0m\u001b[0mget_context\u001b[0m\u001b[1;33m(\u001b[0m\u001b[1;33m)\u001b[0m\u001b[1;33m.\u001b[0m\u001b[0mProcess\u001b[0m\u001b[1;33m.\u001b[0m\u001b[0m_Popen\u001b[0m\u001b[1;33m(\u001b[0m\u001b[0mprocess_obj\u001b[0m\u001b[1;33m)\u001b[0m\u001b[1;33m\u001b[0m\u001b[1;33m\u001b[0m\u001b[0m\n\u001b[0m\u001b[0;32m    224\u001b[0m \u001b[1;33m\u001b[0m\u001b[0m\n\u001b[0;32m    225\u001b[0m \u001b[1;32mclass\u001b[0m \u001b[0mDefaultContext\u001b[0m\u001b[1;33m(\u001b[0m\u001b[0mBaseContext\u001b[0m\u001b[1;33m)\u001b[0m\u001b[1;33m:\u001b[0m\u001b[1;33m\u001b[0m\u001b[1;33m\u001b[0m\u001b[0m\n",
      "\u001b[1;32m~\\Anaconda3\\lib\\multiprocessing\\context.py\u001b[0m in \u001b[0;36m_Popen\u001b[1;34m(process_obj)\u001b[0m\n\u001b[0;32m    320\u001b[0m         \u001b[1;32mdef\u001b[0m \u001b[0m_Popen\u001b[0m\u001b[1;33m(\u001b[0m\u001b[0mprocess_obj\u001b[0m\u001b[1;33m)\u001b[0m\u001b[1;33m:\u001b[0m\u001b[1;33m\u001b[0m\u001b[1;33m\u001b[0m\u001b[0m\n\u001b[0;32m    321\u001b[0m             \u001b[1;32mfrom\u001b[0m \u001b[1;33m.\u001b[0m\u001b[0mpopen_spawn_win32\u001b[0m \u001b[1;32mimport\u001b[0m \u001b[0mPopen\u001b[0m\u001b[1;33m\u001b[0m\u001b[1;33m\u001b[0m\u001b[0m\n\u001b[1;32m--> 322\u001b[1;33m             \u001b[1;32mreturn\u001b[0m \u001b[0mPopen\u001b[0m\u001b[1;33m(\u001b[0m\u001b[0mprocess_obj\u001b[0m\u001b[1;33m)\u001b[0m\u001b[1;33m\u001b[0m\u001b[1;33m\u001b[0m\u001b[0m\n\u001b[0m\u001b[0;32m    323\u001b[0m \u001b[1;33m\u001b[0m\u001b[0m\n\u001b[0;32m    324\u001b[0m     \u001b[1;32mclass\u001b[0m \u001b[0mSpawnContext\u001b[0m\u001b[1;33m(\u001b[0m\u001b[0mBaseContext\u001b[0m\u001b[1;33m)\u001b[0m\u001b[1;33m:\u001b[0m\u001b[1;33m\u001b[0m\u001b[1;33m\u001b[0m\u001b[0m\n",
      "\u001b[1;32m~\\Anaconda3\\lib\\multiprocessing\\popen_spawn_win32.py\u001b[0m in \u001b[0;36m__init__\u001b[1;34m(self, process_obj)\u001b[0m\n\u001b[0;32m     87\u001b[0m             \u001b[1;32mtry\u001b[0m\u001b[1;33m:\u001b[0m\u001b[1;33m\u001b[0m\u001b[1;33m\u001b[0m\u001b[0m\n\u001b[0;32m     88\u001b[0m                 \u001b[0mreduction\u001b[0m\u001b[1;33m.\u001b[0m\u001b[0mdump\u001b[0m\u001b[1;33m(\u001b[0m\u001b[0mprep_data\u001b[0m\u001b[1;33m,\u001b[0m \u001b[0mto_child\u001b[0m\u001b[1;33m)\u001b[0m\u001b[1;33m\u001b[0m\u001b[1;33m\u001b[0m\u001b[0m\n\u001b[1;32m---> 89\u001b[1;33m                 \u001b[0mreduction\u001b[0m\u001b[1;33m.\u001b[0m\u001b[0mdump\u001b[0m\u001b[1;33m(\u001b[0m\u001b[0mprocess_obj\u001b[0m\u001b[1;33m,\u001b[0m \u001b[0mto_child\u001b[0m\u001b[1;33m)\u001b[0m\u001b[1;33m\u001b[0m\u001b[1;33m\u001b[0m\u001b[0m\n\u001b[0m\u001b[0;32m     90\u001b[0m             \u001b[1;32mfinally\u001b[0m\u001b[1;33m:\u001b[0m\u001b[1;33m\u001b[0m\u001b[1;33m\u001b[0m\u001b[0m\n\u001b[0;32m     91\u001b[0m                 \u001b[0mset_spawning_popen\u001b[0m\u001b[1;33m(\u001b[0m\u001b[1;32mNone\u001b[0m\u001b[1;33m)\u001b[0m\u001b[1;33m\u001b[0m\u001b[1;33m\u001b[0m\u001b[0m\n",
      "\u001b[1;32m~\\Anaconda3\\lib\\multiprocessing\\reduction.py\u001b[0m in \u001b[0;36mdump\u001b[1;34m(obj, file, protocol)\u001b[0m\n\u001b[0;32m     58\u001b[0m \u001b[1;32mdef\u001b[0m \u001b[0mdump\u001b[0m\u001b[1;33m(\u001b[0m\u001b[0mobj\u001b[0m\u001b[1;33m,\u001b[0m \u001b[0mfile\u001b[0m\u001b[1;33m,\u001b[0m \u001b[0mprotocol\u001b[0m\u001b[1;33m=\u001b[0m\u001b[1;32mNone\u001b[0m\u001b[1;33m)\u001b[0m\u001b[1;33m:\u001b[0m\u001b[1;33m\u001b[0m\u001b[1;33m\u001b[0m\u001b[0m\n\u001b[0;32m     59\u001b[0m     \u001b[1;34m'''Replacement for pickle.dump() using ForkingPickler.'''\u001b[0m\u001b[1;33m\u001b[0m\u001b[1;33m\u001b[0m\u001b[0m\n\u001b[1;32m---> 60\u001b[1;33m     \u001b[0mForkingPickler\u001b[0m\u001b[1;33m(\u001b[0m\u001b[0mfile\u001b[0m\u001b[1;33m,\u001b[0m \u001b[0mprotocol\u001b[0m\u001b[1;33m)\u001b[0m\u001b[1;33m.\u001b[0m\u001b[0mdump\u001b[0m\u001b[1;33m(\u001b[0m\u001b[0mobj\u001b[0m\u001b[1;33m)\u001b[0m\u001b[1;33m\u001b[0m\u001b[1;33m\u001b[0m\u001b[0m\n\u001b[0m\u001b[0;32m     61\u001b[0m \u001b[1;33m\u001b[0m\u001b[0m\n\u001b[0;32m     62\u001b[0m \u001b[1;31m#\u001b[0m\u001b[1;33m\u001b[0m\u001b[1;33m\u001b[0m\u001b[1;33m\u001b[0m\u001b[0m\n",
      "\u001b[1;31mBrokenPipeError\u001b[0m: [Errno 32] Broken pipe"
     ]
    }
   ],
   "source": [
    "# cross validation을 적용하기 위해 KFold 생성\n",
    "from sklearn.model_selection import KFold\n",
    "kfold = KFold(n_splits=5, shuffle=True, random_state=0)\n",
    "\n",
    "# dirty_mnist_answer에서 train_idx와 val_idx를 생성\n",
    "best_models = [] # 폴드별로 가장 validation acc가 높은 모델 저장\n",
    "for fold_index, (trn_idx, val_idx) in enumerate(kfold.split(dirty_mnist_answer),1):\n",
    "    print(f'[fold: {fold_index}]')\n",
    "    # cuda cache 초기화\n",
    "    torch.cuda.empty_cache()\n",
    "\n",
    "    #train fold, validation fold 분할\n",
    "    train_answer = dirty_mnist_answer.iloc[trn_idx]\n",
    "    test_answer  = dirty_mnist_answer.iloc[val_idx]\n",
    "\n",
    "    #Dataset 정의\n",
    "    train_dataset = DatasetMNIST(\"dirty_mnist/\", train_answer)\n",
    "    valid_dataset = DatasetMNIST(\"dirty_mnist/\", test_answer)\n",
    "\n",
    "    #DataLoader 정의\n",
    "    train_data_loader = DataLoader(\n",
    "        train_dataset,\n",
    "        batch_size = 128,\n",
    "        shuffle = False,\n",
    "        num_workers = 3\n",
    "    )\n",
    "    valid_data_loader = DataLoader(\n",
    "        valid_dataset,\n",
    "        batch_size = 32,\n",
    "        shuffle = False,\n",
    "        num_workers = 3\n",
    "    )\n",
    "\n",
    "    # 모델 선언\n",
    "    model = MultiLabelResnet()\n",
    "    model.to(device)# gpu에 모델 할당\n",
    "\n",
    "    # 훈련 옵션 설정\n",
    "    optimizer = torch.optim.Adam(model.parameters(),\n",
    "                                lr = 0.001)\n",
    "    lr_scheduler = torch.optim.lr_scheduler.StepLR(optimizer,\n",
    "                                                step_size = 5,\n",
    "                                                gamma = 0.75)\n",
    "    criterion = torch.nn.BCELoss()\n",
    "\n",
    "    # 훈련 시작\n",
    "    valid_acc_max = 0\n",
    "    for epoch in range(10):\n",
    "        # 1개 epoch 훈련\n",
    "        train_acc_list = []\n",
    "        with tqdm(train_data_loader,#train_data_loader를 iterative하게 반환\n",
    "                total=train_data_loader.__len__(), # train_data_loader의 크기\n",
    "                unit=\"batch\") as train_bar:# 한번 반환하는 smaple의 단위는 \"batch\"\n",
    "            for sample in train_bar:\n",
    "                train_bar.set_description(f\"Train Epoch {epoch}\")\n",
    "                # 갱신할 변수들에 대한 모든 변화도를 0으로 초기화\n",
    "                # 참고)https://tutorials.pytorch.kr/beginner/pytorch_with_examples.html\n",
    "                optimizer.zero_grad()\n",
    "                images, labels = sample['image'], sample['label']\n",
    "                # tensor를 gpu에 올리기 \n",
    "                images = images.to(device)\n",
    "                labels = labels.to(device)\n",
    "\n",
    "                # 모델의 dropoupt, batchnormalization를 train 모드로 설정\n",
    "                model.train()\n",
    "                # .forward()에서 중간 노드의 gradient를 계산\n",
    "                with torch.set_grad_enabled(True):\n",
    "                    # 모델 예측\n",
    "                    probs  = model(images)\n",
    "                    # loss 계산\n",
    "                    loss = criterion(probs, labels)\n",
    "                    # 중간 노드의 gradient로\n",
    "                    # backpropagation을 적용하여\n",
    "                    # gradient 계산\n",
    "                    loss.backward()\n",
    "                    # weight 갱신\n",
    "                    optimizer.step()\n",
    "\n",
    "                    # train accuracy 계산\n",
    "                    probs  = probs.cpu().detach().numpy()\n",
    "                    labels = labels.cpu().detach().numpy()\n",
    "                    preds = probs > 0.5\n",
    "                    batch_acc = (labels == preds).mean()\n",
    "                    train_acc_list.append(batch_acc)\n",
    "                    train_acc = np.mean(train_acc_list)\n",
    "\n",
    "                # 현재 progress bar에 현재 미니배치의 loss 결과 출력\n",
    "                train_bar.set_postfix(train_loss= loss.item(),\n",
    "                                      train_acc = train_acc)\n",
    "                \n",
    "\n",
    "        # 1개 epoch학습 후 Validation 점수 계산\n",
    "        valid_acc_list = []\n",
    "        with tqdm(valid_data_loader,\n",
    "                total=valid_data_loader.__len__(),\n",
    "                unit=\"batch\") as valid_bar:\n",
    "            for sample in valid_bar:\n",
    "                valid_bar.set_description(f\"Valid Epoch {epoch}\")\n",
    "                optimizer.zero_grad()\n",
    "                images, labels = sample['image'], sample['label']\n",
    "                images = images.to(device)\n",
    "                labels = labels.to(device)\n",
    "\n",
    "                # 모델의 dropoupt, batchnormalization를 eval모드로 설정\n",
    "                model.eval()\n",
    "                # .forward()에서 중간 노드의 gradient를 계산\n",
    "                with torch.no_grad():\n",
    "                    # validation loss만을 계산\n",
    "                    probs  = model(images)\n",
    "                    valid_loss = criterion(probs, labels)\n",
    "\n",
    "                    # train accuracy 계산\n",
    "                    probs  = probs.cpu().detach().numpy()\n",
    "                    labels = labels.cpu().detach().numpy()\n",
    "                    preds = probs > 0.5\n",
    "                    batch_acc = (labels == preds).mean()\n",
    "                    valid_acc_list.append(batch_acc)\n",
    "\n",
    "                valid_acc = np.mean(valid_acc_list)\n",
    "                valid_bar.set_postfix(valid_loss = valid_loss.item(),\n",
    "                                      valid_acc = valid_acc)\n",
    "            \n",
    "        # Learning rate 조절\n",
    "        lr_scheduler.step()\n",
    "\n",
    "        # 모델 저장\n",
    "        if valid_acc_max < valid_acc:\n",
    "            valid_acc_max = valid_acc\n",
    "            best_model = model\n",
    "            MODEL = \"resnet18\"\n",
    "            # 모델을 저장할 구글 드라이브 경로\n",
    "            path = \"/content/drive/MyDrive/월간데이콘 12/notebook/models/\"\n",
    "            torch.save(best_model, f'{path}{fold_index}_{MODEL}_{valid_loss.item():2.4f}_epoch_{epoch}.pth')\n",
    "\n",
    "    # 폴드별로 가장 좋은 모델 저장\n",
    "    best_models.append(best_model)"
   ]
  },
  {
   "cell_type": "code",
   "execution_count": null,
   "metadata": {},
   "outputs": [],
   "source": []
  }
 ],
 "metadata": {
  "kernelspec": {
   "display_name": "Python 3",
   "language": "python",
   "name": "python3"
  },
  "language_info": {
   "codemirror_mode": {
    "name": "ipython",
    "version": 3
   },
   "file_extension": ".py",
   "mimetype": "text/x-python",
   "name": "python",
   "nbconvert_exporter": "python",
   "pygments_lexer": "ipython3",
   "version": "3.7.3"
  }
 },
 "nbformat": 4,
 "nbformat_minor": 2
}
