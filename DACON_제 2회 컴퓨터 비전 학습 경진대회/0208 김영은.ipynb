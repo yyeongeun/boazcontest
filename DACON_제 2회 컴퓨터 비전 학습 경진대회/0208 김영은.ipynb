{
 "cells": [
  {
   "cell_type": "markdown",
   "metadata": {},
   "source": [
    "### 제_2회 컴퓨터 비전 학습 경진대회 베이스라인 코드.ipynb "
   ]
  },
  {
   "cell_type": "code",
   "execution_count": null,
   "metadata": {},
   "outputs": [],
   "source": [
    "from google.colab import output\n",
    "# 현재 디렉터리에 dirty_mnist라는 폴더 생성\n",
    "#!mkdir \"./dirty_mnist\"\n",
    "#dirty_mnist_2nd.zip라는 zip파일을 dirty_mnist라는 폴더에 압축 풀기\n",
    "!unzip \"dirty_mnist.zip\" -d \"./dirty_mnist/\"\n",
    "# 현재 디렉터리에 test_dirty_mnist라는 폴더 생성\n",
    "!mkdir \"./test_dirty_mnist\"\n",
    "#test_dirty_mnist.zip라는 zip파일을 test_dirty_mnist라는 폴더에 압축 풀기\n",
    "!unzip \"test_dirty_mnist.zip\" -d \"./test_dirty_mnist/\"\n",
    "# 출력 결과 지우기\n",
    "output.clear()"
   ]
  },
  {
   "cell_type": "code",
   "execution_count": 1,
   "metadata": {},
   "outputs": [],
   "source": [
    "import pandas as pd\n",
    "import numpy as np\n",
    "import os"
   ]
  },
  {
   "cell_type": "code",
   "execution_count": 2,
   "metadata": {},
   "outputs": [
    {
     "ename": "FileNotFoundError",
     "evalue": "[WinError 3] 지정된 경로를 찾을 수 없습니다: './dirty_mnist/'",
     "output_type": "error",
     "traceback": [
      "\u001b[1;31m---------------------------------------------------------------------------\u001b[0m",
      "\u001b[1;31mFileNotFoundError\u001b[0m                         Traceback (most recent call last)",
      "\u001b[1;32m<ipython-input-2-6a83a14f492b>\u001b[0m in \u001b[0;36m<module>\u001b[1;34m\u001b[0m\n\u001b[0;32m      2\u001b[0m \u001b[1;31m# dirty_mnist라는 디렉터리 속에 들어있는 파일들의 이름을\u001b[0m\u001b[1;33m\u001b[0m\u001b[1;33m\u001b[0m\u001b[1;33m\u001b[0m\u001b[0m\n\u001b[0;32m      3\u001b[0m \u001b[1;31m# namelist라는 변수에 저장\u001b[0m\u001b[1;33m\u001b[0m\u001b[1;33m\u001b[0m\u001b[1;33m\u001b[0m\u001b[0m\n\u001b[1;32m----> 4\u001b[1;33m \u001b[0mnamelist\u001b[0m \u001b[1;33m=\u001b[0m \u001b[0mos\u001b[0m\u001b[1;33m.\u001b[0m\u001b[0mlistdir\u001b[0m\u001b[1;33m(\u001b[0m\u001b[1;34m'./dirty_mnist/'\u001b[0m\u001b[1;33m)\u001b[0m\u001b[1;33m\u001b[0m\u001b[1;33m\u001b[0m\u001b[0m\n\u001b[0m",
      "\u001b[1;31mFileNotFoundError\u001b[0m: [WinError 3] 지정된 경로를 찾을 수 없습니다: './dirty_mnist/'"
     ]
    }
   ],
   "source": [
    "dirty_mnist_answer = pd.read_csv(\"C:/Users/yeongeunkim/Desktop/github/boazhappy repository/DACON_제 2회 컴퓨터 비전 학습 경진대회/2차 배포/dirty_mnist_2nd_answer.csv\")\n",
    "# dirty_mnist라는 디렉터리 속에 들어있는 파일들의 이름을 \n",
    "# namelist라는 변수에 저장\n",
    "namelist = os.listdir('./dirty_mnist/')\n"
   ]
  },
  {
   "cell_type": "code",
   "execution_count": null,
   "metadata": {},
   "outputs": [],
   "source": []
  },
  {
   "cell_type": "code",
   "execution_count": null,
   "metadata": {},
   "outputs": [],
   "source": []
  },
  {
   "cell_type": "code",
   "execution_count": null,
   "metadata": {},
   "outputs": [],
   "source": []
  }
 ],
 "metadata": {
  "kernelspec": {
   "display_name": "Python 3",
   "language": "python",
   "name": "python3"
  },
  "language_info": {
   "codemirror_mode": {
    "name": "ipython",
    "version": 3
   },
   "file_extension": ".py",
   "mimetype": "text/x-python",
   "name": "python",
   "nbconvert_exporter": "python",
   "pygments_lexer": "ipython3",
   "version": "3.7.3"
  }
 },
 "nbformat": 4,
 "nbformat_minor": 2
}
